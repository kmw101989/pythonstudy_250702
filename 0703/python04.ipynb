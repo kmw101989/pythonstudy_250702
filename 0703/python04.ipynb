{
 "cells": [
  {
   "cell_type": "code",
   "execution_count": 16,
   "id": "49bd1081-ecca-4c8e-9ab9-e1d72e3c7776",
   "metadata": {},
   "outputs": [
    {
     "name": "stdin",
     "output_type": "stream",
     "text": [
      "score? 110\n"
     ]
    },
    {
     "name": "stdout",
     "output_type": "stream",
     "text": [
      "B\n"
     ]
    }
   ],
   "source": [
    "# 사용자로부터 점수를입력 받은 후 등급을 출력하세요 \n",
    "#100~81 : A / 80~61 : B / 60~0 : c\n",
    "score = int(input(\"score?\"))\n",
    "\n",
    "if score > 80 and score <= 100 : \n",
    "    print(\"A\")\n",
    "else :\n",
    "    if score > 0 :\n",
    "        if score >60 : \n",
    "            print(\"B\")\n",
    "        else :\n",
    "            print(\"C\")\n",
    "    "
   ]
  },
  {
   "cell_type": "code",
   "execution_count": 46,
   "id": "8815a12b-84db-41c5-9330-9c501132d805",
   "metadata": {},
   "outputs": [
    {
     "name": "stdin",
     "output_type": "stream",
     "text": [
      "주민번호 101010-1010101\n"
     ]
    },
    {
     "name": "stdout",
     "output_type": "stream",
     "text": [
      "10 년생입니다\n"
     ]
    }
   ],
   "source": [
    "# 사용자로부터 주민등록번호를 입력받아서 출생연도만 확인 후 출력해주세요 \n",
    "id1 = str(input(\"주민번호\"))\n",
    "print(f\"{id1[0:2]} 년생입니다\")\n"
   ]
  },
  {
   "cell_type": "code",
   "execution_count": 47,
   "id": "32aa8081-b934-4b61-9a98-57e584fa6e51",
   "metadata": {},
   "outputs": [
    {
     "name": "stdout",
     "output_type": "stream",
     "text": [
      "10 년생입니다\n"
     ]
    }
   ],
   "source": [
    "id2 = id1.split(\"-\")\n",
    "print(f\"{id2[0][0:2]} 년생입니다\") #id2의 0번째 인덱스에서 또 한번 0:2 인덱스로 "
   ]
  },
  {
   "cell_type": "code",
   "execution_count": 57,
   "id": "e6d5ad8b-6c6c-4a1f-8684-fb55281045f6",
   "metadata": {},
   "outputs": [
    {
     "name": "stdout",
     "output_type": "stream",
     "text": [
      "남성\n"
     ]
    }
   ],
   "source": [
    "# 사용자로부터 주민등록번호를 입력 받아 성별을 \"남성\" 또는 \"여성\"으로 출력\n",
    "id3 = int(id2[1][0]) \n",
    "if id3 % 2 == 1 : \n",
    "    print(\"남성\")\n",
    "elif id3 % 2 == 0 :\n",
    "    print(\"여성\")"
   ]
  },
  {
   "cell_type": "code",
   "execution_count": 66,
   "id": "8979aea6-9f47-4b50-a4bd-abaefeff3fe4",
   "metadata": {},
   "outputs": [
    {
     "data": {
      "text/plain": [
       "'a man goes into the room'"
      ]
     },
     "execution_count": 66,
     "metadata": {},
     "output_type": "execute_result"
    }
   ],
   "source": [
    "mystr = \"a man goes into the room...\"\n",
    "\n",
    "result = mystr.strip(\".\")\n",
    "result"
   ]
  },
  {
   "cell_type": "code",
   "execution_count": 72,
   "id": "3021c91f-8a73-4524-8e56-4877a6d9c256",
   "metadata": {},
   "outputs": [
    {
     "data": {
      "text/plain": [
       "'000770'"
      ]
     },
     "execution_count": 72,
     "metadata": {},
     "output_type": "execute_result"
    }
   ],
   "source": [
    "code = \"000770\\n\"\n",
    "code.strip() \n",
    "\n",
    "#strip() : 문자열 앞,뒤 상관없이 공백이라고 판단되는 문자열(공백,tab,개행) 을 모두 제거하는 역할을 하는 함수 \n",
    "#\\n : 줄바꿈 \n",
    "#\\t : tab \n",
    "\n"
   ]
  },
  {
   "cell_type": "code",
   "execution_count": 75,
   "id": "09e84309-24d5-4396-a8cb-2979b58edd03",
   "metadata": {},
   "outputs": [
    {
     "name": "stdout",
     "output_type": "stream",
     "text": [
      "3\n"
     ]
    },
    {
     "data": {
      "text/plain": [
       "0"
      ]
     },
     "execution_count": 75,
     "metadata": {},
     "output_type": "execute_result"
    }
   ],
   "source": [
    "python_desc = \"Installing Python is generally easy, and nowadays many Linux and UNIX distributions include a recent Python. Even some Windows computers (notably those from HP) now come with Python already installed.\"\n",
    "print(python_desc.count(\"Python\"))\n",
    "python_desc.count(\"python\")"
   ]
  },
  {
   "cell_type": "code",
   "execution_count": 77,
   "id": "a9f4d018-f5c4-4c4b-90d7-fda5606df450",
   "metadata": {},
   "outputs": [
    {
     "name": "stdin",
     "output_type": "stream",
     "text": [
      "note tete\n"
     ]
    },
    {
     "name": "stdout",
     "output_type": "stream",
     "text": [
      "1\n"
     ]
    }
   ],
   "source": [
    "#사용자로부터 note 라는 문자열을 받았다고 가정하고 , 해당 문자열 안에 n 이 들어가있는지 확인. 있다면 0, 없다면 1 \n",
    "note = input(\"note\")\n",
    "note1=note.count(\"n\")\n",
    "if note1 == 0 :\n",
    "    print(\"1\")\n",
    "else :\n",
    "    print(\"0\")\n"
   ]
  },
  {
   "cell_type": "code",
   "execution_count": 95,
   "id": "37ddaf80-2a7a-4169-b188-ae9ba1ba25e3",
   "metadata": {},
   "outputs": [
    {
     "name": "stdin",
     "output_type": "stream",
     "text": [
      " ㅠ\n"
     ]
    }
   ],
   "source": [
    "letters = input()\n",
    "\n",
    "var = letters.find(\"n\")\n",
    "#일반적인 프로그래밍언어는 true / false 형태임 \n",
    "#truethy, falsy => 참인듯한 값, 거짓인듯한 값 \n",
    "# 0,null,undefined => falsy\n",
    "# 파이썬에서는 0 => truethy , -1 => falsy\n",
    "\n",
    "#if var == 0 : \n",
    "#    print(\"0\")\n",
    "#else :\n",
    "#    print(\"1\")"
   ]
  },
  {
   "cell_type": "code",
   "execution_count": 111,
   "id": "c031734e-3cef-4d6b-a3c7-6eb465a52107",
   "metadata": {},
   "outputs": [
    {
     "name": "stdin",
     "output_type": "stream",
     "text": [
      " 123123-1111111\n"
     ]
    },
    {
     "name": "stdout",
     "output_type": "stream",
     "text": [
      "busan\n"
     ]
    }
   ],
   "source": [
    "#사용자로부터 주민등록번호를 입력받은 후 사용자의 출생지가 어디인지 확인 후 출력해주세요\n",
    "#주민등록번호 뒷자리 중에서 첫번째 수는 성별 두번째 숫자부터 세번째까지가 출생지를 의미함 \n",
    "#00~08 서울 / 09~12 부산 /13~15 인천\n",
    "\n",
    "code1 = input()\n",
    "code2 = int(code1.split(\"-\")[1][1:3])\n",
    "\n",
    "if code2 >= 0 and code2 <= 8 :\n",
    "    print(\"seoul\")\n",
    "elif code2 >= 9 and code2 <= 12 :\n",
    "    print(\"busan\")\n",
    "elif code2 >= 13 and code2 <= 15 :\n",
    "    print(\"incheon\")"
   ]
  },
  {
   "cell_type": "code",
   "execution_count": 110,
   "id": "ff646d87-d527-4f7c-8c86-b748cb130bbb",
   "metadata": {},
   "outputs": [
    {
     "data": {
      "text/plain": [
       "'12'"
      ]
     },
     "execution_count": 110,
     "metadata": {},
     "output_type": "execute_result"
    }
   ],
   "source": [
    "data = \"800000-2124567\"\n",
    "data.split(\"-\")[1][1:3]\n"
   ]
  }
 ],
 "metadata": {
  "kernelspec": {
   "display_name": "Python [conda env:anaconda3] *",
   "language": "python",
   "name": "conda-env-anaconda3-py"
  },
  "language_info": {
   "codemirror_mode": {
    "name": "ipython",
    "version": 3
   },
   "file_extension": ".py",
   "mimetype": "text/x-python",
   "name": "python",
   "nbconvert_exporter": "python",
   "pygments_lexer": "ipython3",
   "version": "3.13.5"
  }
 },
 "nbformat": 4,
 "nbformat_minor": 5
}
