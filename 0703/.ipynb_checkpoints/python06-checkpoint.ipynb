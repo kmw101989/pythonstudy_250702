{
 "cells": [
  {
   "cell_type": "markdown",
   "id": "47daa286-2bad-4fea-906c-336c54f856da",
   "metadata": {},
   "source": [
    "### 함수(function) \n",
    "- 함수는 선언 & 호출 개념\n",
    "- 인자값 혹은 인수 개념\n",
    "- 함수를 선언하는 단계에서는 매개변수를 지정한다 라고 부르고 실제로 함수를 호출하는 단계에서는 이미 지정해놓은 매개변수의 공간에 입력할 값을 인자값 혹은 인수라고 부름\n",
    "- 매개변수를 지정했다면 반드시 인자값이 필요함\n",
    "- 매개변수와 인자값의 개수는 반드시 일치해야함 \n",
    "  ```\n",
    "  def 함수이름() :\n",
    "      실행문\n",
    "      return 반환하고자 하는 값 입력\n",
    "  ```"
   ]
  },
  {
   "cell_type": "code",
   "execution_count": 1,
   "id": "e8e7401f-b966-4447-9959-7fe37be13830",
   "metadata": {},
   "outputs": [],
   "source": [
    "def func1() : \n",
    "    print(\"hello\")\n",
    "    print(\"hello\")\n",
    "    print(\"hello\")\n",
    "    print(\"hello\")"
   ]
  },
  {
   "cell_type": "code",
   "execution_count": 2,
   "id": "6f2543fa-fe0e-4ee8-abb2-cadbba70aca2",
   "metadata": {},
   "outputs": [
    {
     "name": "stdout",
     "output_type": "stream",
     "text": [
      "hello\n",
      "hello\n",
      "hello\n",
      "hello\n"
     ]
    }
   ],
   "source": [
    "func1()"
   ]
  },
  {
   "cell_type": "code",
   "execution_count": 27,
   "id": "dfce00a2-1fca-4de2-b673-91b635b4b602",
   "metadata": {},
   "outputs": [],
   "source": [
    "def func2(parameter1,parameter2) : \n",
    "    print(f\"Oh, {parameter1} {parameter2}\")\n",
    "    return f\"Oh, {parameter1} {parameter2}\""
   ]
  },
  {
   "cell_type": "code",
   "execution_count": 29,
   "id": "492d8149-0f21-4ed0-a8a6-1cb76d96185c",
   "metadata": {},
   "outputs": [
    {
     "name": "stdout",
     "output_type": "stream",
     "text": [
      "Oh, my God\n"
     ]
    },
    {
     "data": {
      "text/plain": [
       "'Oh, my God'"
      ]
     },
     "execution_count": 29,
     "metadata": {},
     "output_type": "execute_result"
    }
   ],
   "source": [
    "result = func2(\"my\",\"God\")\n",
    "result"
   ]
  },
  {
   "cell_type": "code",
   "execution_count": 44,
   "id": "fea3d079-78a8-468a-a7f5-302f3e76d910",
   "metadata": {},
   "outputs": [],
   "source": [
    "def sum(a,b) : \n",
    "    c = 1 #로컬변수 =local\n",
    "    result02 = a+b \n",
    "    return(result02)\n",
    "a = 1 # 전역변수 = global"
   ]
  },
  {
   "cell_type": "code",
   "execution_count": 33,
   "id": "88e0abc0-5360-4df6-8a72-0264f9130cdb",
   "metadata": {},
   "outputs": [
    {
     "data": {
      "text/plain": [
       "3"
      ]
     },
     "execution_count": 33,
     "metadata": {},
     "output_type": "execute_result"
    }
   ],
   "source": [
    "sum(1,2)"
   ]
  },
  {
   "cell_type": "code",
   "execution_count": 46,
   "id": "211853e7-9719-4c0d-9360-420f8025edf8",
   "metadata": {},
   "outputs": [
    {
     "name": "stdout",
     "output_type": "stream",
     "text": [
      "1\n",
      "2\n",
      "3\n"
     ]
    }
   ],
   "source": [
    "for item in [1,2,3] : \n",
    "    print(item) #item - 블록변수 = block"
   ]
  },
  {
   "cell_type": "code",
   "execution_count": 48,
   "id": "8de7028f-3037-4f80-9b06-86faad5540d0",
   "metadata": {},
   "outputs": [],
   "source": [
    "def func7(a) : \n",
    "    b = a + 1 \n",
    "    return a, b"
   ]
  },
  {
   "cell_type": "code",
   "execution_count": 59,
   "id": "c7f369b6-6b28-4c36-b98f-4bc3a5a4e87a",
   "metadata": {},
   "outputs": [
    {
     "name": "stdout",
     "output_type": "stream",
     "text": [
      "(4, 5)\n",
      "<class 'tuple'>\n"
     ]
    }
   ],
   "source": [
    "result07 = func7(4)\n",
    "print(result07)\n",
    "print(type(result07))"
   ]
  },
  {
   "cell_type": "code",
   "execution_count": 61,
   "id": "af8fc95c-8fec-4372-8904-f9b1eb422e1c",
   "metadata": {},
   "outputs": [
    {
     "name": "stdout",
     "output_type": "stream",
     "text": [
      "<class 'str'>\n",
      "<class 'int'>\n",
      "<class 'bool'>\n",
      "<class 'list'>\n"
     ]
    }
   ],
   "source": [
    "print(type(\"str\"))\n",
    "print(type(1))\n",
    "print(type(True))\n",
    "print(type([1,2,3]))\n",
    "\n",
    "# tuple : 값, 형태, 갯수가 정해져있는 리스트형태를 가진 타입 "
   ]
  },
  {
   "cell_type": "code",
   "execution_count": 77,
   "id": "e1247823-6415-453f-8d8c-0fa54cce0dff",
   "metadata": {},
   "outputs": [],
   "source": [
    "def id_check(id) : \n",
    "    if id == \"admin\" : \n",
    "        print(\"invaild id : admin\")\n",
    "        return \n",
    " #   else :  딱히 else는 필요가 없음 이미 위에서 종결을 시켰기 때문  \n",
    "  #      print(\"valid id : \" , id) \n",
    "    print(\"valid id :\" ,id)"
   ]
  },
  {
   "cell_type": "code",
   "execution_count": 78,
   "id": "dbde5e98-6660-43ed-8595-aa12199abf25",
   "metadata": {},
   "outputs": [
    {
     "name": "stdin",
     "output_type": "stream",
     "text": [
      " as\n"
     ]
    },
    {
     "name": "stdout",
     "output_type": "stream",
     "text": [
      "valid id : as\n"
     ]
    }
   ],
   "source": [
    "id_check(input())"
   ]
  }
 ],
 "metadata": {
  "kernelspec": {
   "display_name": "Python [conda env:anaconda3] *",
   "language": "python",
   "name": "conda-env-anaconda3-py"
  },
  "language_info": {
   "codemirror_mode": {
    "name": "ipython",
    "version": 3
   },
   "file_extension": ".py",
   "mimetype": "text/x-python",
   "name": "python",
   "nbconvert_exporter": "python",
   "pygments_lexer": "ipython3",
   "version": "3.13.5"
  }
 },
 "nbformat": 4,
 "nbformat_minor": 5
}
