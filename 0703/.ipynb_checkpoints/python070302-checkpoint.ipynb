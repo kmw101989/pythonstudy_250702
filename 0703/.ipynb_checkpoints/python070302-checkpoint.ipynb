{
 "cells": [
  {
   "cell_type": "markdown",
   "id": "112cee4a-f304-4787-877d-e21f5d229e41",
   "metadata": {},
   "source": [
    "#### 반복문 \n",
    "\n",
    "```\n",
    "for 변수 in (리스트 || 문자열 => 이터러블한 객체속성을 가지고 있는 자료구조)  :\n",
    "    실행문\n",
    "\n",
    "while 조건 :\n",
    "    실행문\n",
    "```"
   ]
  },
  {
   "cell_type": "code",
   "execution_count": 3,
   "id": "8d8a1ef3-b324-4783-9826-a149621ae412",
   "metadata": {},
   "outputs": [
    {
     "name": "stdout",
     "output_type": "stream",
     "text": [
      "python\n",
      "TS\n",
      "Node\n"
     ]
    }
   ],
   "source": [
    "lan = [\"python\" , \"TS\" , \"Node\"]\n",
    "#for item in [\"python\" , \"TS\" , \"Node\"] :\n",
    "\n",
    "for item in lan : \n",
    "    print(item)"
   ]
  },
  {
   "cell_type": "code",
   "execution_count": 5,
   "id": "01657e6a-6339-49e4-9203-f4e23fdb519c",
   "metadata": {},
   "outputs": [
    {
     "name": "stdout",
     "output_type": "stream",
     "text": [
      "1\n",
      "2\n",
      "3\n",
      "4\n",
      "5\n",
      "6\n",
      "7\n",
      "8\n",
      "9\n",
      "10\n"
     ]
    }
   ],
   "source": [
    "for num in [1,2,3,4,5,6,7,8,9,10] :\n",
    "    print(num)\n"
   ]
  },
  {
   "cell_type": "code",
   "execution_count": 10,
   "id": "7f1d9641-41fe-4742-b3ae-5f43da1f35a6",
   "metadata": {},
   "outputs": [
    {
     "name": "stdout",
     "output_type": "stream",
     "text": [
      "1\n",
      "2\n",
      "3\n",
      "4\n",
      "5\n",
      "6\n",
      "7\n",
      "8\n",
      "9\n",
      "10\n"
     ]
    }
   ],
   "source": [
    "for num in range(1,11) :\n",
    "    print(num)"
   ]
  },
  {
   "cell_type": "code",
   "execution_count": 18,
   "id": "d2e3fcd8-920b-4dec-a564-78ac68dd5e2c",
   "metadata": {},
   "outputs": [
    {
     "name": "stdin",
     "output_type": "stream",
     "text": [
      "favorite asa\n",
      "favorite \n",
      "favorite d\n"
     ]
    }
   ],
   "source": [
    "\n",
    "for a in range(1,4) : \n",
    "    input(\"favorite\")"
   ]
  },
  {
   "cell_type": "code",
   "execution_count": 20,
   "id": "bfb32399-357a-4e7c-af64-84c1af4908b8",
   "metadata": {},
   "outputs": [
    {
     "data": {
      "text/plain": [
       "range(0, 3)"
      ]
     },
     "execution_count": 20,
     "metadata": {},
     "output_type": "execute_result"
    }
   ],
   "source": [
    "range(0 ,3)"
   ]
  },
  {
   "cell_type": "code",
   "execution_count": 24,
   "id": "997dc231-bcb9-4fb4-9493-dabf39190092",
   "metadata": {},
   "outputs": [
    {
     "name": "stdout",
     "output_type": "stream",
     "text": [
      "list1\n",
      "list2\n",
      "list3\n"
     ]
    }
   ],
   "source": [
    "data_list = [\"list1\", \"list2\", \"list3\"]\n",
    "\n",
    "for index in data_list :\n",
    "    print(index)"
   ]
  },
  {
   "cell_type": "code",
   "execution_count": 45,
   "id": "540c582f-48e1-4af5-b42e-7ce5a50674d6",
   "metadata": {},
   "outputs": [
    {
     "name": "stdout",
     "output_type": "stream",
     "text": [
      "-55\n"
     ]
    }
   ],
   "source": [
    "sum = 0 #전역변수 \n",
    "\n",
    "for index in range(1,11) : \n",
    "    #sum = sum+index\n",
    "    #복합대입연산자 \n",
    "    #sum += index\n",
    "    sum -= index\n",
    "print(sum)"
   ]
  },
  {
   "cell_type": "code",
   "execution_count": 1,
   "id": "73a85f54-12a9-4380-bf99-01f314eb889b",
   "metadata": {},
   "outputs": [],
   "source": [
    "#while 1 : \n",
    "    #print(\"hello world\")"
   ]
  },
  {
   "cell_type": "code",
   "execution_count": 50,
   "id": "21402dab-3997-4614-a406-48d1c45343f3",
   "metadata": {},
   "outputs": [
    {
     "name": "stdin",
     "output_type": "stream",
     "text": [
      "what is your name asd\n"
     ]
    },
    {
     "name": "stdout",
     "output_type": "stream",
     "text": [
      "hi asd where is foo\n"
     ]
    },
    {
     "name": "stdin",
     "output_type": "stream",
     "text": [
      "what is your name as\n"
     ]
    },
    {
     "name": "stdout",
     "output_type": "stream",
     "text": [
      "hi as where is foo\n"
     ]
    },
    {
     "name": "stdin",
     "output_type": "stream",
     "text": [
      "what is your name asd\n"
     ]
    },
    {
     "name": "stdout",
     "output_type": "stream",
     "text": [
      "hi asd where is foo\n"
     ]
    },
    {
     "name": "stdin",
     "output_type": "stream",
     "text": [
      "what is your name asd\n"
     ]
    },
    {
     "name": "stdout",
     "output_type": "stream",
     "text": [
      "hi asd where is foo\n"
     ]
    },
    {
     "name": "stdin",
     "output_type": "stream",
     "text": [
      "what is your name foo\n"
     ]
    },
    {
     "name": "stdout",
     "output_type": "stream",
     "text": [
      "hi foo where is foo\n"
     ]
    }
   ],
   "source": [
    "\n",
    "name = \"\"\n",
    "while name != \"foo\" : \n",
    "    name = input(\"what is your name\")\n",
    "    print(f\"hi {name} where is foo\")"
   ]
  },
  {
   "cell_type": "code",
   "execution_count": 52,
   "id": "16e6c955-01a4-4c09-9448-ac35adc206f7",
   "metadata": {},
   "outputs": [
    {
     "name": "stdout",
     "output_type": "stream",
     "text": [
      "55\n"
     ]
    }
   ],
   "source": [
    "# 1~10 까지의 숫자에 대해 모두 더한 값을 출력하는 프로그램을 for 문을 활용하여 작성\n",
    "num1 = 0\n",
    "for num in range(1,11):\n",
    "    num1 += num\n",
    "print(num1)"
   ]
  },
  {
   "cell_type": "code",
   "execution_count": 6,
   "id": "8e14e789-1af6-4935-8e62-2ab5fc814f5e",
   "metadata": {},
   "outputs": [
    {
     "name": "stdin",
     "output_type": "stream",
     "text": [
      "2~9 사이의 숫자 2\n"
     ]
    },
    {
     "name": "stdout",
     "output_type": "stream",
     "text": [
      "2 x 1 = 2\n",
      "2 x 2 = 4\n",
      "2 x 3 = 6\n",
      "2 x 4 = 8\n",
      "2 x 5 = 10\n",
      "2 x 6 = 12\n",
      "2 x 7 = 14\n",
      "2 x 8 = 16\n",
      "2 x 9 = 18\n"
     ]
    }
   ],
   "source": [
    "# 사용자로부터 2 ~ 9 사이의 숫자를 입력받은 후 해당 숫자에 대한 구구단을 출력 \n",
    "num2 = int(input(\"2~9 사이의 숫자\"))\n",
    "\n",
    "if num2 <= 9 and num2 >= 2:\n",
    "    for num3 in range(1,10):\n",
    "        print(f\"{num2} x {num3} = {num2*num3}\")\n",
    "else :\n",
    "    print(\"2~9 의 숫자를 선택하십시오\")"
   ]
  },
  {
   "cell_type": "code",
   "execution_count": 40,
   "id": "ddc0ab2c-a1c0-451e-bec8-7d61c207f3e1",
   "metadata": {},
   "outputs": [
    {
     "name": "stdout",
     "output_type": "stream",
     "text": [
      "dave\n",
      "david\n",
      "andy\n",
      "juliet\n"
     ]
    }
   ],
   "source": [
    "# name = \"[dave], [david], [andy], [juliet]\"\n",
    "# 위 name이라는 변수 안에 담긴 값을 다음처럼 화면에 출력해주세요 \n",
    "# dave\n",
    "# david \n",
    "# andy \n",
    "# juliet \n",
    "name = \"[dave], [david], [andy], [juliet]\"\n",
    "name1 = name.split()\n",
    "\n",
    "for n in range(0,4):\n",
    "    print(name1[n].strip(\"[],\"))"
   ]
  },
  {
   "cell_type": "code",
   "execution_count": 43,
   "id": "6e7a9e4c-4392-48b6-a4bd-d7f5aaf84785",
   "metadata": {},
   "outputs": [
    {
     "name": "stdout",
     "output_type": "stream",
     "text": [
      "dave\n",
      "david\n",
      "andy\n",
      "juliet\n"
     ]
    }
   ],
   "source": [
    "name = \"[dave], [david], [andy], [juliet]\"\n",
    "name01 = name.split(\", \")\n",
    "for str_name in name01 : \n",
    "    print(str_name.strip(\"[]\"))"
   ]
  },
  {
   "cell_type": "code",
   "execution_count": 46,
   "id": "d5935bf7-7ceb-41a9-aeb6-db8af1f55c6c",
   "metadata": {},
   "outputs": [
    {
     "name": "stdout",
     "output_type": "stream",
     "text": [
      "dave\n",
      "david\n",
      "andy\n",
      "juliet\n"
     ]
    }
   ],
   "source": [
    "name = \"[dave], [david], [andy], [juliet]\"\n",
    "name01 = name.split(\", \")\n",
    "for str_name in name01 : \n",
    "    print(str_name[1:-1])"
   ]
  },
  {
   "cell_type": "code",
   "execution_count": 54,
   "id": "e560075e-2519-4b89-a631-2b185ae4637a",
   "metadata": {},
   "outputs": [],
   "source": [
    "#1부터 30까지의 숫자 중 3의 배수만 출력해주세요 (while 문 활용하여 값을 도출)\n",
    "# 생성 및 찾아온 숫자중에서 3의 배수를 찾는다 => 3으로 나누었을 때, 나머지의 값이 0 => % 연산자 사용 \n",
    "num = \"\"\n",
    "while num <= 30 and num >=1 :\n",
    "    if num % 3 == 0 :\n",
    "        print(num)"
   ]
  },
  {
   "cell_type": "code",
   "execution_count": 55,
   "id": "84194df7-ebf2-4dcc-ab88-60eca51476bf",
   "metadata": {},
   "outputs": [
    {
     "name": "stdout",
     "output_type": "stream",
     "text": [
      "3\n",
      "6\n",
      "9\n",
      "12\n",
      "15\n",
      "18\n",
      "21\n",
      "24\n",
      "27\n",
      "30\n"
     ]
    }
   ],
   "source": [
    "num = 0 \n",
    "while num < 30 : \n",
    "    num += 1 \n",
    "    if num % 3 == 0 : \n",
    "        print(num)"
   ]
  },
  {
   "cell_type": "code",
   "execution_count": 59,
   "id": "5a525924-2543-4a45-8c6a-417d72eb5189",
   "metadata": {},
   "outputs": [
    {
     "name": "stdout",
     "output_type": "stream",
     "text": [
      "3\n",
      "6\n",
      "9\n",
      "12\n",
      "15\n",
      "18\n",
      "21\n",
      "24\n",
      "27\n",
      "30\n"
     ]
    }
   ],
   "source": [
    "for num in range(1,31) : \n",
    "    if num % 3 == 0 :\n",
    "        print(num)"
   ]
  },
  {
   "cell_type": "code",
   "execution_count": 77,
   "id": "d25f79ff-d53c-4d2f-ae7b-5b0295e330cd",
   "metadata": {},
   "outputs": [
    {
     "name": "stdout",
     "output_type": "stream",
     "text": [
      "[0, 31, 22, 33]\n"
     ]
    }
   ],
   "source": [
    "# 다음 리스트 자료구조에서 음수값을 삭제하고, 양수값만 가지고 있는 새로운 리스트 변수로 만들어서 출력해주세요.\n",
    "num_list = [0,-11,31,22,-11,33,-44,-55]\n",
    "num_list2 = []\n",
    "\n",
    "for n in range(0,8):\n",
    "    if num_list[n] >= 0 :\n",
    "        num_list2.append(num_list[n])\n",
    "print(num_list2)"
   ]
  },
  {
   "cell_type": "code",
   "execution_count": 83,
   "id": "78278326-184a-4d1c-a554-e40e81e3de0f",
   "metadata": {},
   "outputs": [
    {
     "name": "stdout",
     "output_type": "stream",
     "text": [
      "[0, 31, 22, 33]\n"
     ]
    }
   ],
   "source": [
    "num_list = [0,-11,31,22,-11,33,-44,-55]\n",
    "new_list = []\n",
    "\n",
    "for num in num_list : \n",
    "    if num >= 0 : \n",
    "        new_list.append(num)\n",
    "print(new_list)\n",
    "    "
   ]
  },
  {
   "cell_type": "code",
   "execution_count": 82,
   "id": "3994291a-223b-4df0-b6c8-86651db27b0b",
   "metadata": {},
   "outputs": [
    {
     "name": "stdout",
     "output_type": "stream",
     "text": [
      "[0, 31, 22, 33]\n"
     ]
    }
   ],
   "source": [
    "num_list = [0,-11,31,22,-11,33,-44,-55]\n",
    "num_list2 = []\n",
    "\n",
    "for n in range(0,8):\n",
    "    if str(num_list[n]).find(\"-\") == -1 :\n",
    "        num_list2.append(num_list[n])\n",
    "print(num_list2)"
   ]
  },
  {
   "cell_type": "code",
   "execution_count": 87,
   "id": "7d40c4af-f88f-4d0d-8476-319901fb3618",
   "metadata": {},
   "outputs": [
    {
     "name": "stdout",
     "output_type": "stream",
     "text": [
      "4\n",
      "3\n",
      "6\n",
      "4\n"
     ]
    }
   ],
   "source": [
    "# 아래 리스트에 있는 데이터들의 길이를 출력하세요 . 단 한줄에 한 개씩 구분 \n",
    "list_data = [\"Java\", \"C++\" , \"Python\", \"Node\"]\n",
    "for item in list_data : \n",
    "    print(len(item))\n",
    "    "
   ]
  },
  {
   "cell_type": "code",
   "execution_count": 105,
   "id": "f257579f-da86-47cd-9888-e7d6c0a5f120",
   "metadata": {},
   "outputs": [
    {
     "name": "stdout",
     "output_type": "stream",
     "text": [
      "exercise01\n",
      "exercise02\n",
      "exercise03\n",
      "exercise04\n"
     ]
    }
   ],
   "source": [
    "filelist = [\"exercise01.docx\",\"exercise02.docx\",\"exercise03.docx\",\"exercise04.docx\"]\n",
    "\n",
    "for filename in filelist : \n",
    "    print(filename.split(\".\")[0])"
   ]
  },
  {
   "cell_type": "code",
   "execution_count": 152,
   "id": "ef707832-7f8f-4a09-a600-1eb68c12c42c",
   "metadata": {},
   "outputs": [
    {
     "data": {
      "text/plain": [
       "11"
      ]
     },
     "execution_count": 152,
     "metadata": {},
     "output_type": "execute_result"
    }
   ],
   "source": [
    "filelist = [\"exercise01.docx\",\"exercise02.csv\",\"exercise03.txt\",\"exercise04.hwp\"]\n",
    "for filename in filelist :\n",
    "    if filename.find(\"txt\") == 0 :\n",
    "        print(filename)\n",
    "\n",
    "filelist[2].find(\"txt\")"
   ]
  },
  {
   "cell_type": "code",
   "execution_count": 119,
   "id": "1dc844ab-2dd6-4a5f-b6d4-b12ddaecf01b",
   "metadata": {},
   "outputs": [
    {
     "name": "stdout",
     "output_type": "stream",
     "text": [
      "exercise03.txt\n"
     ]
    }
   ],
   "source": [
    "filelist = [\"exercise01.docx\",\"exercise02.csv\",\"exercise03.txt\",\"exercise04.hwp\"]\n",
    "for filename in filelist :\n",
    "    if filename.split(\".\")[1] == \"txt\" :\n",
    "        print(filename)\n",
    "        "
   ]
  }
 ],
 "metadata": {
  "kernelspec": {
   "display_name": "Python [conda env:anaconda3] *",
   "language": "python",
   "name": "conda-env-anaconda3-py"
  },
  "language_info": {
   "codemirror_mode": {
    "name": "ipython",
    "version": 3
   },
   "file_extension": ".py",
   "mimetype": "text/x-python",
   "name": "python",
   "nbconvert_exporter": "python",
   "pygments_lexer": "ipython3",
   "version": "3.13.5"
  }
 },
 "nbformat": 4,
 "nbformat_minor": 5
}
