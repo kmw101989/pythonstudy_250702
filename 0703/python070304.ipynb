{
 "cells": [
  {
   "cell_type": "markdown",
   "id": "6e67b6c4-b194-4239-8a00-06b63790d4aa",
   "metadata": {},
   "source": [
    "#### 자료구조 형태\n",
    "- 리스트\n",
    "- 문자열,숫자, 불리언 \n",
    "- 튜플 (tuple)\n",
    "  - 리스트와 달리 튜플은 소괄호 형태를 띄고 있음\n",
    "  - 튜플은 최초 생성 후 값을 삭제, 추가 할 수 없음\n",
    "  - 단, 튜플 간 병합기능 혹은 튜플 자체의 복제 등은 가능함\n",
    "  - 튜플은 리스트처럼 이터러블한 객체 속성을 가지고 있음 => 반복문 사용 가능 && 튜플 내부 아이템들은 각각 저마다의 고유한 인덱스값을 가지고 있음\n",
    "  - 함수의 반환값으로 찾아온 값을 활용해서 일반 변수 안에 값을 넣을 때, 구조분해할당의 형식으로 값을 전달할 수 있음.\n",
    "  - 튜플을 수정,편집,삭제를 하고 싶다면 => 리스트로 바꾸기 => list(튜플) "
   ]
  },
  {
   "cell_type": "code",
   "execution_count": 10,
   "id": "2ec5c332-0342-48e5-ac71-dcef2912a620",
   "metadata": {},
   "outputs": [
    {
     "name": "stdout",
     "output_type": "stream",
     "text": [
      "<class 'list'>\n",
      "<class 'tuple'>\n"
     ]
    }
   ],
   "source": [
    "listItems = []\n",
    "tupleItems = (1,2,3) \n",
    "print(type(listItems))\n",
    "print(type(tupleItems))"
   ]
  },
  {
   "cell_type": "code",
   "execution_count": 12,
   "id": "0c2852ba-ddce-4f05-aaec-08a85b559f71",
   "metadata": {},
   "outputs": [
    {
     "name": "stdout",
     "output_type": "stream",
     "text": [
      "1\n",
      "2\n",
      "3\n"
     ]
    }
   ],
   "source": [
    "for item in tupleItems : \n",
    "    print(item)"
   ]
  },
  {
   "cell_type": "code",
   "execution_count": 35,
   "id": "47ea76c5-01b5-41bc-8a3b-7ef115b07758",
   "metadata": {},
   "outputs": [
    {
     "name": "stdout",
     "output_type": "stream",
     "text": [
      "(1, 2, 3, 4)\n",
      "(1, 2, 1, 2, 1, 2)\n"
     ]
    }
   ],
   "source": [
    "#del tutupleItems[1]\n",
    "#tupleItems.append(4)\n",
    "#tupleItems[4] = 4\n",
    "\n",
    "tuple01 = (1,2)\n",
    "tuple02 = (3,4)\n",
    "print(tuple01 + tuple02)\n",
    "print(tuple01*3)\n"
   ]
  },
  {
   "cell_type": "code",
   "execution_count": 56,
   "id": "07aae294-00c3-4fec-818c-713fd99cca41",
   "metadata": {},
   "outputs": [],
   "source": [
    "x = 1 \n",
    "y = 2\n"
   ]
  },
  {
   "cell_type": "code",
   "execution_count": 45,
   "id": "6fa78a18-3d4a-4d84-b2c0-6b59782e1250",
   "metadata": {},
   "outputs": [],
   "source": [
    "# temp = x # -> 1 \n",
    "# x = y \n",
    "# y = temp"
   ]
  },
  {
   "cell_type": "code",
   "execution_count": 60,
   "id": "d38a64c7-9fa6-4ebe-8943-4260ca0ac1b1",
   "metadata": {},
   "outputs": [],
   "source": [
    "x, y = y, x # = (x,y) = (y,x)"
   ]
  },
  {
   "cell_type": "code",
   "execution_count": 59,
   "id": "a1752277-406c-4573-bb47-a7368ccca414",
   "metadata": {},
   "outputs": [
    {
     "data": {
      "text/plain": [
       "(2, 1)"
      ]
     },
     "execution_count": 59,
     "metadata": {},
     "output_type": "execute_result"
    }
   ],
   "source": [
    "x ,y "
   ]
  },
  {
   "cell_type": "code",
   "execution_count": 61,
   "id": "c7459341-671e-46df-9852-8b1d5e119353",
   "metadata": {},
   "outputs": [],
   "source": [
    "def quot_and_rem(x,y) : \n",
    "    quot = x // y\n",
    "    rem = x % y \n",
    "    return quot,rem"
   ]
  },
  {
   "cell_type": "code",
   "execution_count": 73,
   "id": "c7d09bfa-1622-49c7-acb2-8eed4b1f8aaa",
   "metadata": {},
   "outputs": [],
   "source": [
    "(quot01, rem01) = quot_and_rem(10,3)\n"
   ]
  },
  {
   "cell_type": "code",
   "execution_count": 76,
   "id": "ff3b30d7-9964-464b-867a-f6d3a9f7dc8c",
   "metadata": {},
   "outputs": [
    {
     "data": {
      "text/plain": [
       "3"
      ]
     },
     "execution_count": 76,
     "metadata": {},
     "output_type": "execute_result"
    }
   ],
   "source": [
    "quot01"
   ]
  },
  {
   "cell_type": "code",
   "execution_count": 78,
   "id": "f520b07f-0cee-429e-ac9a-19c4a31b07a2",
   "metadata": {},
   "outputs": [
    {
     "data": {
      "text/plain": [
       "1"
      ]
     },
     "execution_count": 78,
     "metadata": {},
     "output_type": "execute_result"
    }
   ],
   "source": [
    "rem01"
   ]
  },
  {
   "cell_type": "code",
   "execution_count": 1,
   "id": "f5b68e4a-8228-4999-b93a-1523be39fd5f",
   "metadata": {},
   "outputs": [],
   "source": [
    "data10 = (1,2,3)\n",
    "result = list(data10)"
   ]
  }
 ],
 "metadata": {
  "kernelspec": {
   "display_name": "Python [conda env:anaconda3] *",
   "language": "python",
   "name": "conda-env-anaconda3-py"
  },
  "language_info": {
   "codemirror_mode": {
    "name": "ipython",
    "version": 3
   },
   "file_extension": ".py",
   "mimetype": "text/x-python",
   "name": "python",
   "nbconvert_exporter": "python",
   "pygments_lexer": "ipython3",
   "version": "3.13.5"
  }
 },
 "nbformat": 4,
 "nbformat_minor": 5
}
