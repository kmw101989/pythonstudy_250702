{
 "cells": [
  {
   "cell_type": "markdown",
   "id": "0978b5ac-c2e7-4290-817a-ec01f7cbd606",
   "metadata": {},
   "source": [
    "#### 자료구조 : set = 집합\n",
    "- 서로 다른 그룹 간 연산 작업을 보다 쉽게 하기 위한 목적으로 탄생된 자료구조\n",
    "- set() // list () // tuple() // dict()\n",
    "- 리스트 (* 각각의 세부값에 인덱스 값을 부여, 이터러블한 객체, 반복문)\n",
    "- 튜플\n",
    "- 딕셔너리 (*각각의 세부값에 인덱스 값을 부여하지 않음 -이터러블하지 않음 -> 반복문 사용불가)\n",
    "- 세트 (*이터러블 함. 하지만 인덱스가 => 반복문은 가능) 유사배열이라고도 부름\n",
    "- 크롤링 시, 찾아온 값이 거의 대부분 리스트형태로 들어옴 -> 굳이 반복적으로 불필요하게 값을 찾아오는 경우가 많다 => 중복된 값을 하나로 정리하는 기능을 가장 많이 사용함 "
   ]
  },
  {
   "cell_type": "code",
   "execution_count": 2,
   "id": "1c7f333a-424a-4a22-8fa7-0e6d2d3f0208",
   "metadata": {},
   "outputs": [],
   "source": [
    "data_set01 = set() \n"
   ]
  },
  {
   "cell_type": "code",
   "execution_count": 3,
   "id": "57522d58-e791-4a34-a5e1-eab2c3a69bc9",
   "metadata": {},
   "outputs": [
    {
     "data": {
      "text/plain": [
       "{'apple', 'dell', 'lg', 'samsung'}"
      ]
     },
     "execution_count": 3,
     "metadata": {},
     "output_type": "execute_result"
    }
   ],
   "source": [
    "data_set02 = {\"apple\",\"dell\",\"samsung\",\"lg\"}\n",
    "data_set02"
   ]
  },
  {
   "cell_type": "code",
   "execution_count": 16,
   "id": "461c5e02-71ba-4848-ba1d-a0c84f430575",
   "metadata": {},
   "outputs": [
    {
     "data": {
      "text/plain": [
       "{'a', 'e', 'l', 'p'}"
      ]
     },
     "execution_count": 16,
     "metadata": {},
     "output_type": "execute_result"
    }
   ],
   "source": [
    "data_set03 = set(\"apple\")\n",
    "data_set03"
   ]
  },
  {
   "cell_type": "code",
   "execution_count": 14,
   "id": "dfc160a9-995c-40d9-aff2-3652d7da733e",
   "metadata": {},
   "outputs": [
    {
     "data": {
      "text/plain": [
       "{'jyp', 'sm'}"
      ]
     },
     "execution_count": 14,
     "metadata": {},
     "output_type": "execute_result"
    }
   ],
   "source": [
    "#data_set04 = set(\"sm\", \"jyp\")\n",
    "{\"sm\",\"jyp\"}"
   ]
  },
  {
   "cell_type": "code",
   "execution_count": 19,
   "id": "19feb2f8-cc18-432e-bbc6-c92c8f6a78fd",
   "metadata": {},
   "outputs": [
    {
     "name": "stdout",
     "output_type": "stream",
     "text": [
      "apple\n",
      "lg\n",
      "samsung\n",
      "dell\n"
     ]
    }
   ],
   "source": [
    "for data in data_set02 :\n",
    "    print(data)\n",
    "\n",
    "    #-> 이터러블함"
   ]
  },
  {
   "cell_type": "code",
   "execution_count": 23,
   "id": "09acb97b-454d-44cf-acb4-552ceb188ad1",
   "metadata": {},
   "outputs": [
    {
     "name": "stdout",
     "output_type": "stream",
     "text": [
      "False\n",
      "True\n"
     ]
    }
   ],
   "source": [
    "print(\"motorola\" in data_set02 )\n",
    "print(\"apple\" in data_set02 )"
   ]
  },
  {
   "cell_type": "code",
   "execution_count": 42,
   "id": "b69df048-3489-43fe-9dc3-f9bd1ab50540",
   "metadata": {},
   "outputs": [
    {
     "name": "stdout",
     "output_type": "stream",
     "text": [
      "{'피카츄'}\n",
      "{'라이츄', '피카츄', '꼬부기', '잠만보', '파이리'}\n",
      "{'라이츄', '꼬부기'}\n",
      "{'잠만보', '파이리'}\n",
      "{'잠만보', '꼬부기', '파이리', '라이츄'}\n"
     ]
    }
   ],
   "source": [
    "data_set04 = {\"피카츄\", \"라이츄\", \"꼬부기\"}\n",
    "data_set05 = {\"잠만보\", \"파이리\", \"피카츄\"}\n",
    "\n",
    "print(data_set04 & data_set05) #교집합\n",
    "print(data_set04 | data_set05) #합집합\n",
    "print(data_set04 - data_set05) #차집합\n",
    "print(data_set05 - data_set04) #차집합 04 ,05 위치 다름\n",
    "print(data_set04 ^ data_set05) #겹치는건 완전 삭제"
   ]
  },
  {
   "cell_type": "code",
   "execution_count": null,
   "id": "a34cba44-a4ea-4e53-97e5-28ae6e13ad32",
   "metadata": {},
   "outputs": [],
   "source": []
  },
  {
   "cell_type": "code",
   "execution_count": null,
   "id": "c4be28ef-3e2e-4bc4-8c7c-8a886841cdaf",
   "metadata": {},
   "outputs": [],
   "source": []
  }
 ],
 "metadata": {
  "kernelspec": {
   "display_name": "Python [conda env:anaconda3] *",
   "language": "python",
   "name": "conda-env-anaconda3-py"
  },
  "language_info": {
   "codemirror_mode": {
    "name": "ipython",
    "version": 3
   },
   "file_extension": ".py",
   "mimetype": "text/x-python",
   "name": "python",
   "nbconvert_exporter": "python",
   "pygments_lexer": "ipython3",
   "version": "3.13.5"
  }
 },
 "nbformat": 4,
 "nbformat_minor": 5
}
