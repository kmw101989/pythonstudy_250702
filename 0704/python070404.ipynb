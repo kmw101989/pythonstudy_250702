{
 "cells": [
  {
   "cell_type": "code",
   "execution_count": 24,
   "id": "3cfa2efb-4d73-4d22-a51f-761c8280110a",
   "metadata": {},
   "outputs": [
    {
     "name": "stdin",
     "output_type": "stream",
     "text": [
      "금액을 $로 입력하세요 100\n"
     ]
    },
    {
     "name": "stdout",
     "output_type": "stream",
     "text": [
      "당신의 현재 잔액은 $100, 한화로 111200원 입니다.\n"
     ]
    }
   ],
   "source": [
    "# 사용자로부터 어떤 값을 받고 해당 값을 한화로 바꿔서 출력되도록 해주세요. \n",
    "# ex) 100 => 환율 1112원 // 111200 원 으로 출력되도록\n",
    "\n",
    "balance = input(\"금액을 $로 입력하세요\")\n",
    "exrateUSDKRW = 1112\n",
    "print(f\"당신의 현재 잔액은 ${balance}, 한화로 {exrateUSDKRW*int(balance)}원 입니다.\")"
   ]
  },
  {
   "cell_type": "code",
   "execution_count": 30,
   "id": "85d3a653-00a9-454e-a3ee-63d833cf02f1",
   "metadata": {},
   "outputs": [
    {
     "name": "stdin",
     "output_type": "stream",
     "text": [
      "금액 ___달러 로 입력하세요  100 달러\n"
     ]
    },
    {
     "name": "stdout",
     "output_type": "stream",
     "text": [
      "당신의 현재 잔액은 $100 , 한화로 111200원 입니다.\n"
     ]
    }
   ],
   "source": [
    "balance = input(\"금액 ___달러 로 입력하세요 \")\n",
    "exrateUSDKRW = 1112\n",
    "print(f\"당신의 현재 잔액은 ${balance.strip(\"달러\")}, 한화로 {exrateUSDKRW*int(balance.strip(\"달러\"))}원 입니다.\")"
   ]
  },
  {
   "cell_type": "code",
   "execution_count": 40,
   "id": "3bd651f0-f8d3-4abc-ad3c-b6847ad11177",
   "metadata": {},
   "outputs": [
    {
     "name": "stdin",
     "output_type": "stream",
     "text": [
      "금액 ___달러 로 입력하세요  100달러\n"
     ]
    },
    {
     "name": "stdout",
     "output_type": "stream",
     "text": [
      "당신의 현재 잔액은 $100, 한화로 111,200원 입니다.\n"
     ]
    }
   ],
   "source": [
    "# strip 을 사용하면 단위가 \"달러\" 가 아닌 경우 불가능함 \n",
    "# split 을 사용하면 공백이 없을 경우 사용이 불가능함\n",
    "\n",
    "balance = input(\"금액 ___달러 로 입력하세요 \")\n",
    "exrateUSDKRW = 1112\n",
    "balance.replace(\"달러\",\"\")\n",
    "\n",
    "print(f\"당신의 현재 잔액은 ${balance.replace(\"달러\",\"\")}, 한화로 {exrateUSDKRW*int(balance.replace(\"달러\",\"\")):,}원 입니다.\")\n"
   ]
  },
  {
   "cell_type": "code",
   "execution_count": 80,
   "id": "b1e5d101-671f-4574-9e54-3af40c6ecf2b",
   "metadata": {},
   "outputs": [
    {
     "name": "stdin",
     "output_type": "stream",
     "text": [
      "금액을 USD, CNY, JPY를 구분하여 입력하세요 ex) 100 USD 100 JPY\n"
     ]
    },
    {
     "name": "stdout",
     "output_type": "stream",
     "text": [
      "당신의 환전액은 100 JPY, 한화로 1,010.0 원 입니다\n"
     ]
    }
   ],
   "source": [
    "# 달러의 환율을 1112원으로 , 위안화의 환율을 171원으로, 엔화의 환율을 1010원으로 설정하고 해당 화폐당 환율의 값을 딕셔너리라는 구조의 자료로 정의하라\n",
    "# 사용자가 원하는 값을 달러,위안화,엔화로 입력했을 때 이 값을 원으로 환전하여 출력\n",
    "\n",
    "exchange = {\"USD\" : 1112 , \"CNY\" : 171 , \"JPY\" : 10.1}\n",
    "\n",
    "price = input(\"금액을 USD, CNY, JPY를 구분하여 입력하세요 ex) 100 USD\")\n",
    "\n",
    "balance = price.split(\" \")[0] #사용자의 돈\n",
    "currency = price.split(\" \")[1] #사용자의 돈 화폐 종류 \n",
    "exbalance = int(balance) * float(exchange[currency])\n",
    "\n",
    "print(f\"당신의 환전액은 {price}, 한화로 {exbalance:,} 원 입니다\")\n",
    "\n"
   ]
  },
  {
   "cell_type": "code",
   "execution_count": 79,
   "id": "4a328822-2f14-4565-9973-7c9524756298",
   "metadata": {},
   "outputs": [
    {
     "name": "stdin",
     "output_type": "stream",
     "text": [
      "환전하고 싶은 금액 입력 100엔화\n"
     ]
    },
    {
     "name": "stdout",
     "output_type": "stream",
     "text": [
      "1,010.0원\n"
     ]
    }
   ],
   "source": [
    "exchange_list = {\"달러\" : 1112 , \"위안\" : 171 , \"엔화\" : 10.1}\n",
    "user_money = input(\"환전하고 싶은 금액 입력\")\n",
    "#100달러\n",
    "if user_money[-2:] == \"달러\" : \n",
    "    print(f\"{exchange_list[\"달러\"] * int(user_money[:-2]):,}원\")\n",
    "elif user_money[-2:] == \"위안\" : \n",
    "    print(f\"{exchange_list[\"위안\"] * int(user_money[:-2]):,}원\")\n",
    "elif user_money[-2:] == \"엔화\" : \n",
    "    print(f\"{exchange_list[\"엔화\"] * int(user_money[:-2]):,}원\")"
   ]
  },
  {
   "cell_type": "code",
   "execution_count": 97,
   "id": "0ba3a4a0-19d9-40b9-b5ba-5742f3b33cce",
   "metadata": {
    "collapsed": true,
    "jupyter": {
     "outputs_hidden": true
    }
   },
   "outputs": [
    {
     "name": "stdout",
     "output_type": "stream",
     "text": [
      "--------------------- \n",
      " -구구단 2단 \n",
      "\n",
      "2 x 1 = 2\n",
      "2 x 2 = 4\n",
      "2 x 3 = 6\n",
      "2 x 4 = 8\n",
      "2 x 5 = 10\n",
      "2 x 6 = 12\n",
      "2 x 7 = 14\n",
      "2 x 8 = 16\n",
      "2 x 9 = 18\n",
      "---------------------\n",
      "\n",
      "--------------------- \n",
      " -구구단 3단 \n",
      "\n",
      "3 x 1 = 3\n",
      "3 x 2 = 6\n",
      "3 x 3 = 9\n",
      "3 x 4 = 12\n",
      "3 x 5 = 15\n",
      "3 x 6 = 18\n",
      "3 x 7 = 21\n",
      "3 x 8 = 24\n",
      "3 x 9 = 27\n",
      "---------------------\n",
      "\n",
      "--------------------- \n",
      " -구구단 4단 \n",
      "\n",
      "4 x 1 = 4\n",
      "4 x 2 = 8\n",
      "4 x 3 = 12\n",
      "4 x 4 = 16\n",
      "4 x 5 = 20\n",
      "4 x 6 = 24\n",
      "4 x 7 = 28\n",
      "4 x 8 = 32\n",
      "4 x 9 = 36\n",
      "---------------------\n",
      "\n",
      "--------------------- \n",
      " -구구단 5단 \n",
      "\n",
      "5 x 1 = 5\n",
      "5 x 2 = 10\n",
      "5 x 3 = 15\n",
      "5 x 4 = 20\n",
      "5 x 5 = 25\n",
      "5 x 6 = 30\n",
      "5 x 7 = 35\n",
      "5 x 8 = 40\n",
      "5 x 9 = 45\n",
      "---------------------\n",
      "\n",
      "--------------------- \n",
      " -구구단 6단 \n",
      "\n",
      "6 x 1 = 6\n",
      "6 x 2 = 12\n",
      "6 x 3 = 18\n",
      "6 x 4 = 24\n",
      "6 x 5 = 30\n",
      "6 x 6 = 36\n",
      "6 x 7 = 42\n",
      "6 x 8 = 48\n",
      "6 x 9 = 54\n",
      "---------------------\n",
      "\n",
      "--------------------- \n",
      " -구구단 7단 \n",
      "\n",
      "7 x 1 = 7\n",
      "7 x 2 = 14\n",
      "7 x 3 = 21\n",
      "7 x 4 = 28\n",
      "7 x 5 = 35\n",
      "7 x 6 = 42\n",
      "7 x 7 = 49\n",
      "7 x 8 = 56\n",
      "7 x 9 = 63\n",
      "---------------------\n",
      "\n",
      "--------------------- \n",
      " -구구단 8단 \n",
      "\n",
      "8 x 1 = 8\n",
      "8 x 2 = 16\n",
      "8 x 3 = 24\n",
      "8 x 4 = 32\n",
      "8 x 5 = 40\n",
      "8 x 6 = 48\n",
      "8 x 7 = 56\n",
      "8 x 8 = 64\n",
      "8 x 9 = 72\n",
      "---------------------\n",
      "\n",
      "--------------------- \n",
      " -구구단 9단 \n",
      "\n",
      "9 x 1 = 9\n",
      "9 x 2 = 18\n",
      "9 x 3 = 27\n",
      "9 x 4 = 36\n",
      "9 x 5 = 45\n",
      "9 x 6 = 54\n",
      "9 x 7 = 63\n",
      "9 x 8 = 72\n",
      "9 x 9 = 81\n",
      "---------------------\n",
      "\n"
     ]
    }
   ],
   "source": [
    "# 2~9단까지 => 숫자 2부터 9까지 반복순회 해야한다 2) 피연산자로 1~9까지 반복순회가 또 필요하다 \n",
    "for num1 in range(2,10) :\n",
    "    print(f\"--------------------- \\n -구구단 {num1}단 \\n\")\n",
    "    for num2 in range (1,10):\n",
    "        print(f\"{num1} x {num2} = {num1*num2}\")\n",
    "    print(\"---------------------\\n\") "
   ]
  },
  {
   "cell_type": "code",
   "execution_count": 102,
   "id": "101b429e-abf8-45f5-a7e6-514658405fd9",
   "metadata": {
    "scrolled": true
   },
   "outputs": [
    {
     "name": "stdout",
     "output_type": "stream",
     "text": [
      " \n",
      "------구구단 2단----- \n",
      "\n",
      "2 x 1 = 2\n",
      "2 x 2 = 4\n",
      "2 x 3 = 6\n",
      "2 x 4 = 8\n",
      "2 x 5 = 10\n",
      "2 x 6 = 12\n",
      "2 x 7 = 14\n",
      "2 x 8 = 16\n",
      "2 x 9 = 18\n",
      "---------------------\n",
      " \n",
      "------구구단 3단----- \n",
      "\n",
      "3 x 2 = 6\n",
      "3 x 4 = 12\n",
      "3 x 6 = 18\n",
      "3 x 8 = 24\n",
      "---------------------\n",
      " \n",
      "------구구단 4단----- \n",
      "\n",
      "4 x 1 = 4\n",
      "4 x 2 = 8\n",
      "4 x 3 = 12\n",
      "4 x 4 = 16\n",
      "4 x 5 = 20\n",
      "4 x 6 = 24\n",
      "4 x 7 = 28\n",
      "4 x 8 = 32\n",
      "4 x 9 = 36\n",
      "---------------------\n",
      " \n",
      "------구구단 5단----- \n",
      "\n",
      "5 x 2 = 10\n",
      "5 x 4 = 20\n",
      "5 x 6 = 30\n",
      "5 x 8 = 40\n",
      "---------------------\n",
      " \n",
      "------구구단 6단----- \n",
      "\n",
      "6 x 1 = 6\n",
      "6 x 2 = 12\n",
      "6 x 3 = 18\n",
      "6 x 4 = 24\n",
      "6 x 5 = 30\n",
      "6 x 6 = 36\n",
      "6 x 7 = 42\n",
      "6 x 8 = 48\n",
      "6 x 9 = 54\n",
      "---------------------\n",
      " \n",
      "------구구단 7단----- \n",
      "\n",
      "7 x 2 = 14\n",
      "7 x 4 = 28\n",
      "7 x 6 = 42\n",
      "7 x 8 = 56\n",
      "---------------------\n",
      " \n",
      "------구구단 8단----- \n",
      "\n",
      "8 x 1 = 8\n",
      "8 x 2 = 16\n",
      "8 x 3 = 24\n",
      "8 x 4 = 32\n",
      "8 x 5 = 40\n",
      "8 x 6 = 48\n",
      "8 x 7 = 56\n",
      "8 x 8 = 64\n",
      "8 x 9 = 72\n",
      "---------------------\n",
      " \n",
      "------구구단 9단----- \n",
      "\n",
      "9 x 2 = 18\n",
      "9 x 4 = 36\n",
      "9 x 6 = 54\n",
      "9 x 8 = 72\n",
      "---------------------\n"
     ]
    }
   ],
   "source": [
    "#### 위에서 작성한 코드를 활용하여 다음과 같은 결과를 출력해주세요. 구구단 2~9단까지 출력하되 계산된 결과값이 짝수인 경우만 출력해주세요\n",
    "\n",
    "for num1 in range(2,10) :\n",
    "    print(f\" \\n------구구단 {num1}단----- \\n\")\n",
    "    for num2 in range (1,10):\n",
    "        if (num1*num2) % 2 == 0 :\n",
    "            print(f\"{num1} x {num2} = {num1*num2}\")\n",
    "    print(\"---------------------\") "
   ]
  },
  {
   "cell_type": "code",
   "execution_count": 106,
   "id": "69a858af-9bb4-49fe-bca0-8da0f5674081",
   "metadata": {},
   "outputs": [
    {
     "name": "stdout",
     "output_type": "stream",
     "text": [
      "6209동 101호\n",
      "6209동 102호\n",
      "6209동 103호\n",
      "6209동 104호\n",
      "\n",
      "6208동 101호\n",
      "6208동 102호\n",
      "6208동 103호\n",
      "6208동 104호\n",
      "\n",
      "6207동 101호\n",
      "6207동 102호\n",
      "6207동 103호\n",
      "6207동 104호\n",
      "\n"
     ]
    }
   ],
   "source": [
    "dongs = [\"6209동\", \"6208동\",\"6207동\"]\n",
    "hos = [\"101호\", \"102호\", \"103호\", \"104호\"]\n",
    "for dong in dongs :\n",
    "    for ho in hos :\n",
    "        print(f\"{dong} {ho}\")\n",
    "    print(\"\")"
   ]
  },
  {
   "cell_type": "code",
   "execution_count": 130,
   "id": "ab819bf6-046f-4af3-be0b-657010b69977",
   "metadata": {},
   "outputs": [
    {
     "name": "stdout",
     "output_type": "stream",
     "text": [
      "('6209동', '101호')\n",
      "('6209동', '102호')\n",
      "('6209동', '103호')\n",
      "('6209동', '104호')\n",
      "('6208동', '101호')\n",
      "('6208동', '102호')\n",
      "('6208동', '103호')\n",
      "('6208동', '104호')\n",
      "('6207동', '101호')\n",
      "('6207동', '102호')\n",
      "('6207동', '103호')\n",
      "('6207동', '104호')\n",
      "<class 'tuple'>\n"
     ]
    }
   ],
   "source": [
    "dongs = [\"6209동\", \"6208동\",\"6207동\"]\n",
    "hos = [\"101호\", \"102호\", \"103호\", \"104호\"]\n",
    "\n",
    "dongho = ()\n",
    "for dong in dongs : \n",
    "    for ho in hos : \n",
    "        dongho = (dong , ho)\n",
    "        print(dongho)\n",
    "print(type(dongho))\n"
   ]
  },
  {
   "cell_type": "code",
   "execution_count": 127,
   "id": "ca45c3a8-dad6-4587-afe8-7949d91a5f42",
   "metadata": {},
   "outputs": [
    {
     "data": {
      "text/plain": [
       "('coding01', 'coding02', 'coding03', 'coding04')"
      ]
     },
     "execution_count": 127,
     "metadata": {},
     "output_type": "execute_result"
    }
   ],
   "source": [
    "tupledata = (\"coding01\" , \"coding02\", \"coding03\" )\n",
    "temp_list = list(tupledata)\n",
    "temp_list.append(\"coding04\")\n",
    "result = tuple(temp_list)\n",
    "\n",
    "result"
   ]
  },
  {
   "cell_type": "code",
   "execution_count": 128,
   "id": "b1914d03-f11c-487c-b169-b0e0f822f942",
   "metadata": {},
   "outputs": [
    {
     "data": {
      "text/plain": [
       "('coding01', 'coding02', 'coding03', 'coding04')"
      ]
     },
     "execution_count": 128,
     "metadata": {},
     "output_type": "execute_result"
    }
   ],
   "source": [
    "tupleadd = (\"coding04\")\n",
    "tuple(list(tupledata) + [\"coding04\"])\n"
   ]
  },
  {
   "cell_type": "code",
   "execution_count": 187,
   "id": "488e7dea-7007-4a65-b864-195f0eb7aa0f",
   "metadata": {},
   "outputs": [
    {
     "name": "stdout",
     "output_type": "stream",
     "text": [
      "enviroment : ['환경', 'x']\n",
      "company : ['회사', 'o']\n",
      "goverment : ['정부', 'x']\n",
      "face : ['얼굴', 'x']\n",
      "word : ['단어', 'x']\n"
     ]
    }
   ],
   "source": [
    "# 딕셔너리 형태의 자료구조를 하나 만들어서 아래와 같이 값을 출력해주세요\n",
    "# enviroment : 환경\n",
    "# company : 기업\n",
    "# goverment : 정부\n",
    "# face : 얼굴\n",
    "\n",
    "words = {\"enviroment\" : [\"환경\", \"x\"], \n",
    "         \"company\" : [\"회사\", \"o\"], \n",
    "         \"goverment\" : [\"정부\", \"x\"], \n",
    "         \"face\" : [\"얼굴\", \"x\"],\n",
    "         \"word\" : [\"단어\" , \"x\"],\n",
    "}\n",
    "key= words.keys()\n",
    "for k in key : \n",
    "    print(f\"{k} : {words[k]}\")"
   ]
  },
  {
   "cell_type": "code",
   "execution_count": 150,
   "id": "fcb318af-cbb5-45df-bf66-ef031db5574d",
   "metadata": {},
   "outputs": [
    {
     "data": {
      "text/plain": [
       "dict_values"
      ]
     },
     "execution_count": 150,
     "metadata": {},
     "output_type": "execute_result"
    }
   ],
   "source": [
    "type(words.values() )\n",
    "\n"
   ]
  },
  {
   "cell_type": "code",
   "execution_count": 188,
   "id": "25b98ca6-9606-40d5-86ab-069605b9937e",
   "metadata": {},
   "outputs": [
    {
     "name": "stdin",
     "output_type": "stream",
     "text": [
      "word goverment\n"
     ]
    },
    {
     "name": "stdout",
     "output_type": "stream",
     "text": [
      "\n",
      "enviroment\n",
      "\n",
      "face\n",
      "\n",
      "word\n"
     ]
    }
   ],
   "source": [
    "# 사용자로부터 사전에 등록되어 있는 단어들 중 1개를 입력받으세요, 그리고 입력받은 단어의 경우 ,\n",
    "#외움표시 o 표시로 수정(출력) 하고 , 아직 외우지 못한 단어들만 출력하도록 하는 코드\n",
    "memory = input(\"word\")\n",
    "if memory in key : \n",
    "  words[memory][1] = \"o\"\n",
    "else : \n",
    "    print(\"없는 단어입니다\")\n",
    "\n",
    "for w in key : \n",
    "    wordlist = words[w] \n",
    "    if wordlist[1] == \"x\":\n",
    "        print(f\"\\n{w}\")\n"
   ]
  },
  {
   "cell_type": "code",
   "execution_count": 167,
   "id": "739a1dd3-9e97-44a1-af73-fc94b78f83f8",
   "metadata": {},
   "outputs": [
    {
     "data": {
      "text/plain": [
       "'o'"
      ]
     },
     "execution_count": 167,
     "metadata": {},
     "output_type": "execute_result"
    }
   ],
   "source": [
    "memory = list(list(words.values()))[1][1]\n",
    "memory = list(list(words.values()))[n][1]"
   ]
  },
  {
   "cell_type": "code",
   "execution_count": null,
   "id": "9de5125f-90f8-4ec1-a6cf-dbb5bc15d66d",
   "metadata": {},
   "outputs": [],
   "source": [
    "english = input(\"다 외운 단어 입력하기\")\n",
    "\n",
    "if english in data.keys() : \n",
    "    print(data[english])\n",
    "else:\n",
    "    print(\"존재하지 않는 단어입니다\")"
   ]
  },
  {
   "cell_type": "code",
   "execution_count": 194,
   "id": "6056be1e-18f5-4b74-9fee-88fdf152c3ab",
   "metadata": {},
   "outputs": [
    {
     "data": {
      "text/plain": [
       "{'enviroment': '환경',\n",
       " 'goverment': '정부',\n",
       " 'company': '회사',\n",
       " 'face': '얼굴',\n",
       " 'apple': '사과'}"
      ]
     },
     "execution_count": 194,
     "metadata": {},
     "output_type": "execute_result"
    }
   ],
   "source": [
    "dict_all = {\"enviroment\":\"환경\" , \"goverment\":\"정부\"}\n",
    "dict2 = {\"company\" : \"회사\" , \"face\":\"얼굴\"} \n",
    "dict3 = {\"apple\":\"사과\"}\n",
    "# dict_all 안에 dict2, dict3를 전부 넣기 , dict all 출력 \n",
    "key2 = dict2.keys()\n",
    "key3 = dict3.keys()\n",
    "\n",
    "\n",
    "for item2 in key2 : \n",
    "    dict_all[item2] = dict2[item2]\n",
    "for item3 in key3 : \n",
    "    dict_all[item3] = dict3[item3]\n",
    "\n",
    "dict_all"
   ]
  },
  {
   "cell_type": "code",
   "execution_count": 203,
   "id": "11e6a8ee-bdb0-4b32-a8a0-057bbfd1af56",
   "metadata": {},
   "outputs": [
    {
     "data": {
      "text/plain": [
       "{1, 3, 4, 5, 6}"
      ]
     },
     "execution_count": 203,
     "metadata": {},
     "output_type": "execute_result"
    }
   ],
   "source": [
    "number_list = {1,2,3}\n",
    "number_list.add(4)\n",
    "\n",
    "number_list.update([5,6]) #한번에 여러 값을 추가하려면 []로 리스트의 형태로 \n",
    "number_list\n",
    "\n",
    "number_list.remove(2)\n",
    "\n",
    "\n",
    "number_list"
   ]
  },
  {
   "cell_type": "code",
   "execution_count": 213,
   "id": "c5a08e7b-e5d5-432c-8d0d-494b129e7f88",
   "metadata": {},
   "outputs": [
    {
     "name": "stdin",
     "output_type": "stream",
     "text": [
      "첫번째 숫자: 1\n",
      "두번째 숫자: 2\n"
     ]
    },
    {
     "name": "stdout",
     "output_type": "stream",
     "text": [
      "2\n"
     ]
    }
   ],
   "source": [
    "# 임의의 숫자 두개를 사용자로부터 받아 해당 두개의 숫자를 곱한 값을 반환하는 함수를 만들고 , 해당 함수의 결과값을 화면에 출력하세요\n",
    "\n",
    "def multi() :\n",
    "    num1 = int(input(\"첫번째 숫자:\"))\n",
    "    num2 = int(input(\"두번째 숫자:\"))\n",
    "    result = num1*num2\n",
    "    return(result)\n",
    "\n",
    "print(multi())"
   ]
  },
  {
   "cell_type": "code",
   "execution_count": 221,
   "id": "e73343b0-379b-4385-a333-2a9cd1d26d2e",
   "metadata": {},
   "outputs": [
    {
     "name": "stdin",
     "output_type": "stream",
     "text": [
      "1 2\n",
      "2 3\n"
     ]
    },
    {
     "name": "stdout",
     "output_type": "stream",
     "text": [
      "6\n"
     ]
    }
   ],
   "source": [
    "num1 = int(input(\"1\"))\n",
    "num2 = int(input(\"2\"))\n",
    "\n",
    "def f1(num1, num2):\n",
    "    return num1 * num2\n",
    "\n",
    "print(f1(num1,num2))"
   ]
  },
  {
   "cell_type": "code",
   "execution_count": 224,
   "id": "18d96da1-747a-4e11-b804-99ee43370244",
   "metadata": {},
   "outputs": [
    {
     "name": "stdin",
     "output_type": "stream",
     "text": [
      "입력 45\n",
      "입력 4\n"
     ]
    },
    {
     "name": "stdout",
     "output_type": "stream",
     "text": [
      "180\n"
     ]
    }
   ],
   "source": [
    "num_all = [int(input(\"입력\")) for _ in range(2)]\n",
    "\n",
    "def f2(num1,num2):\n",
    "    return num1*num2\n",
    "\n",
    "print(f1(num_all[0],num_all[1]))"
   ]
  },
  {
   "cell_type": "code",
   "execution_count": 237,
   "id": "81b67c09-1c78-42ee-8bee-f2721332b928",
   "metadata": {},
   "outputs": [
    {
     "name": "stdin",
     "output_type": "stream",
     "text": [
      "first 1\n",
      "second 2\n",
      "연산자 /\n"
     ]
    },
    {
     "data": {
      "text/plain": [
       "0"
      ]
     },
     "execution_count": 237,
     "metadata": {},
     "output_type": "execute_result"
    }
   ],
   "source": [
    "# 인자값 3개를 받을 수 있는 함수를 호출합니다. \n",
    "#func1(인자1,인자2,인자3)\n",
    "# 인자 3이 + 라면 인자1,인자2 를 더한 값 을 반환 / *라면 인자1*인자2 / 그런데 인자3이  둘 다 아니라면 0을 반환하도록\n",
    "\n",
    "def func1():\n",
    "    num1 = int(input(\"first\"))\n",
    "    num2 = int(input(\"second\"))\n",
    "    num3 = input(\"연산자\")\n",
    "    if num3 == \"+\" : \n",
    "        result = num1 + num2 \n",
    "    elif num3 == \"*\":\n",
    "        result = num1*num2\n",
    "    else : \n",
    "        result = 0\n",
    "    return(result)\n",
    " \n",
    "func1()"
   ]
  },
  {
   "cell_type": "code",
   "execution_count": 245,
   "id": "4439c636-879a-42c6-b925-dd2737967c81",
   "metadata": {},
   "outputs": [
    {
     "name": "stdout",
     "output_type": "stream",
     "text": [
      "3 6 0\n"
     ]
    }
   ],
   "source": [
    "def calc(data1, data2, way):\n",
    "    if way == \"+\": \n",
    "        return data1 + data2\n",
    "    elif way == \"*\":\n",
    "        return data1 * data2 \n",
    "    else : \n",
    "        return 0\n",
    "\n",
    "data01 = calc(1,2,\"+\")\n",
    "data02 = calc(3,2,\"*\")\n",
    "data03 = calc(2,4,\"-\")\n",
    "print(data01 , data02 , data03)"
   ]
  },
  {
   "cell_type": "code",
   "execution_count": null,
   "id": "6fdadc3d-21a8-434f-b17e-34baa9c41127",
   "metadata": {},
   "outputs": [],
   "source": []
  }
 ],
 "metadata": {
  "kernelspec": {
   "display_name": "Python [conda env:anaconda3] *",
   "language": "python",
   "name": "conda-env-anaconda3-py"
  },
  "language_info": {
   "codemirror_mode": {
    "name": "ipython",
    "version": 3
   },
   "file_extension": ".py",
   "mimetype": "text/x-python",
   "name": "python",
   "nbconvert_exporter": "python",
   "pygments_lexer": "ipython3",
   "version": "3.13.5"
  }
 },
 "nbformat": 4,
 "nbformat_minor": 5
}
