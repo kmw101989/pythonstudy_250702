{
 "cells": [
  {
   "cell_type": "markdown",
   "id": "2e7678b1-a068-412e-a8e7-cd2cbc087f92",
   "metadata": {},
   "source": [
    "#### 웹 사이트 내 데이터 크롤링 \n",
    "- 크롤링 : 마치 동물의 발톱 혹은 갈퀴로 어떤 정보를 잡아채온다.\n",
    "- 크롤링은 파이썬에서만 할 수 있는가? X 파이썬이 아닌 언어로도 충분히 가능\n",
    "- 파이썬은 문법이 타 언어에 비해 심플 => 초심자가 학습하기에 매우 적절\n",
    "- 꼭 굳이 개발자가 아니더라도 비 개발자가 쉽고 간편하고 빠르게 개발언어를 활용해서 크롤링을 할 수 있도록 도와주는 거의 유일한 언어\n",
    "- 왜 다른 언어는 굳이 복잡한가? => 파이썬 언어는 내.외부 라이브러리 소스를 가져다가 사용할 수 있는 기회 혹은 상황이 많음\n",
    "- beautifulsoup : 아래의 reuests를 통해서 찾아온 HTML 문서를 파싱(parsing)\n",
    "- requests : 크롤링 해오고자 하는 웹 사이트를 요청 => html 문서 안에 있는 코드를 가져오는 역할"
   ]
  },
  {
   "cell_type": "code",
   "execution_count": 3,
   "id": "32fe23c6-0ca8-40e0-b334-03e1a0dda473",
   "metadata": {
    "collapsed": true,
    "jupyter": {
     "outputs_hidden": true
    }
   },
   "outputs": [
    {
     "name": "stdout",
     "output_type": "stream",
     "text": [
      "Defaulting to user installation because normal site-packages is not writeableNote: you may need to restart the kernel to use updated packages.\n",
      "\n",
      "Requirement already satisfied: requests in c:\\programdata\\anaconda3\\lib\\site-packages (2.32.3)\n",
      "Requirement already satisfied: charset-normalizer<4,>=2 in c:\\programdata\\anaconda3\\lib\\site-packages (from requests) (3.3.2)\n",
      "Requirement already satisfied: idna<4,>=2.5 in c:\\programdata\\anaconda3\\lib\\site-packages (from requests) (3.7)\n",
      "Requirement already satisfied: urllib3<3,>=1.21.1 in c:\\programdata\\anaconda3\\lib\\site-packages (from requests) (2.3.0)\n",
      "Requirement already satisfied: certifi>=2017.4.17 in c:\\programdata\\anaconda3\\lib\\site-packages (from requests) (2025.6.15)\n"
     ]
    }
   ],
   "source": [
    "pip install requests"
   ]
  },
  {
   "cell_type": "code",
   "execution_count": 2,
   "id": "03ffccab-52b6-459e-8332-0931794e1a36",
   "metadata": {
    "collapsed": true,
    "jupyter": {
     "outputs_hidden": true
    }
   },
   "outputs": [
    {
     "name": "stdout",
     "output_type": "stream",
     "text": [
      "Defaulting to user installation because normal site-packages is not writeable\n",
      "Requirement already satisfied: beautifulsoup4 in c:\\programdata\\anaconda3\\lib\\site-packages (4.12.3)\n",
      "Requirement already satisfied: soupsieve>1.2 in c:\\programdata\\anaconda3\\lib\\site-packages (from beautifulsoup4) (2.5)\n",
      "Note: you may need to restart the kernel to use updated packages.\n"
     ]
    }
   ],
   "source": [
    "pip install beautifulsoup4"
   ]
  },
  {
   "cell_type": "code",
   "execution_count": 42,
   "id": "e14b0fd1-508d-4f0b-886d-29a6a32315ca",
   "metadata": {
    "scrolled": true
   },
   "outputs": [
    {
     "name": "stdout",
     "output_type": "stream",
     "text": [
      "1번째 상품 카테고리: https://static.coupangcdn.com/image/retail/images/2017/10/11/16/6/bf3b2157-528d-4b24-9991-b601a24f4c6f.jpg \n",
      "상품이미지: 매트리스커버 관련 상품 추천 \n",
      " \n",
      "2번째 상품 카테고리: https://static.coupangcdn.com/image/product/image/vendoritem/2018/11/28/3647689009/d72a996d-1e4e-42be-a23c-f9f6872214bb.jpg \n",
      "상품이미지: 매트리스커버 관련 상품 추천 \n",
      " \n",
      "3번째 상품 카테고리: https://static.coupangcdn.com/image/product/image/vendoritem/2019/06/11/3361297461/699c49cc-5f9f-4927-ab26-b184f90c1571.jpg \n",
      "상품이미지: 매트리스커버 관련 상품 추천 \n",
      " \n",
      "4번째 상품 카테고리: https://static.coupangcdn.com/image/retail/images/2018/10/26/16/9/c6dfa004-442c-4f48-9ff1-b76d81bae046.jpg \n",
      "상품이미지: 매트리스커버 관련 상품 추천 \n",
      " \n",
      "5번째 상품 카테고리: https://static.coupangcdn.com/image/retail/images/2019/04/01/22/6/f9566f49-cf8c-48dd-bc73-b543a3f47f62.jpg \n",
      "상품이미지: 매트리스커버 관련 상품 추천 \n",
      " \n",
      "6번째 상품 카테고리: https://static.coupangcdn.com/image/retail/images/12859794410743-0ab1b2fe-1cd4-4599-b38a-3fb22f3bf620.jpg \n",
      "상품이미지: 매트리스커버 관련 상품 추천 \n",
      " \n",
      "7번째 상품 카테고리: https://static.coupangcdn.com/image/retail/images/2019/03/28/19/3/2d9f9b52-0cc9-424f-8639-8f298429d244.jpg \n",
      "상품이미지: 매트리스커버 관련 상품 추천 \n",
      " \n",
      "8번째 상품 카테고리: https://static.coupangcdn.com/image/retail/images/2017/10/19/15/4/95b93d25-7014-458a-a2a5-9b93189cdcef.jpg \n",
      "상품이미지: 매트리스커버 관련 상품 추천 \n",
      " \n",
      "9번째 상품 카테고리: https://static.coupangcdn.com/image/retail/images/2019/07/29/12/3/704931d7-4dbd-4af7-9247-856831bdc61e.jpg \n",
      "상품이미지: 행거도어 관련 상품 추천 \n",
      " \n",
      "10번째 상품 카테고리: https://static.coupangcdn.com/image/retail/images/2017/10/13/10/3/8379ffd3-63be-4da4-98f9-895aaa0c9b52.jpg \n",
      "상품이미지: 매트리스커버 관련 상품 추천 \n",
      " \n",
      "11번째 상품 카테고리: https://static.coupangcdn.com/image/retail/images/2018/09/17/19/4/329dbb2f-a0ad-44d4-af46-1eea0c548b67.jpg \n",
      "상품이미지: 매트리스커버 관련 상품 추천 \n",
      " \n",
      "12번째 상품 카테고리: https://static.coupangcdn.com/image/retail/images/339338956730835-5cbe0521-2a03-4fe2-8eb7-7a7ae9ff187f.jpg \n",
      "상품이미지: 매트리스커버 관련 상품 추천 \n",
      " \n"
     ]
    }
   ],
   "source": [
    "import requests \n",
    "from bs4 import BeautifulSoup  \n",
    "\n",
    "url = \"https://davelee-fun.github.io\"\n",
    "response = requests.get(url)\n",
    "soup = BeautifulSoup(response.text, \"html.parser\")\n",
    "\n",
    "cards = soup.select(\"div.maxthumb img\")\n",
    "card_data = [] \n",
    "\n",
    "for idx, card in enumerate(cards, start=1)  : #enumerate : 인자값의 인덱스값을 반환 start=1 => 1번부터 부여 (0이 아니라)\n",
    "    title = card.get(\"src\",\"\").strip() #src:이미지 소스 \n",
    "    img_url = card.get(\"alt\",\"제목 없음\").strip()\n",
    "    \n",
    "    card_info = (idx, title, img_url)\n",
    "    card_data.append(card_info)\n",
    "\n",
    "for item in card_data : \n",
    "    print(f\"{item[0]}번째 상품 카테고리: {item[1]} \\n상품이미지: {item[2]} \\n \")"
   ]
  },
  {
   "cell_type": "code",
   "execution_count": 30,
   "id": "ca57bc34-440d-4280-be7d-f99c04ffd5ca",
   "metadata": {
    "collapsed": true,
    "jupyter": {
     "outputs_hidden": true,
     "source_hidden": true
    },
    "scrolled": true
   },
   "outputs": [
    {
     "name": "stdout",
     "output_type": "stream",
     "text": [
      "https://static.coupangcdn.com/image/retail/images/2017/10/11/16/6/bf3b2157-528d-4b24-9991-b601a24f4c6f.jpg\n",
      "매트리스커버 관련 상품 추천\n",
      "\n",
      "https://static.coupangcdn.com/image/product/image/vendoritem/2018/11/28/3647689009/d72a996d-1e4e-42be-a23c-f9f6872214bb.jpg\n",
      "매트리스커버 관련 상품 추천\n",
      "\n",
      "https://static.coupangcdn.com/image/product/image/vendoritem/2019/06/11/3361297461/699c49cc-5f9f-4927-ab26-b184f90c1571.jpg\n",
      "매트리스커버 관련 상품 추천\n",
      "\n",
      "https://static.coupangcdn.com/image/retail/images/2018/10/26/16/9/c6dfa004-442c-4f48-9ff1-b76d81bae046.jpg\n",
      "매트리스커버 관련 상품 추천\n",
      "\n",
      "https://static.coupangcdn.com/image/retail/images/2019/04/01/22/6/f9566f49-cf8c-48dd-bc73-b543a3f47f62.jpg\n",
      "매트리스커버 관련 상품 추천\n",
      "\n",
      "https://static.coupangcdn.com/image/retail/images/12859794410743-0ab1b2fe-1cd4-4599-b38a-3fb22f3bf620.jpg\n",
      "매트리스커버 관련 상품 추천\n",
      "\n",
      "https://static.coupangcdn.com/image/retail/images/2019/03/28/19/3/2d9f9b52-0cc9-424f-8639-8f298429d244.jpg\n",
      "매트리스커버 관련 상품 추천\n",
      "\n",
      "https://static.coupangcdn.com/image/retail/images/2017/10/19/15/4/95b93d25-7014-458a-a2a5-9b93189cdcef.jpg\n",
      "매트리스커버 관련 상품 추천\n",
      "\n",
      "https://static.coupangcdn.com/image/retail/images/2019/07/29/12/3/704931d7-4dbd-4af7-9247-856831bdc61e.jpg\n",
      "행거도어 관련 상품 추천\n",
      "\n",
      "https://static.coupangcdn.com/image/retail/images/2017/10/13/10/3/8379ffd3-63be-4da4-98f9-895aaa0c9b52.jpg\n",
      "매트리스커버 관련 상품 추천\n",
      "\n",
      "https://static.coupangcdn.com/image/retail/images/2018/09/17/19/4/329dbb2f-a0ad-44d4-af46-1eea0c548b67.jpg\n",
      "매트리스커버 관련 상품 추천\n",
      "\n",
      "https://static.coupangcdn.com/image/retail/images/339338956730835-5cbe0521-2a03-4fe2-8eb7-7a7ae9ff187f.jpg\n",
      "매트리스커버 관련 상품 추천\n",
      "\n"
     ]
    }
   ],
   "source": [
    " for card in cards :\n",
    "     title = print(card.get(\"src\",\"\").strip()) #src:이미지 소스 \n",
    "     img_url = print(card.get(\"alt\",\"제목 없음\").strip())\n",
    "     print()\n",
    "\n"
   ]
  },
  {
   "cell_type": "code",
   "execution_count": 44,
   "id": "d8fdbd38-6220-4c6e-aa86-58c0432592ec",
   "metadata": {},
   "outputs": [],
   "source": [
    "import requests \n",
    "from bs4 import BeautifulSoup  \n",
    "\n",
    "url = \"https://prod.danawa.com/list/?cate=112782&innerSearchKeyword=%EB%AC%B4%EC%A0%91%EC%A0%90&src=adwords&kw=%EB%AC%B4%EC%A0%91%EC%A0%90%ED%82%A4%EB%B3%B4%EB%93%9C&utm_source=google&utm_medium=cpc&utm_campaign=keyword&gad_source=1&gad_campaignid=17490501335&gbraid=0AAAAAoum5Yn2h6CT5TcANEq50Pp1zFKUN&gclid=Cj0KCQjw1JjDBhDjARIsABlM2SsX8BjGAvM89mdCa5jFzscpc_UVERYHlDHAYvyvyCsY4QfLq_o9dTkaAnBOEALw_wcB\"\n",
    "response1 = requests.get(url)\n",
    "soup1 = BeautifulSoup(response.text, \"html.parser\")\n",
    "\n",
    "cards1 = soup1.select(\"div.prod_name\")\n",
    "card_data1 = [] \n",
    "\n",
    "for idx, card in enumerate(cards1, start=1)  : #enumerate : 인자값의 인덱스값을 반환 start=1 => 1번부터 부여 (0이 아니라)\n",
    "    title1 = card.get(\"src\",\"\").strip() #src:이미지 소스 \n",
    "    img_url1 = card.get(\"alt\",\"제목 없음\").strip()\n",
    "    \n",
    "    card_info1 = (idx, title, img_url)\n",
    "    card_data1.append(card_info)\n",
    "\n",
    "for item in card_data1 : \n",
    "    print(f\"{item[0]}번째 상품 카테고리: {item[1]} \\n상품이미지: {item[2]} \\n \")"
   ]
  }
 ],
 "metadata": {
  "kernelspec": {
   "display_name": "Python [conda env:anaconda3] *",
   "language": "python",
   "name": "conda-env-anaconda3-py"
  },
  "language_info": {
   "codemirror_mode": {
    "name": "ipython",
    "version": 3
   },
   "file_extension": ".py",
   "mimetype": "text/x-python",
   "name": "python",
   "nbconvert_exporter": "python",
   "pygments_lexer": "ipython3",
   "version": "3.13.5"
  }
 },
 "nbformat": 4,
 "nbformat_minor": 5
}
