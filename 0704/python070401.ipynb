{
 "cells": [
  {
   "cell_type": "markdown",
   "id": "6164a428-e153-4778-bab4-e358b688e642",
   "metadata": {},
   "source": [
    "#### 파이썬 자료구조\n",
    "- list => 하나의 그룹안에 순번을 매겨서 값을 지정해놓은 형태 (*값 수정,변경 허용)\n",
    "- tuple => 하나의 그룹안에 순번을 매겨서 값을 지정해놓은 형태 (*값 수정,변경 허용)\n",
    "- dictionary => 사전(* 단어: 뜻,형태,예시 등등 세부정보) => key(단어) & value(의미)\n",
    "- CRUD => 웹사이트 구현 정도 // 프로그램 난이도 // 고급언어인지, 저급언어인지 등을 구분 가능\n",
    "- Create // Read // Update // Delete => 고급언어로 난이도 높은 정도 ==> dict는 높음\n",
    "- 프로그래밍언어는 절대로 정답은 x => 예제 문제 => 문제를 해결한 방법 // 수강생들이 문제를 해결한 방법 => 누가 맞고 틀림은 없다\n",
    "- 세상에 듣도보도 못한 어떤 문법체계를 가져와서 문제를 해결\n",
    "- 개발영역 => 결과가 도출된다면 모두 답 => 어떤 답이 효과적인가 || 효율이 있는가?\n",
    "- 만들고자 하는 프로그램이 지향하는 것이 무엇인가 => 안정성 // 속도 // 메모리\n",
    "- 효율성의 기준 = 시간  => 빠른시간 내 코드를 처리할 수 있는가 ==> Big omega // Big theta // Big Oh => 하드웨어(컴퓨터) 의 성능차이\n",
    "- 빅오 시간 체크 => 가장 많은 시간을 차지하는 것 하나를 체크 => 반복문  "
   ]
  },
  {
   "cell_type": "code",
   "execution_count": 2,
   "id": "db150f17-e122-43cb-8c65-92440f7f658a",
   "metadata": {},
   "outputs": [
    {
     "data": {
      "text/plain": [
       "{'name': 'david'}"
      ]
     },
     "execution_count": 2,
     "metadata": {},
     "output_type": "execute_result"
    }
   ],
   "source": [
    "dict1 = {\"name\": \"david\"}\n",
    "dict1"
   ]
  },
  {
   "cell_type": "code",
   "execution_count": 5,
   "id": "4d6accb9-985c-4d4f-8c9f-92b0cc5d569b",
   "metadata": {},
   "outputs": [
    {
     "data": {
      "text/plain": [
       "{'korean': 95, 'math': 100, 'science': 80}"
      ]
     },
     "execution_count": 5,
     "metadata": {},
     "output_type": "execute_result"
    }
   ],
   "source": [
    "dict2 = {\"korean\":95, \"math\":100, \"science\":80}\n",
    "dict2"
   ]
  },
  {
   "cell_type": "code",
   "execution_count": 8,
   "id": "950dc783-22b5-4afd-be1f-c3bdbf78493a",
   "metadata": {},
   "outputs": [
    {
     "data": {
      "text/plain": [
       "dict"
      ]
     },
     "execution_count": 8,
     "metadata": {},
     "output_type": "execute_result"
    }
   ],
   "source": [
    "#list1 = [] | [1,2] | list()\n",
    "#tuple1 = () | (1,2) | tuple() \n",
    "\n",
    "dict1 = {} #{} => set 라는 자료구조일 수 있음 => 페어로 값이 있다면 dictionary\n",
    "dict2 = dict() \n",
    "\n",
    "type(dict2)"
   ]
  },
  {
   "cell_type": "code",
   "execution_count": 9,
   "id": "7eda9b85-66f2-4c63-baf8-c290ed66deca",
   "metadata": {},
   "outputs": [
    {
     "data": {
      "text/plain": [
       "'KR'"
      ]
     },
     "execution_count": 9,
     "metadata": {},
     "output_type": "execute_result"
    }
   ],
   "source": [
    "data_dict = {\"한국\" : \"KR\" , \"일본\":\"JP\" , \"중국\":\"CH\"}\n",
    "data_dict[\"한국\"]"
   ]
  },
  {
   "cell_type": "code",
   "execution_count": 10,
   "id": "cde15927-f62c-49d5-96e2-7643f08d82b2",
   "metadata": {},
   "outputs": [],
   "source": [
    "data_dict[\"미국\"] = \"US\""
   ]
  },
  {
   "cell_type": "code",
   "execution_count": 57,
   "id": "859766b8-7175-4e70-b149-ae2161df302e",
   "metadata": {},
   "outputs": [
    {
     "data": {
      "text/plain": [
       "{'한국': 'KR', '미국': 'USA'}"
      ]
     },
     "execution_count": 57,
     "metadata": {},
     "output_type": "execute_result"
    }
   ],
   "source": [
    "data_dict"
   ]
  },
  {
   "cell_type": "code",
   "execution_count": 31,
   "id": "3fc696d9-dad2-4d52-9659-e0360b3f0a64",
   "metadata": {},
   "outputs": [],
   "source": [
    "data_dict[\"미국\"] = \"USA\" #추가법 \"미국\" 을 추가하고 싶다 -\n"
   ]
  },
  {
   "cell_type": "code",
   "execution_count": 35,
   "id": "d9949b62-9875-47b3-9dd2-23fd0ce6ff20",
   "metadata": {},
   "outputs": [
    {
     "name": "stdout",
     "output_type": "stream",
     "text": [
      "<class 'dict_keys'>\n",
      "dict_values(['KR', 'USA'])\n",
      "dict_items([('한국', 'KR'), ('미국', 'USA')])\n"
     ]
    }
   ],
   "source": [
    "keys = data_dict.keys() \n",
    "keys \n",
    "print(type(keys))\n",
    "\n",
    "values = data_dict.values()\n",
    "print(values)\n",
    "\n",
    "items = data_dict.items()\n",
    "print(items)"
   ]
  },
  {
   "cell_type": "code",
   "execution_count": 39,
   "id": "7cbbbb3a-4112-415f-8d14-115e9dc5f1a6",
   "metadata": {},
   "outputs": [
    {
     "name": "stdout",
     "output_type": "stream",
     "text": [
      "한국\n",
      "KR\n",
      "미국\n",
      "USA\n"
     ]
    }
   ],
   "source": [
    "for key in keys : \n",
    "    print(key)\n",
    "    print(data_dict[key])"
   ]
  },
  {
   "cell_type": "code",
   "execution_count": 41,
   "id": "bf288851-30b3-4867-bd51-1bfeb91ee65b",
   "metadata": {},
   "outputs": [
    {
     "name": "stdout",
     "output_type": "stream",
     "text": [
      "('한국', 'KR')\n",
      "('미국', 'USA')\n"
     ]
    }
   ],
   "source": [
    "for item in items : \n",
    "    print(item)"
   ]
  },
  {
   "cell_type": "markdown",
   "id": "4f033231-6851-428f-9137-bc951f9fa69f",
   "metadata": {},
   "source": [
    "### 리스트 => \n",
    "- HTML 문서상에 제목이 여러개 있는 경우 "
   ]
  },
  {
   "cell_type": "code",
   "execution_count": 45,
   "id": "d1d037be-679c-4bfb-abe8-dbad879faf7b",
   "metadata": {},
   "outputs": [
    {
     "name": "stdout",
     "output_type": "stream",
     "text": [
      "newsA\n",
      "newsB\n",
      "newsC\n",
      "newsA\n"
     ]
    }
   ],
   "source": [
    "titles = [\"newsA\",\"newsB\",\"newsC\",\"newsA\"]\n",
    "for title in titles :\n",
    "    print(title)"
   ]
  },
  {
   "cell_type": "markdown",
   "id": "00a911f7-0b2c-4bff-8dd1-a3be2220e06a",
   "metadata": {},
   "source": [
    "#### 딕셔너리 "
   ]
  },
  {
   "cell_type": "code",
   "execution_count": 55,
   "id": "dfc5f34a-c2a1-4b7e-9000-150cd5b6d1ed",
   "metadata": {},
   "outputs": [
    {
     "data": {
      "text/plain": [
       "'newsA'"
      ]
     },
     "execution_count": 55,
     "metadata": {},
     "output_type": "execute_result"
    }
   ],
   "source": [
    "article01 = {\n",
    "    \"title\":\"newsA\",\n",
    "    \"link\":\"https://www.naver.com1\"\n",
    "}\n",
    "\n",
    "article02 = {\n",
    "    \"title\":\"newsA\",\n",
    "    \"link\":\"https://www.naver.com2\"\n",
    "}\n",
    "\n",
    "articleList = [article01,article02]\n",
    "articleList[0][\"title\"]"
   ]
  },
  {
   "cell_type": "code",
   "execution_count": null,
   "id": "ca40f3ee-ac2b-414f-9b42-9bccc00bf10f",
   "metadata": {},
   "outputs": [],
   "source": []
  }
 ],
 "metadata": {
  "kernelspec": {
   "display_name": "Python [conda env:anaconda3] *",
   "language": "python",
   "name": "conda-env-anaconda3-py"
  },
  "language_info": {
   "codemirror_mode": {
    "name": "ipython",
    "version": 3
   },
   "file_extension": ".py",
   "mimetype": "text/x-python",
   "name": "python",
   "nbconvert_exporter": "python",
   "pygments_lexer": "ipython3",
   "version": "3.13.5"
  }
 },
 "nbformat": 4,
 "nbformat_minor": 5
}
