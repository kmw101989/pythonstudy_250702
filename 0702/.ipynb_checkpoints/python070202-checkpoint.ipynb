{
 "cells": [
  {
   "cell_type": "markdown",
   "id": "ed707c05-6b93-4f73-ba62-9429583cd0a5",
   "metadata": {},
   "source": [
    "### 조건문 \n",
    "if 조건 :\n",
    "     실행문\n",
    "     \n",
    "if 조건1 and 조건2 :\n",
    "    실행문\n",
    "\n",
    "if 조건1 or 조건2 :\n",
    "    실행문\n",
    "    \n",
    "if not 조건 :\n",
    "    실행문\n",
    "\n",
    "```\n",
    "if 조건 :\n",
    "    실행문\n",
    "else :\n",
    "    실행문 \n",
    "\n",
    "```"
   ]
  },
  {
   "cell_type": "code",
   "execution_count": null,
   "id": "2c349ccf-ff2c-4d37-af4f-e901b33a4d16",
   "metadata": {},
   "outputs": [],
   "source": [
    "age = int(input(\"당신의 나이는?\"))\n",
    "if age < 19:\n",
    "   print(\"미성년자입니다\") \n",
    "else :\n",
    "    print(\"성인입니다\")\n",
    "#if age >= 19: \n",
    "   # print(\"성인입니다\")\n",
    "    "
   ]
  },
  {
   "cell_type": "code",
   "execution_count": 16,
   "id": "7c5065d4-be57-46c4-9b2d-7aa9961e40f5",
   "metadata": {},
   "outputs": [
    {
     "name": "stdin",
     "output_type": "stream",
     "text": [
      "인성의 나이 10\n",
      "지섭의 나이 20\n"
     ]
    },
    {
     "name": "stdout",
     "output_type": "stream",
     "text": [
      "미성년자 입장불가\n"
     ]
    }
   ],
   "source": [
    "age1 = int(input(\"인성의 나이\"))\n",
    "age2 = int(input(\"지섭의 나이\"))\n",
    "if age1 >= 19 and age2 >= 19:\n",
    "    print(\"영화관 입장 가능\")\n",
    "else :\n",
    "    print(\"미성년자 입장불가\")"
   ]
  },
  {
   "cell_type": "code",
   "execution_count": 19,
   "id": "fb1090a7-e1d2-4228-b979-56e3befdb867",
   "metadata": {},
   "outputs": [
    {
     "name": "stdin",
     "output_type": "stream",
     "text": [
      "인성의 나이 1\n",
      "지섭의 나이 2\n"
     ]
    }
   ],
   "source": [
    "age1 = int(input(\"인성의 나이\"))\n",
    "age2 = int(input(\"지섭의 나이\"))\n",
    "if age1 >= 19 or age2 >= 19:\n",
    "    print(\"영화관 입장 가능\")\n"
   ]
  },
  {
   "cell_type": "code",
   "execution_count": 25,
   "id": "02e5ebbb-6aef-4d3d-bfc2-729f974b47d6",
   "metadata": {},
   "outputs": [
    {
     "name": "stdin",
     "output_type": "stream",
     "text": [
      "승원의 나이 40\n"
     ]
    },
    {
     "name": "stdout",
     "output_type": "stream",
     "text": [
      "영화관 입장 가능\n"
     ]
    }
   ],
   "source": [
    "age3 = int(input(\"승원의 나이\"))\n",
    "if not age3 <= 19 : \n",
    "    print(\"영화관 입장 가능\")\n",
    "else :\n",
    "    print(\"다른 극장을 이용하세요\")"
   ]
  },
  {
   "cell_type": "code",
   "execution_count": 28,
   "id": "bf7c1b2c-a3d1-4a08-95ee-12449e9dbe9f",
   "metadata": {},
   "outputs": [
    {
     "name": "stdin",
     "output_type": "stream",
     "text": [
      "현재 가지고 있는 현금은 얼마인가요 12312\n"
     ]
    },
    {
     "name": "stdout",
     "output_type": "stream",
     "text": [
      "오늘 저녁은 집에서 먹자\n"
     ]
    }
   ],
   "source": [
    "cash = int(input(\"현재 가지고 있는 현금은 얼마인가요\"))\n",
    "\n",
    "if cash > 100000 :\n",
    "    print(\"오늘 저녁은 VIPS\")\n",
    "else : \n",
    "    print(\"오늘 저녁은 집에서 먹자\")"
   ]
  },
  {
   "cell_type": "code",
   "execution_count": 32,
   "id": "9b8d24b0-9095-4568-8d9c-4a12bac6139c",
   "metadata": {},
   "outputs": [
    {
     "name": "stdin",
     "output_type": "stream",
     "text": [
      "당신의 나이는? 10\n"
     ]
    },
    {
     "name": "stdout",
     "output_type": "stream",
     "text": [
      "당신은 청소년입니다\n"
     ]
    }
   ],
   "source": [
    "#사용자로부터 나이를 입력받아 나이가 19세 이상이면 \"당신은 성인입니다\" 출력,  19세 미만이면 \"당신은 청소년입니다\" 출력\n",
    "ageq = int(input(\"당신의 나이는?\"))\n",
    "if ageq >= 19 :\n",
    "    print(\"당신은 성인입니다\")\n",
    "else :\n",
    "    print(\"당신은 청소년입니다\")"
   ]
  },
  {
   "cell_type": "markdown",
   "id": "9ecc25f0-424f-4c8e-a6e1-ebfc197a8a5b",
   "metadata": {},
   "source": [
    "#### else문 유의사항\n",
    "-어떤 조건문 안에서든 1회만 사용 가능 \n",
    "\n",
    "-else 문 조건문 중간에 절대 입력할 수 없음\n",
    "\n",
    "-else 문 독립적으로 조건식을 받을 수 없음 \n"
   ]
  },
  {
   "cell_type": "code",
   "execution_count": 60,
   "id": "f523f5fe-616c-4de7-85d3-f48b690f96bd",
   "metadata": {},
   "outputs": [
    {
     "name": "stdin",
     "output_type": "stream",
     "text": [
      "당신의 나이는? 1\n"
     ]
    },
    {
     "name": "stdout",
     "output_type": "stream",
     "text": [
      "당신은 아동입니다\n"
     ]
    }
   ],
   "source": [
    "#사용자로부터 나이를 입력 받아서 나이가 19세 이상이면 \"당신은 성인입니다\" 출력, 13세 이상 19세 미만이면 당신은 청소년입니다 13세 미만이면 당신은 아동입니다 출력 \n",
    "userAge = int(input(\"당신의 나이는?\"))\n",
    "if userAge >= 19 :\n",
    "    print(\"당신은 성인입니다\")\n",
    "if userAge < 19 and userAge >= 13:\n",
    "    print(\"당신은 청소년입니다\")\n",
    "if userAge < 13 :\n",
    "    print(\"당신은 아동입니다\")"
   ]
  },
  {
   "cell_type": "code",
   "execution_count": 61,
   "id": "b77c694d-4528-49c2-9db8-70e6fb556f6d",
   "metadata": {},
   "outputs": [
    {
     "name": "stdout",
     "output_type": "stream",
     "text": [
      "kid\n"
     ]
    }
   ],
   "source": [
    "\n",
    "if userAge >= 19:\n",
    "    print(\"adult\")\n",
    "elif userAge >= 13 and userAge < 19 :\n",
    "    print(\"adolscent\")\n",
    "else : \n",
    "    print(\"kid\")"
   ]
  },
  {
   "cell_type": "code",
   "execution_count": 64,
   "id": "be56b823-3ae6-4f7f-b077-b161c2da803d",
   "metadata": {},
   "outputs": [
    {
     "name": "stdout",
     "output_type": "stream",
     "text": [
      "baby\n"
     ]
    }
   ],
   "source": [
    "if userAge >= 19:\n",
    "    print(\"adult\")\n",
    "elif userAge >= 13 and userAge < 19 :\n",
    "    print(\"adolscent\")\n",
    "elif userAge>= 5 and userAge < 13: \n",
    "    print(\"kid\")\n",
    "else : \n",
    "    print(\"baby\")\n"
   ]
  },
  {
   "cell_type": "code",
   "execution_count": 73,
   "id": "640d24f1-dee6-4bb2-91f8-967e2ba7b73e",
   "metadata": {},
   "outputs": [
    {
     "name": "stdin",
     "output_type": "stream",
     "text": [
      "현금 잔액 50000\n"
     ]
    },
    {
     "name": "stdout",
     "output_type": "stream",
     "text": [
      "뷔페로 가세요\n"
     ]
    }
   ],
   "source": [
    "### 사용자로부터 현재 현금을 입력받고 , 100000원 이상이라면 레스토랑으로 출력. 50000~99999 라면 뷔페로갑시다 출력 50000원 미만이라면 집으로 가세요 출력\n",
    "balance = int(input(\"현금 잔액\"))\n",
    "if balance >= 100000 :\n",
    "    print(\"레스토랑으로 가세요\")\n",
    "elif balance >= 50000 and balance < 100000 : \n",
    "    print(\"뷔페로 가세요\")\n",
    "else :\n",
    "    print(\"집으로 가세요\")\n"
   ]
  },
  {
   "cell_type": "code",
   "execution_count": 76,
   "id": "1ac4f58e-206f-414a-9085-5979f48587ae",
   "metadata": {},
   "outputs": [
    {
     "name": "stdout",
     "output_type": "stream",
     "text": [
      "buffet\n"
     ]
    }
   ],
   "source": [
    "# 중첩조건문 \n",
    "if balance >= 100000 :\n",
    "    print(\"restorant\")\n",
    "else :\n",
    "    if balance >= 50000 : \n",
    "        print(\"buffet\")\n",
    "    else :\n",
    "        print(\"home\")"
   ]
  },
  {
   "cell_type": "code",
   "execution_count": 93,
   "id": "dfad38f8-7d9c-48cb-aaab-167238421fd7",
   "metadata": {},
   "outputs": [
    {
     "name": "stdin",
     "output_type": "stream",
     "text": [
      "현금 잔액 90000\n"
     ]
    }
   ],
   "source": [
    "# 사용자로부터 얼마의 현금이 있는지 확인 후 10만원 초과인 경우, 레스토랑 출력 그렇지 않은 경우 만약 5만원 미만인 경우 집 출력, \n",
    "#7만원 초과인 경우 패밀리레스토랑 출력 ,6 만원 초과인경우 한식집 출력 그렇지 않으면 분식집 출력\n",
    "# 레스토랑 > 10만원 >패밀리레스토랑 >7만원 > 한식집 >6만원 > 분식집 > 5만원 > 집 \n",
    "userBal = int(input(\"현금 잔액\"))\n",
    "\n",
    "if userBal > 100000: \n",
    "    print(\"restorant\")\n",
    "else : \n",
    "    if userBal > 70000 : \n",
    "        print(\"family R.\")\n",
    "    if userBal > 60000 and userBal <70000 :\n",
    "        print(\"korean R.\")\n",
    "    if userBal < 50000:\n",
    "        print(\"home\")\n",
    "    else :\n",
    "        print(\"분식집\")"
   ]
  },
  {
   "cell_type": "code",
   "execution_count": 101,
   "id": "7640255d-dd76-4586-9caa-268632a93158",
   "metadata": {},
   "outputs": [
    {
     "name": "stdin",
     "output_type": "stream",
     "text": [
      "현금 잔액 40000\n"
     ]
    },
    {
     "name": "stdout",
     "output_type": "stream",
     "text": [
      "home\n"
     ]
    }
   ],
   "source": [
    "userBal = int(input(\"현금 잔액\"))\n",
    "\n",
    "if userBal > 100000: \n",
    "    print(\"restorant\")\n",
    "else : \n",
    "    if userBal > 50000 : \n",
    "        if userBal > 70000 :\n",
    "            print(\"family R.\")\n",
    "        elif userBal > 60000 : \n",
    "            print(\"korean R.\")\n",
    "        else : \n",
    "            print(\"분식집\")\n",
    "    else :\n",
    "        print(\"home\")\n",
    "\n",
    "### 전체 범위 중 10만 이상인 경우 빼내기 , 50000원 이상인 경우 중에 70000이상 인경우, 60000만 이상인 경우 분리 그리고 그사이의 값 분리 , 그리고 나머지"
   ]
  },
  {
   "cell_type": "code",
   "execution_count": 118,
   "id": "82d46cb5-b34d-430d-a20e-bed10cbafcde",
   "metadata": {},
   "outputs": [
    {
     "name": "stdin",
     "output_type": "stream",
     "text": [
      "number: 123\n"
     ]
    },
    {
     "name": "stdout",
     "output_type": "stream",
     "text": [
      "123은 홀수\n"
     ]
    }
   ],
   "source": [
    "#사용자로부터 특정 숫자를 입력받은 후 해당 숫자가 홀수인지 짝수인지 분별하여 출력해주세요 \n",
    "num1 = int(input(\"number:\"))\n",
    "if num1 % 2 == 1 : \n",
    "    print(f\"{num1}은 홀수\")\n",
    "else :\n",
    "    print(f\"{num1}은 짝수\")"
   ]
  },
  {
   "cell_type": "code",
   "execution_count": 115,
   "id": "b4423793-54df-49ca-9ff0-def44a7bd8c3",
   "metadata": {},
   "outputs": [
    {
     "name": "stdin",
     "output_type": "stream",
     "text": [
      "A 1\n",
      "B 2\n",
      "C 3\n"
     ]
    },
    {
     "name": "stdout",
     "output_type": "stream",
     "text": [
      "1\n"
     ]
    }
   ],
   "source": [
    "#사용자로부터 3개의 숫자를 입력받은 후 그중 작은 숫자를 출력해주세요 \n",
    "numA = int(input(\"A\"))\n",
    "numB = int(input(\"B\"))\n",
    "numC = int(input(\"C\"))\n",
    "\n",
    "numComp = [numA , numB , numC]\n",
    "numComp.sort()\n",
    "print(numComp[0])"
   ]
  },
  {
   "cell_type": "code",
   "execution_count": 119,
   "id": "50e2b891-71af-4ce2-85ad-8c4d83535cd2",
   "metadata": {},
   "outputs": [
    {
     "name": "stdout",
     "output_type": "stream",
     "text": [
      "1\n"
     ]
    }
   ],
   "source": [
    "if numA < numB and numB < numC :\n",
    "    print(numA)\n",
    "if numB < numC and numB < numA :\n",
    "    print(numB)\n",
    "if numC < numA and numC < numB :\n",
    "    print(numC)\n"
   ]
  },
  {
   "cell_type": "code",
   "execution_count": 126,
   "id": "812fc613-0743-4dde-bd25-2c3eecf31567",
   "metadata": {},
   "outputs": [
    {
     "data": {
      "text/plain": [
       "1"
      ]
     },
     "execution_count": 126,
     "metadata": {},
     "output_type": "execute_result"
    }
   ],
   "source": [
    "min(numA, numB, numC)"
   ]
  },
  {
   "cell_type": "code",
   "execution_count": 129,
   "id": "08525585-2ed1-4b22-b73a-03476602d337",
   "metadata": {},
   "outputs": [
    {
     "name": "stdin",
     "output_type": "stream",
     "text": [
      " 1\n",
      " 2\n",
      " 3\n"
     ]
    },
    {
     "data": {
      "text/plain": [
       "1"
      ]
     },
     "execution_count": 129,
     "metadata": {},
     "output_type": "execute_result"
    }
   ],
   "source": [
    "nums = [int(input()) for _ in range(3)]\n",
    "min(nums)"
   ]
  }
 ],
 "metadata": {
  "kernelspec": {
   "display_name": "Python [conda env:anaconda3] *",
   "language": "python",
   "name": "conda-env-anaconda3-py"
  },
  "language_info": {
   "codemirror_mode": {
    "name": "ipython",
    "version": 3
   },
   "file_extension": ".py",
   "mimetype": "text/x-python",
   "name": "python",
   "nbconvert_exporter": "python",
   "pygments_lexer": "ipython3",
   "version": "3.13.5"
  }
 },
 "nbformat": 4,
 "nbformat_minor": 5
}
