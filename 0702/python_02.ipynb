{
 "cells": [
  {
   "cell_type": "markdown",
   "id": "a73be843-afc8-495d-93b5-6c205abebc92",
   "metadata": {},
   "source": [
    "#### 파이썬 입출력 예시\n",
    "\n",
    "-사용자로부터 두 개의 숙자를 입력받은 후 해당 두개의 숫자를 더한 값을 출력하는 코드"
   ]
  },
  {
   "cell_type": "code",
   "execution_count": 4,
   "id": "6cae95fd-5af4-4537-9382-1c154cb31210",
   "metadata": {},
   "outputs": [
    {
     "name": "stdin",
     "output_type": "stream",
     "text": [
      "first 1\n",
      "second 2\n"
     ]
    },
    {
     "name": "stdout",
     "output_type": "stream",
     "text": [
      "3\n"
     ]
    }
   ],
   "source": [
    "\n",
    "answer01 = input(\"first\")\n",
    "answer02 = input(\"second\")\n",
    "print(int(answer01) + int(answer02))"
   ]
  },
  {
   "cell_type": "markdown",
   "id": "67d81449-5a87-47f7-a1f6-0991f462d0a7",
   "metadata": {},
   "source": [
    "#### 사용자로부터 두 개의 숫자를 입력받은 후 곱한 값, 나눈 값, 나눈 몫, 나머지 값을 각각 출력하는 코드"
   ]
  },
  {
   "cell_type": "code",
   "execution_count": 18,
   "id": "5cae6f60-75a0-4754-bb48-5ae0c5e09a97",
   "metadata": {},
   "outputs": [
    {
     "name": "stdin",
     "output_type": "stream",
     "text": [
      "first: 5\n",
      "second: 2\n"
     ]
    },
    {
     "name": "stdout",
     "output_type": "stream",
     "text": [
      "곱: 10\n",
      "나눈 값:2.5\n",
      "나눈 몫:2\n",
      "나머지: 1\n"
     ]
    }
   ],
   "source": [
    "num01 = int(input(\"first:\"))\n",
    "num02 = int(input(\"second:\"))\n",
    "print(\"곱:\", num01 * num02) \n",
    "print(f\"나눈 값:{num01 / num02}\")\n",
    "print(f\"나눈 몫:{num01 // num02}\")\n",
    "print(\"나머지:\" , num01 % num02)"
   ]
  },
  {
   "cell_type": "markdown",
   "id": "470f5f8f-641b-4016-8cb7-2e68fa84a8a3",
   "metadata": {},
   "source": [
    "### 데이터 자료구조 - 리스트(list)\n",
    "- 파이썬의 리스트 => 다른 프로그래밍 언어에서 주로 배열(array) 라는 이름으로 많이 불림\n",
    "- 프로그래밍 언어 => 인간의 작업보다 효율적이다 => 패턴을 가지고 있는 반복적인 작업을 매우 빠르게 잘하기 때문\n",
    "- 어떤 연산처리 작업을 반복해서 할 수 있는 형태의 자료구조여야만 위의 작업을 할 수 있음\n",
    "- 이터러블 = iterable = 반복적인 // class\n",
    "- 리스트 자료구조는 내부에 입력된 값에 고유한 개별적인 index 값을 부여\n",
    "- \n",
    "- 리스트는 각각 고유한 인덱스값을 가지고 있음 (0부터 시작함) 오른쪽부터 찾으려면 -1을 넣기 \n",
    "- 리스트에서 특정 인덱스값을 찾아오고자 할 때 변수명[index]\n",
    "- 문자열과 동일하게 슬라이싱 가능 => 변수명[start_index : end_index+1]\n",
    "- append(0) : 리스트 자료구조에서 왼쪽부터 신규로 값을 추가할 수 있도록 해주는 함수\n",
    "- extend( ) : 리스트 자료구조에서 왼쪽부터 신규로 값을 추가하는데 있어서 복수의 값을 한 번에 추가할 수 있음 \n",
    "- remove() : 함수의 인자값을 리스트 자료구조의 읜쪽부터 서칭하다가 발견 시 삭제해주는 함수\n",
    "- insert(indexno. , index ) : 리스트 자료구조 안에 값을 추가할 수 있는 함수 -> 첫번째 인덱스는 추가하고자 하는 위치, 두번째 인덱스는 추가하고자 하는 값\n",
    "- del : del 변수명.[index] => 해당 인덱스를 가진 값을 삭제\n",
    "- sort() : 리스트 안에 있는 값을 오름차순으로 정렬할 때 사용하는 함수\n",
    "- reverse(): 리스트 안에 있는 값을 내림차순으로 정렬할 때 사용하는 함수\n",
    "- split( ) : 문자열의 내용을 ( ) 안의 인자값을 기준으로 쪼개어 list로 만듬 \"python is easy\" => [\"python\" , \"is\" , \"easy\"]"
   ]
  },
  {
   "cell_type": "markdown",
   "id": "9846e3f1-b02a-4d4c-9c77-ae9b554a66e5",
   "metadata": {},
   "source": [
    "#### 리스트 자료구조 생성하는 방법\n",
    "- 변수 선언과 함께 직접 대괄호 입력 후 내부에 요소들을 입력하는 방법\n",
    "- 아무런 값도 존재하지 않는 빈 리스트를 만들어놓고 값을 하나씩 채워가는 방법\n",
    "- 파이썬 내 클래스 문법을 통해 이미 생성된 리스트 프로토타입을 활용해서 인스턴스 객체를 생성하는 방법 "
   ]
  },
  {
   "cell_type": "code",
   "execution_count": 21,
   "id": "3043efac-db62-4273-93c3-202fbcf53591",
   "metadata": {},
   "outputs": [
    {
     "name": "stdout",
     "output_type": "stream",
     "text": [
      "오마이뉴스\n",
      "한국일보\n",
      "시사인\n",
      "뉴시스\n",
      "KBSNEWS\n",
      "스포츠조선\n"
     ]
    }
   ],
   "source": [
    "mydata = [\"hello\" ,1 ,2 ,\"world\"]\n",
    "news = [\"오마이뉴스\", \"한국일보\", \"시사인\", \"뉴시스\", \"KBSNEWS\", \"스포츠조선\"]\n",
    "\n",
    "for media in news : #반복문 \n",
    "    print(media)"
   ]
  },
  {
   "cell_type": "code",
   "execution_count": 28,
   "id": "2dafa9b6-3bbc-4263-ac1f-97dc68bc0839",
   "metadata": {},
   "outputs": [
    {
     "name": "stdout",
     "output_type": "stream",
     "text": [
      "서울시\n",
      "경기도\n",
      "인천시\n",
      "['서울시', '경기도', '인천시']\n",
      "<class 'list'>\n"
     ]
    }
   ],
   "source": [
    "location = [\"서울시\" , \"경기도\" , \"인천시\"]\n",
    "\n",
    "print(location[0])\n",
    "print(location[1])\n",
    "print(location[2])\n",
    "print(location)\n",
    "print(type(location)) #list 라는 데이터 형식 \n"
   ]
  },
  {
   "cell_type": "code",
   "execution_count": 90,
   "id": "832bb1e0-047b-4967-bed5-53451f0440e0",
   "metadata": {},
   "outputs": [
    {
     "data": {
      "text/plain": [
       "['서울시', '부산시', '부산시']"
      ]
     },
     "execution_count": 90,
     "metadata": {},
     "output_type": "execute_result"
    }
   ],
   "source": [
    "location.append(\"부산시\") #append는 list에 값을 추가\n",
    "\n",
    "#print(location)\n",
    "location"
   ]
  },
  {
   "cell_type": "code",
   "execution_count": 43,
   "id": "b90e03cd-47ff-4f1d-b83a-40014e0b8719",
   "metadata": {},
   "outputs": [
    {
     "ename": "TypeError",
     "evalue": "list.append() takes exactly one argument (2 given)",
     "output_type": "error",
     "traceback": [
      "\u001b[1;31m---------------------------------------------------------------------------\u001b[0m",
      "\u001b[1;31mTypeError\u001b[0m                                 Traceback (most recent call last)",
      "Cell \u001b[1;32mIn[43], line 1\u001b[0m\n\u001b[1;32m----> 1\u001b[0m location\u001b[38;5;241m.\u001b[39mappend(\u001b[38;5;124m\"\u001b[39m\u001b[38;5;124m완도군\u001b[39m\u001b[38;5;124m\"\u001b[39m, \u001b[38;5;124m\"\u001b[39m\u001b[38;5;124m해남\u001b[39m\u001b[38;5;124m\"\u001b[39m)\n",
      "\u001b[1;31mTypeError\u001b[0m: list.append() takes exactly one argument (2 given)"
     ]
    }
   ],
   "source": [
    "location.append(\"완도군\", \"해남\")\n",
    "# append 는 하나의 인수만 입력가능"
   ]
  },
  {
   "cell_type": "code",
   "execution_count": 64,
   "id": "7b2ab89e-5e97-4a71-b4f5-a3d1df49bf79",
   "metadata": {},
   "outputs": [
    {
     "data": {
      "text/plain": [
       "'부산시'"
      ]
     },
     "execution_count": 64,
     "metadata": {},
     "output_type": "execute_result"
    }
   ],
   "source": [
    "location[-1] "
   ]
  },
  {
   "cell_type": "code",
   "execution_count": 66,
   "id": "effd4e42-cc80-4027-b190-3c8bc833c92e",
   "metadata": {},
   "outputs": [
    {
     "data": {
      "text/plain": [
       "['경기도', '인천시']"
      ]
     },
     "execution_count": 66,
     "metadata": {},
     "output_type": "execute_result"
    }
   ],
   "source": [
    "location[1:3]"
   ]
  },
  {
   "cell_type": "code",
   "execution_count": 86,
   "id": "375b1b0e-1194-4f94-befc-0e9efbb81d39",
   "metadata": {},
   "outputs": [
    {
     "data": {
      "text/plain": [
       "['서울시', '경기도', '인천시', '부산시']"
      ]
     },
     "execution_count": 86,
     "metadata": {},
     "output_type": "execute_result"
    }
   ],
   "source": [
    "location.remove(\"부산시\")\n",
    "location"
   ]
  },
  {
   "cell_type": "code",
   "execution_count": 87,
   "id": "b09af596-13a2-492d-aaca-c8a5d6ea20d8",
   "metadata": {},
   "outputs": [],
   "source": [
    "location.remove(\"인천시\")"
   ]
  },
  {
   "cell_type": "code",
   "execution_count": 89,
   "id": "000c8612-70da-49ec-bec2-2ebc01cf6d04",
   "metadata": {},
   "outputs": [],
   "source": [
    "del location[1]"
   ]
  },
  {
   "cell_type": "code",
   "execution_count": 91,
   "id": "038a918c-e7a7-4494-891c-bdb943aeeea6",
   "metadata": {},
   "outputs": [],
   "source": [
    "location.extend([\"천안\", \"대구\"])"
   ]
  },
  {
   "cell_type": "code",
   "execution_count": 92,
   "id": "ce243d40-f274-450e-976c-ff16af938f9c",
   "metadata": {},
   "outputs": [
    {
     "data": {
      "text/plain": [
       "['서울시', '부산시', '부산시', '천안', '대구']"
      ]
     },
     "execution_count": 92,
     "metadata": {},
     "output_type": "execute_result"
    }
   ],
   "source": [
    "location"
   ]
  },
  {
   "cell_type": "code",
   "execution_count": 93,
   "id": "507dcb93-6a6e-4f5f-9ef4-82881ca96bba",
   "metadata": {},
   "outputs": [],
   "source": [
    "location.insert(0, \"제주도\")"
   ]
  },
  {
   "cell_type": "code",
   "execution_count": 94,
   "id": "386f09e9-31ed-456d-b296-fb256ec8992e",
   "metadata": {},
   "outputs": [
    {
     "data": {
      "text/plain": [
       "['제주도', '서울시', '부산시', '부산시', '천안', '대구']"
      ]
     },
     "execution_count": 94,
     "metadata": {},
     "output_type": "execute_result"
    }
   ],
   "source": [
    "location"
   ]
  },
  {
   "cell_type": "code",
   "execution_count": 101,
   "id": "58a2b848-31f1-4f24-aede-638dabbc0aeb",
   "metadata": {},
   "outputs": [
    {
     "data": {
      "text/plain": [
       "list"
      ]
     },
     "execution_count": 101,
     "metadata": {},
     "output_type": "execute_result"
    }
   ],
   "source": [
    "location01 = []\n",
    "\n",
    "type(location01)"
   ]
  },
  {
   "cell_type": "code",
   "execution_count": 102,
   "id": "c828458e-3158-495a-873f-c1237fbf9c79",
   "metadata": {},
   "outputs": [],
   "source": [
    "location01.append(\"강원도\")\n"
   ]
  },
  {
   "cell_type": "code",
   "execution_count": 105,
   "id": "13117a3b-5026-40e6-bb92-5ae0bbadbd81",
   "metadata": {},
   "outputs": [
    {
     "data": {
      "text/plain": [
       "['강원도']"
      ]
     },
     "execution_count": 105,
     "metadata": {},
     "output_type": "execute_result"
    }
   ],
   "source": [
    "location01"
   ]
  },
  {
   "cell_type": "code",
   "execution_count": 122,
   "id": "5ce01ffe-c80a-4287-9b0f-333c92f2f00e",
   "metadata": {},
   "outputs": [
    {
     "name": "stdin",
     "output_type": "stream",
     "text": [
      " 3\n"
     ]
    }
   ],
   "source": [
    "a01 = str(input())\n",
    "answers = [] \n",
    "answers.extend(a01)\n",
    "#answers.append(a01)"
   ]
  },
  {
   "cell_type": "code",
   "execution_count": 123,
   "id": "37fe554b-5e5e-4edd-989c-68687437b1c2",
   "metadata": {},
   "outputs": [
    {
     "data": {
      "text/plain": [
       "['3']"
      ]
     },
     "execution_count": 123,
     "metadata": {},
     "output_type": "execute_result"
    }
   ],
   "source": [
    "answers"
   ]
  },
  {
   "cell_type": "code",
   "execution_count": 119,
   "id": "76535061-8f27-4df9-a276-d4186082fcd1",
   "metadata": {},
   "outputs": [
    {
     "name": "stdout",
     "output_type": "stream",
     "text": [
      "<class 'list'>\n"
     ]
    }
   ],
   "source": [
    "location02 = list()\n",
    "print(type(location02))"
   ]
  },
  {
   "cell_type": "code",
   "execution_count": 135,
   "id": "3b828061-3330-43bb-9eb8-43eb91e5de06",
   "metadata": {},
   "outputs": [
    {
     "name": "stdout",
     "output_type": "stream",
     "text": [
      "[2, 1, 4, 3]\n",
      "[1, 2, 3, 4]\n",
      "[4, 3, 2, 1]\n"
     ]
    }
   ],
   "source": [
    "numbers = [2, 1, 4, 3]\n",
    "print(numbers)\n",
    "\n",
    "numbers.sort()\n",
    "print(numbers)\n",
    "\n",
    "numbers.reverse()\n",
    "print(numbers)"
   ]
  },
  {
   "cell_type": "code",
   "execution_count": 149,
   "id": "48a2b541-74e3-4f76-858d-17450fc60426",
   "metadata": {},
   "outputs": [
    {
     "data": {
      "text/plain": [
       "'python'"
      ]
     },
     "execution_count": 149,
     "metadata": {},
     "output_type": "execute_result"
    }
   ],
   "source": [
    "pythonBasic = \"python is easy\" \n",
    "pylist = pythonBasic.split()\n",
    "pylist[0]"
   ]
  },
  {
   "cell_type": "code",
   "execution_count": null,
   "id": "08b9963b-715a-42da-8cd8-007b7794735e",
   "metadata": {},
   "outputs": [],
   "source": []
  }
 ],
 "metadata": {
  "kernelspec": {
   "display_name": "Python [conda env:anaconda3] *",
   "language": "python",
   "name": "conda-env-anaconda3-py"
  },
  "language_info": {
   "codemirror_mode": {
    "name": "ipython",
    "version": 3
   },
   "file_extension": ".py",
   "mimetype": "text/x-python",
   "name": "python",
   "nbconvert_exporter": "python",
   "pygments_lexer": "ipython3",
   "version": "3.13.5"
  }
 },
 "nbformat": 4,
 "nbformat_minor": 5
}
