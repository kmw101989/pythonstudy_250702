{
 "cells": [
  {
   "cell_type": "code",
   "execution_count": 13,
   "id": "624ba97e-e0ae-4ea6-b61d-f2d5c87ef458",
   "metadata": {},
   "outputs": [
    {
     "name": "stdout",
     "output_type": "stream",
     "text": [
      "잔금대출에도 DTI 규제 적용 검토\n"
     ]
    }
   ],
   "source": [
    "import requests as rq\n",
    "from bs4 import BeautifulSoup as bs\n",
    "\n",
    "url =\"https://v.daum.net/v/20170615203441266\"\n",
    "response = rq.get(url)\n",
    "data = bs(response.content, \"html.parser\")\n",
    "data01 = data.find(attrs={\"class\":\"tit_view\",\"data-translation\":\"true\"})\n",
    "print(data01.string)"
   ]
  },
  {
   "cell_type": "code",
   "execution_count": 27,
   "id": "b0e89ebd-77dd-4ff7-a9d8-c505b886133f",
   "metadata": {},
   "outputs": [
    {
     "name": "stdout",
     "output_type": "stream",
     "text": [
      "잔금대출에도 DTI 규제 적용 검토\n"
     ]
    }
   ],
   "source": [
    "import requests as rq\n",
    "from bs4 import BeautifulSoup as bs\n",
    "\n",
    "url =\"https://v.daum.net/v/20170615203441266\"\n",
    "response = rq.get(url)\n",
    "data = bs(response.content, \"html.parser\")\n",
    "data01 = data.find(\"h3\", attrs={\"class\",\"tit_view\"}) #의도한 문법이 아니지만 tit_view 라는 클래스를 자동으로 찾다 찾아진 케이스 \n",
    "\n",
    "print(data01.string)"
   ]
  },
  {
   "cell_type": "code",
   "execution_count": 18,
   "id": "25309ed3-5486-4265-9d05-50ba384013d4",
   "metadata": {},
   "outputs": [
    {
     "name": "stdout",
     "output_type": "stream",
     "text": [
      "잔금대출에도 DTI 규제 적용 검토\n"
     ]
    }
   ],
   "source": [
    "import requests\n",
    "from bs4 import BeautifulSoup \n",
    "\n",
    "res = requests.get(url)\n",
    "soup = BeautifulSoup(res.content, \"html.parser\")\n",
    "mydata = soup.find(\"h3\",\"tit_view\")\n",
    "print(mydata.string)"
   ]
  },
  {
   "cell_type": "code",
   "execution_count": 50,
   "id": "6ff0c193-626d-40a2-b969-6d867c622e3f",
   "metadata": {},
   "outputs": [
    {
     "name": "stdout",
     "output_type": "stream",
     "text": [
      "2017. 6. 15. 20:34\n"
     ]
    }
   ],
   "source": [
    "import requests\n",
    "from bs4 import BeautifulSoup \n",
    "\n",
    "res = requests.get(url)\n",
    "soup = BeautifulSoup(res.content, \"html.parser\")\n",
    "mydata = soup.find(\"span\",\"num_date\")\n",
    "print(mydata.string)\n"
   ]
  },
  {
   "cell_type": "code",
   "execution_count": 61,
   "id": "c98b1c7f-9088-4abf-9270-b61471fc1da3",
   "metadata": {},
   "outputs": [
    {
     "data": {
      "text/plain": [
       "'2017. 6. 15. 20:34'"
      ]
     },
     "execution_count": 61,
     "metadata": {},
     "output_type": "execute_result"
    }
   ],
   "source": [
    "import requests\n",
    "from bs4 import BeautifulSoup \n",
    "\n",
    "res = requests.get(url)\n",
    "soup = BeautifulSoup(res.content, \"html.parser\")\n",
    "mtdata = soup.find_all(\"span\",\"txt_info\")\n",
    "mtdata[1].string\n"
   ]
  },
  {
   "cell_type": "code",
   "execution_count": 106,
   "id": "38483649-2636-48f0-b900-b1449e190c6b",
   "metadata": {},
   "outputs": [
    {
     "name": "stdout",
     "output_type": "stream",
     "text": [
      "\n",
      "(왕초보) - 클래스 소개\n",
      "\n",
      "\n",
      "(왕초보) - 블로그 개발 필요한 준비물 준비하기\n",
      "\n",
      "\n",
      "(왕초보) - Github pages 설정해서 블로그 첫 페이지 만들어보기\n",
      "\n",
      "\n",
      "(왕초보) - 초간단 페이지 만들어보기\n",
      "\n",
      "\n",
      "(왕초보) - 이쁘게 테마 적용해보기\n",
      "\n",
      "\n",
      "(왕초보) - 마크다운 기초 이해하고, 실제 나만의 블로그 페이지\n",
      "          만들기\n",
      "\n",
      "\n",
      "(왕초보) - 다양한 마크다운 기법 익혀보며, 나만의 블로그 페이지\n",
      "          꾸며보기\n",
      "\n",
      "\n",
      "(초급) - 강사가 실제 사용하는 자동 프로그램 소개 [2]\n",
      "\n",
      "\n",
      "(초급) - 필요한 프로그램 설치 시연 [5]\n",
      "\n",
      "\n",
      "(초급) - 데이터를 엑셀 파일로 만들기 [9]\n",
      "\n",
      "\n",
      "(초급) -     엑셀 파일 이쁘게! 이쁘게! [8]\n",
      "\n",
      "\n",
      "(초급) -     나대신 주기적으로 파이썬 프로그램\n",
      "          실행하기 [7]\n",
      "\n",
      "\n",
      "(초급) - 파이썬으로 슬랙(slack) 메신저에 글쓰기 [40]\n",
      "\n",
      "\n",
      "(초급) - 웹사이트 변경사항 주기적으로 체크해서, 메신저로 알람주기\n",
      "          [12]\n",
      "\n",
      "\n",
      "(초급) - 네이버 API 사용해서, 블로그에 글쓰기 [42]\n",
      "\n",
      "\n",
      "(중급) - 자동으로 쿠팡파트너스 API 로 가져온 상품 정보, 네이버\n",
      "          블로그/트위터에 홍보하기 [412]\n",
      "\n"
     ]
    }
   ],
   "source": [
    "import requests as rq\n",
    "from bs4 import BeautifulSoup as bs\n",
    "\n",
    "url =\"https://crawlingtest.netlify.app/\"\n",
    "response = rq.get(url)\n",
    "data = bs(response.content, \"html.parser\")\n",
    "\n",
    "data01 = data.find_all(\"li\",\"course\")\n",
    "\n",
    "for dataset in data01  :\n",
    "    print(dataset.get_text())"
   ]
  },
  {
   "cell_type": "code",
   "execution_count": 94,
   "id": "aca3df46-733a-4622-be06-99d9eb573c69",
   "metadata": {},
   "outputs": [
    {
     "data": {
      "text/plain": [
       "[<a href=\"#\">(왕초보) - 클래스 소개</a>,\n",
       " <a href=\"#\">(왕초보) - 블로그 개발 필요한 준비물 준비하기</a>,\n",
       " <a href=\"#\">(왕초보) - Github pages 설정해서 블로그 첫 페이지 만들어보기</a>,\n",
       " <a href=\"#\">(왕초보) - 초간단 페이지 만들어보기</a>,\n",
       " <a href=\"#\">(왕초보) - 이쁘게 테마 적용해보기</a>,\n",
       " <a href=\"#\">(왕초보) - 마크다운 기초 이해하고, 실제 나만의 블로그 페이지\n",
       "           만들기</a>,\n",
       " <a href=\"#\">(왕초보) - 다양한 마크다운 기법 익혀보며, 나만의 블로그 페이지\n",
       "           꾸며보기</a>,\n",
       " <a href=\"#\">(초급) - 강사가 실제 사용하는 자동 프로그램 소개 [2]</a>,\n",
       " <a href=\"#\">(초급) - 필요한 프로그램 설치 시연 [5]</a>,\n",
       " <a href=\"#\">(초급) - 데이터를 엑셀 파일로 만들기 [9]</a>,\n",
       " <a href=\"#\">(초급) -     엑셀 파일 이쁘게! 이쁘게! [8]</a>,\n",
       " <a href=\"#\">(초급) -     나대신 주기적으로 파이썬 프로그램\n",
       "           실행하기 [7]</a>,\n",
       " <a href=\"#\">(초급) - 파이썬으로 슬랙(slack) 메신저에 글쓰기 [40]</a>,\n",
       " <a href=\"#\">(초급) - 웹사이트 변경사항 주기적으로 체크해서, 메신저로 알람주기\n",
       "           [12]</a>,\n",
       " <a href=\"#\">(초급) - 네이버 API 사용해서, 블로그에 글쓰기 [42]</a>,\n",
       " <a href=\"#\">(중급) - 자동으로 쿠팡파트너스 API 로 가져온 상품 정보, 네이버\n",
       "           블로그/트위터에 홍보하기 [412]</a>]"
      ]
     },
     "execution_count": 94,
     "metadata": {},
     "output_type": "execute_result"
    }
   ],
   "source": [
    "data01 = data.find_all(href=\"#\")\n",
    "#for txt in data01 : \n",
    "    #print(txt)\n",
    "\n",
    "\n",
    "data01"
   ]
  }
 ],
 "metadata": {
  "kernelspec": {
   "display_name": "Python [conda env:anaconda3] *",
   "language": "python",
   "name": "conda-env-anaconda3-py"
  },
  "language_info": {
   "codemirror_mode": {
    "name": "ipython",
    "version": 3
   },
   "file_extension": ".py",
   "mimetype": "text/x-python",
   "name": "python",
   "nbconvert_exporter": "python",
   "pygments_lexer": "ipython3",
   "version": "3.13.5"
  }
 },
 "nbformat": 4,
 "nbformat_minor": 5
}
