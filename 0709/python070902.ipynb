{
 "cells": [
  {
   "cell_type": "markdown",
   "id": "e744a3df-412b-461c-a1b5-8f448d0e3f00",
   "metadata": {},
   "source": [
    "#### 파이썬 크롤링 \n",
    "1. 크롤링을 하는 수많은 프로그래밍 언어와 툴이 존재하는데 왜? 파이썬?\n",
    "    - 파이썬은 라이브러리의 천국이다.\n",
    "    - 라이브러리 => 도서관 => 특정 분야에 대한 전문지식을 습득하기 위해서 해당 책을 빌려보거나 서재에서 기져다가 참고\n",
    "    - 크롤링을 하려고 하는데, A to Z 까지 직접 크롤링을 위한 코드를 작성한다면, 시간 효율이 매우 안좋을 것임\n",
    "    - 파이썬은 미리 크롤링할 수 있도록 도와줄 수 있는 일종의 참고서적을 만들어 놓음 (*참고서적 - 라이브러리)\n",
    "    - 특정 라이브러리를 가져와서 사용하려면 import 라는 예약어 (*명령어)를 사용'\n",
    "    - 만약에 해당 라이브러리가 파이썬에 내장되어있지 않다면 !pip(*python install package) 을 통해 설치를 해야함\n",
    "        - !pip = (python install package)\n",
    "        - ex. !pip install pandas "
   ]
  },
  {
   "cell_type": "code",
   "execution_count": 6,
   "id": "c4d2a2c7-8dc4-49a2-b59d-bb8bbdbef40e",
   "metadata": {},
   "outputs": [],
   "source": [
    "import pandas"
   ]
  },
  {
   "cell_type": "code",
   "execution_count": 24,
   "id": "4c95e5a9-34cb-47ff-96de-1ecc15d9cdb7",
   "metadata": {},
   "outputs": [
    {
     "data": {
      "text/plain": [
       "2.5"
      ]
     },
     "execution_count": 24,
     "metadata": {},
     "output_type": "execute_result"
    }
   ],
   "source": [
    "# import statistics\n",
    "\n",
    "data = [1,2,3,4]\n",
    "#from statistics import * \n",
    "import statistics as stt\n",
    "stt.mean(data)\n",
    "\n",
    "from statistics import mean as m \n",
    "m(data)\n",
    "\n",
    "# from statistics import mean , stdev, median_low\n",
    "# print(mean(data))\n",
    "# print(stdev(data))\n",
    "# median_low(data)\n",
    "# statistics.median(data)\n",
    "# statistics.stdev(data)"
   ]
  },
  {
   "cell_type": "code",
   "execution_count": null,
   "id": "d5df245a-0263-482d-8ddc-e175d892bfe0",
   "metadata": {},
   "outputs": [],
   "source": []
  }
 ],
 "metadata": {
  "kernelspec": {
   "display_name": "Python [conda env:anaconda3] *",
   "language": "python",
   "name": "conda-env-anaconda3-py"
  },
  "language_info": {
   "codemirror_mode": {
    "name": "ipython",
    "version": 3
   },
   "file_extension": ".py",
   "mimetype": "text/x-python",
   "name": "python",
   "nbconvert_exporter": "python",
   "pygments_lexer": "ipython3",
   "version": "3.13.5"
  }
 },
 "nbformat": 4,
 "nbformat_minor": 5
}
