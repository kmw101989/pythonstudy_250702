{
 "cells": [
  {
   "cell_type": "markdown",
   "id": "697c0480-7c26-4592-b6e2-6641db222c24",
   "metadata": {},
   "source": [
    "#### 절차지향 언어가 문제를 해결해가는 과정 \n",
    "\n",
    "- 예: 냉장고에 코끼리를 넣는다\n",
    "- 1. 냉장고 문을 연다 // open fridge_door\n",
    "  2. 코끼리를 냉장고에 넣는다 // insert eliphant into fridge\n",
    "  3. 냉장고 문을 닫는다 // close fridge_door "
   ]
  },
  {
   "cell_type": "markdown",
   "id": "016d49c9-f2b8-4bfb-a981-d30c2abe48f6",
   "metadata": {},
   "source": [
    "#### 객체지향 언어가 문제를 해결해가는 과정 \n",
    "- 예: 냉장고에 코끼리를 넣는다.\n",
    "- 1. 코끼리라는 동물의 정보를 수집해서 해당 동물에 대한 설계도 (*코끼리는 문을 열 수 있고, 안으로 들어갈 수 있는 기능 정의) 를 만든다.\n",
    "  2. 이전 단계에서 만든 설계도를 기반으로 코끼리1 이라는 객체를 하나 만든다.\n",
    "  3. 냉장고라는 사물의 정보를 수집해서 해당 사물에 대한 설계도를 만든다.(*만약 코끼리가 냉장고 안에 들어오면 문이 자동으로 닫히도록 하는 기능을 사전에 정의) \n",
    "  4. 이전 단계에서 만든 냉장고 설계도를 기반으로 냉장고1 이라는 객체를 만든다.\n",
    "  5. 코끼리1 이라는 객체에 \"내장\"되어있는 기능을 호출해서 냉장고1 이라는 객체의 문을 열게 한다\n",
    "  6. 코끼리1 이라는 객체 안에 \"내장\"되어있는 기능을 호출해서 냉장고1 이라는 객체 안으로 들어가게 한다.\n",
    "  7. 냉장고1 이라는 객체 안에 \"내장:되어있는 기능을 호출해서 냉장고1 이라는 객체의 문을 닫게 한다. \n"
   ]
  },
  {
   "cell_type": "markdown",
   "id": "3e138857-92fb-4e39-ad21-0532b85c020e",
   "metadata": {},
   "source": [
    "#### 객체지향 프로그래밍 언어 핵심 요소 \n",
    "1. 어떤 사물 혹은 동물을 나타낼 수 있는 설계도를 객체지향언어에서 class 라 부름\n",
    "   - attribute (*속성) : 코끼리의 다리는 4개 / 코끼리의 코는 1개 = 코는 손의 역할을 함\n",
    "   - method (기능=객체만의 기능을 구현할수 있는 함수) : 코끼리가 냉장고를 보면 자신의 코로 문을 연다 / 코끼리가 냉장고 문을 연다면 그 안으로 들어간다\n",
    "2. 어떤 사물 혹은 동물의 정보를 가지고 있는 설계도를 가지고 객체를 만들어진 객체 : object = 객체\n",
    "   - 객체명.속성 : 객체가 가지고 있는 어떤 정보들을 찾아올 수 있음\n",
    "   - 객체명.메소드함수() : 해당 객체가 가지고 있는 고유한 메소드 함수를 실행하겠다 라는 의미 "
   ]
  },
  {
   "cell_type": "markdown",
   "id": "ab1c7bf2-0786-435e-bf0f-7cdb4cdc9f33",
   "metadata": {},
   "source": [
    "#### 4. class를 활용한 객체 생성 문법 \n",
    "1. 클래스 정의 : class Student -> Student 라는 클래스를 정의하겠다는 의미 class 뒤에는 항상 대분자 있ㅇㅁ \n",
    "2. 클래스 안에 속성과 메서드함수를 정의하려면, 생성자 함수 = 초기화 함수 를 만들어야 함\n",
    "   - __init__ : 클래스를 통해서 객체가 생성될 때 자동으로 호출되는 특별한 함수\n",
    "   - self : __init__ 특별한 함수를 선언할 때, 반드시 첫번째 매개변수로 작성해야 함 => 자기자신 -> 클래스를 통해서 생성되어질 객체 그 당사자\n",
    "   - __init__(self, name, grade) => 클래스를 활용해서 최초에 객체를 생성할 때, name 이라는 속성값과 grade 라는 속성값을 받아서 객체 본인의 속성으로 정의하겠다는 뜻\n",
    "   - 클래스 안에서 생성자 함수를 사용하는 예.\n",
    "   - def __init__(self,name,grade) :\n",
    "         self.name = name\n",
    "         self.grade = grade\n",
    "   - self.name => 클래스 안에 있는 하나의 변수로서 인식\n",
    "   - 생성한 함수를 선언한 이후에 메서드 함수를 선언 => 개발자가 원하는 직관적인 이름으로 메서드함수명을 선언\n",
    "     def study(self):\n",
    "         print(f\"{self.name}가 공부를 열심히 합니다.\")\n",
    "   - 클래스를 통해서 새롭게 탄생한 객체.study(A) => A가 공부를 열심히 합니다.   "
   ]
  },
  {
   "cell_type": "code",
   "execution_count": 4,
   "id": "09ab3041-fc26-4e30-b01d-61980915f405",
   "metadata": {},
   "outputs": [
    {
     "name": "stdout",
     "output_type": "stream",
     "text": [
      "[1, 2, 3, 4]\n"
     ]
    }
   ],
   "source": [
    " #함수 선언\n",
    "def print_string(data) : #data = 참조변수/매개변수 \n",
    "     print(data) \n",
    "\n",
    "#함수 호출 \n",
    "A = [1,2,3,4]\n",
    "print_string(A)"
   ]
  },
  {
   "cell_type": "code",
   "execution_count": 12,
   "id": "a0ad0931-1293-4221-95b3-140e618ba570",
   "metadata": {},
   "outputs": [
    {
     "name": "stdout",
     "output_type": "stream",
     "text": [
      "<class 'str'>\n"
     ]
    }
   ],
   "source": [
    "string = \"Fun Coding\" \n",
    "string.split() #split = 파이썬 내장함수 \n",
    "print(type(string))"
   ]
  },
  {
   "cell_type": "code",
   "execution_count": 33,
   "id": "68ef4b8e-ab20-4a71-aa31-9612e2feca12",
   "metadata": {},
   "outputs": [],
   "source": [
    "class Student : \n",
    "    def __init__(self, name , grade) :\n",
    "        self.name = name\n",
    "        self.grade = grade \n",
    "    def study(self) : \n",
    "        print(f\"{self.name}가 공부를 열심히 합니다.\")\n",
    "    def take_exam(self) : \n",
    "        print(f\"{self.name}가 시험을 봅니다.\")"
   ]
  },
  {
   "cell_type": "code",
   "execution_count": 34,
   "id": "448464f3-4953-4ddb-9487-f236a3c5306e",
   "metadata": {},
   "outputs": [
    {
     "name": "stdout",
     "output_type": "stream",
     "text": [
      "3\n",
      "david가 공부를 열심히 합니다.\n"
     ]
    }
   ],
   "source": [
    "student = Student(\"david\",3)\n",
    "print(student.grade)\n",
    "student.study()"
   ]
  },
  {
   "cell_type": "code",
   "execution_count": 44,
   "id": "141e24e0-f3c9-4f00-836d-fc726d5d87a0",
   "metadata": {},
   "outputs": [
    {
     "name": "stdin",
     "output_type": "stream",
     "text": [
      "당신의 이름 rask,dl\n",
      "당신의 학년 2\n"
     ]
    }
   ],
   "source": [
    "class Test:\n",
    "    def __init__(self, name, grade) : \n",
    "        self.name = name \n",
    "        self.grade = grade \n",
    "    def study(self) : \n",
    "        if int(self.grade) > 3 :\n",
    "            print(f\"{self.name}, 공부하세요.\")\n",
    "\n",
    "test = Test(input(\"당신의 이름\"),input(\"당신의 학년\"))\n",
    "test.study()"
   ]
  }
 ],
 "metadata": {
  "kernelspec": {
   "display_name": "Python [conda env:anaconda3] *",
   "language": "python",
   "name": "conda-env-anaconda3-py"
  },
  "language_info": {
   "codemirror_mode": {
    "name": "ipython",
    "version": 3
   },
   "file_extension": ".py",
   "mimetype": "text/x-python",
   "name": "python",
   "nbconvert_exporter": "python",
   "pygments_lexer": "ipython3",
   "version": "3.13.5"
  }
 },
 "nbformat": 4,
 "nbformat_minor": 5
}
