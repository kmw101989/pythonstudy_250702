{
 "cells": [
  {
   "cell_type": "code",
   "execution_count": 17,
   "id": "d68a0827-addb-45e4-9201-7b0aeff45658",
   "metadata": {},
   "outputs": [
    {
     "name": "stdout",
     "output_type": "stream",
     "text": [
      "[1]크롤링이란?\n",
      "[1]크롤링이란?\n"
     ]
    }
   ],
   "source": [
    "from bs4 import BeautifulSoup as bs\n",
    "\n",
    "\n",
    "html = \"<html>\\\n",
    "            <body>\\\n",
    "                <h1 id='title'>[1]크롤링이란?</h1>\\\n",
    "                <p class='cssstyle'>웹페이지에서 필요한 데이터를 추출하는 것</p>\\\n",
    "                <p id='body'align='center'>파이썬을 중심으로 다양한 웹 크롤링 기술 발달</p>\\\n",
    "            </body>\\\n",
    "         </html>\"\n",
    "soup = bs(html,\"html.parser\")\n",
    "\n",
    "data = soup.find(\"h1\")\n",
    "print(data.get_text())\n",
    "print(data.string)\n"
   ]
  },
  {
   "cell_type": "code",
   "execution_count": 25,
   "id": "709453ba-2e62-467f-8155-f9581b3a1629",
   "metadata": {},
   "outputs": [
    {
     "name": "stdout",
     "output_type": "stream",
     "text": [
      " [1]크롤링이란? 웹페이지에서 필요한 데이터를 추출하는 것 파이썬을 중심으로 다양한 웹 크롤링 기술 발달 \n",
      "<body> <h1 id=\"title\">[1]크롤링이란?</h1> <p class=\"cssstyle\">웹페이지에서 필요한 데이터를 추출하는 것</p> <p align=\"center\" id=\"body\">파이썬을 중심으로 다양한 웹 크롤링 기술 발달</p> </body>\n"
     ]
    }
   ],
   "source": [
    "from bs4 import BeautifulSoup as bs\n",
    "\n",
    "\n",
    "html = \"<html>\\\n",
    "            <body>\\\n",
    "                <h1 id='title'>[1]크롤링이란?</h1>\\\n",
    "                <p class='cssstyle'>웹페이지에서 필요한 데이터를 추출하는 것</p>\\\n",
    "                <p id='body'align='center'>파이썬을 중심으로 다양한 웹 크롤링 기술 발달</p>\\\n",
    "            </body>\\\n",
    "         </html>\"\n",
    "soup = bs(html,\"html.parser\")\n",
    "\n",
    "data = soup.find(\"body\")\n",
    "print(data.get_text()) \n",
    "#.get_text 자식요소의 텍스트를 모두 찾음 \n",
    "print(data) \n",
    "#print(data.string) \n",
    "#.string 대상만의 텍스트만 찾아옴 \n",
    "\n",
    "\n"
   ]
  },
  {
   "cell_type": "code",
   "execution_count": 43,
   "id": "83377fe6-e4c8-4c03-92fb-bc8c399ff33c",
   "metadata": {},
   "outputs": [
    {
     "name": "stdout",
     "output_type": "stream",
     "text": [
      "웹페이지에서 필요한 데이터를 추출하는 것\n"
     ]
    }
   ],
   "source": [
    "from bs4 import BeautifulSoup as bs\n",
    "\n",
    "html = \"<html>\\\n",
    "            <body>\\\n",
    "                <h1 id='title'>[1]크롤링이란?</h1>\\\n",
    "                <p class='cssstyle'>웹페이지에서 필요한 데이터를 추출하는 것</p>\\\n",
    "                <p id='body'align='center'>파이썬을 중심으로 다양한 웹 크롤링 기술 발달</p>\\\n",
    "            </body>\\\n",
    "         </html>\"\n",
    "\n",
    "soup = bs(html,\"html.parser\")\n",
    "data = soup.find(\"p\") # 위에서부터 한 번만 찾으면 종료함 \n",
    "\n",
    "print(data.string)"
   ]
  },
  {
   "cell_type": "code",
   "execution_count": 47,
   "id": "aef305eb-7ffd-4721-a164-6e5996c56c91",
   "metadata": {},
   "outputs": [
    {
     "name": "stdout",
     "output_type": "stream",
     "text": [
      "웹페이지에서 필요한 데이터를 추출하는 것\n",
      "파이썬을 중심으로 다양한 웹 크롤링 기술 발달\n"
     ]
    }
   ],
   "source": [
    "from bs4 import BeautifulSoup as bs\n",
    "\n",
    "html = \"<html>\\\n",
    "            <body>\\\n",
    "                <h1 id='title'>[1]크롤링이란?</h1>\\\n",
    "                <p class='cssstyle'>웹페이지에서 필요한 데이터를 추출하는 것</p>\\\n",
    "                <p id='body'align='center'>파이썬을 중심으로 다양한 웹 크롤링 기술 발달</p>\\\n",
    "            </body>\\\n",
    "         </html>\"\n",
    "\n",
    "soup = bs(html,\"html.parser\")\n",
    "data = soup.find_all(\"p\") # find_all 은 리스트의 형태로 결과를 가져옴 \n",
    "\n",
    "for item in data : \n",
    "    print(item.string)"
   ]
  },
  {
   "cell_type": "code",
   "execution_count": 56,
   "id": "95c3137c-e2d1-4cdf-b671-fb5df3a195fb",
   "metadata": {},
   "outputs": [
    {
     "name": "stdout",
     "output_type": "stream",
     "text": [
      "파이썬을 중심으로 다양한 웹 크롤링 기술 발달\n"
     ]
    }
   ],
   "source": [
    "from bs4 import BeautifulSoup as bs\n",
    "\n",
    "html = \"<html>\\\n",
    "            <body>\\\n",
    "                <h1 id='title'>[1]크롤링이란?</h1>\\\n",
    "                <p class='cssstyle'>웹페이지에서 필요한 데이터를 추출하는 것</p>\\\n",
    "                <p id='body'align='center'>파이썬을 중심으로 다양한 웹 크롤링 기술 발달</p>\\\n",
    "            </body>\\\n",
    "         </html>\"\n",
    "\n",
    "soup = bs(html,\"html.parser\")\n",
    "#data = soup.find(\"p\", attrs={\"id\":\"body\"}) #속성 : class > 객체(property) html문서상 속성 => attribute ->attrs\n",
    "data = soup.find(\"p\", attrs={\"align\":\"center\"}) #속성 : class > 객체(property) html문서상 속성 => attribute ->attrs\n",
    "\n",
    "print(data.string)"
   ]
  },
  {
   "cell_type": "code",
   "execution_count": 73,
   "id": "fa6491ae-c3e3-46f9-91da-a0765838cb8f",
   "metadata": {},
   "outputs": [
    {
     "name": "stdout",
     "output_type": "stream",
     "text": [
      "파이썬을 중심으로 다양한 웹 크롤링 기술 발달-2\n"
     ]
    }
   ],
   "source": [
    "from bs4 import BeautifulSoup as bs\n",
    "\n",
    "html = \"<html>\\\n",
    "            <body>\\\n",
    "                <h1 id='title'>[1]크롤링이란?</h1>\\\n",
    "                <p class='cssstyle'>웹페이지에서 필요한 데이터를 추출하는 것</p>\\\n",
    "                <p id='body01'align='center'>파이썬을 중심으로 다양한 웹 크롤링 기술 발달-1</p>\\\n",
    "                <p id='body02'align='center'>파이썬을 중심으로 다양한 웹 크롤링 기술 발달-2</p>\\\n",
    "            </body>\\\n",
    "         </html>\"\n",
    "\n",
    "soup = bs(html,\"html.parser\")\n",
    "#data = soup.find(\"p\", attrs={\"align\":\"center\",\"id\":\"body02\"}) \n",
    "data = soup.find(\"p\", id = \"body02\") #attrs를 생략하고 id도 찾기 가능 \n",
    "\n",
    "print(data.string)"
   ]
  },
  {
   "cell_type": "code",
   "execution_count": 72,
   "id": "8136f2de-e4c3-4f4a-a20d-91b0ed986049",
   "metadata": {},
   "outputs": [
    {
     "name": "stdout",
     "output_type": "stream",
     "text": [
      "웹페이지에서 필요한 데이터를 추출하는 것-2\n"
     ]
    }
   ],
   "source": [
    "from bs4 import BeautifulSoup as bs\n",
    "\n",
    "html = \"<html>\\\n",
    "            <body>\\\n",
    "                <h1 id='title'>[1]크롤링이란?</h1>\\\n",
    "                <p class='cssstyle01'>웹페이지에서 필요한 데이터를 추출하는 것-1</p>\\\n",
    "                <p class='cssstyle02'>웹페이지에서 필요한 데이터를 추출하는 것-2</p>\\\n",
    "                <p id='body01'align='center'>파이썬을 중심으로 다양한 웹 크롤링 기술 발달-1</p>\\\n",
    "                <p id='body02'align='center'>파이썬을 중심으로 다양한 웹 크롤링 기술 발달-2</p>\\\n",
    "            </body>\\\n",
    "         </html>\"\n",
    "\n",
    "soup = bs(html,\"html.parser\")\n",
    "#data = soup.find(\"p\", attrs={\"align\":\"center\",\"id\":\"body02\"}) \n",
    "#data = soup.find(\"p\",attrs={\"class\":\"cssstyle02\"})\n",
    "\n",
    "#data = soup.find(\"p\",class_ = \"cssstyle02\",) #class_ 로 찾기\n",
    "data = soup.find(\"p\",\"cssstyle02\",) #class_를 쓰지도 않고 찾기 -> class 만의 특별대우 - 약식으로 찾을 수 있음  \n",
    "\n",
    "\n",
    "print(data.string)\n"
   ]
  }
 ],
 "metadata": {
  "kernelspec": {
   "display_name": "Python [conda env:anaconda3] *",
   "language": "python",
   "name": "conda-env-anaconda3-py"
  },
  "language_info": {
   "codemirror_mode": {
    "name": "ipython",
    "version": 3
   },
   "file_extension": ".py",
   "mimetype": "text/x-python",
   "name": "python",
   "nbconvert_exporter": "python",
   "pygments_lexer": "ipython3",
   "version": "3.13.5"
  }
 },
 "nbformat": 4,
 "nbformat_minor": 5
}
