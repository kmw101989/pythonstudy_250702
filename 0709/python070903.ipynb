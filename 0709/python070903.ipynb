{
 "cells": [
  {
   "cell_type": "markdown",
   "id": "f33845a7-c996-422a-a68a-5de6c6b5b7ac",
   "metadata": {},
   "source": [
    "#### 크롤링 기본 문법\n",
    "1. requests\n",
    "2. bs4 "
   ]
  },
  {
   "cell_type": "code",
   "execution_count": 18,
   "id": "9476bfa0-7ab1-48c9-8558-19de09958eaa",
   "metadata": {},
   "outputs": [
    {
     "name": "stdout",
     "output_type": "stream",
     "text": [
      "잔금대출에도 DTI 규제 적용 검토\n"
     ]
    }
   ],
   "source": [
    "import requests as re #alise\n",
    "from bs4 import BeautifulSoup as bs # alise \n",
    "\n",
    "res = re.get(\"https://v.daum.net/v/20170615203441266\")\n",
    "soup = bs(res.content,\"html.parser\")\n",
    "mydata = soup.find(\"title\")\n",
    "\n",
    "print(mydata.get_text())"
   ]
  },
  {
   "cell_type": "code",
   "execution_count": null,
   "id": "49e07474-971e-4578-a9cc-a694ad3d9a84",
   "metadata": {},
   "outputs": [],
   "source": []
  }
 ],
 "metadata": {
  "kernelspec": {
   "display_name": "Python [conda env:anaconda3] *",
   "language": "python",
   "name": "conda-env-anaconda3-py"
  },
  "language_info": {
   "codemirror_mode": {
    "name": "ipython",
    "version": 3
   },
   "file_extension": ".py",
   "mimetype": "text/x-python",
   "name": "python",
   "nbconvert_exporter": "python",
   "pygments_lexer": "ipython3",
   "version": "3.13.5"
  }
 },
 "nbformat": 4,
 "nbformat_minor": 5
}
