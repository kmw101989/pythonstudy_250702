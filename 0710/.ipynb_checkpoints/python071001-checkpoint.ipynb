{
 "cells": [
  {
   "cell_type": "code",
   "execution_count": 11,
   "id": "003f1fab-c30b-4243-bf1b-850052dce1e6",
   "metadata": {
    "scrolled": true
   },
   "outputs": [
    {
     "name": "stdout",
     "output_type": "stream",
     "text": [
      "\n",
      "(왕초보) - 클래스 소개\n",
      "\n",
      "\n",
      "(왕초보) - 블로그 개발 필요한 준비물 준비하기\n",
      "\n",
      "\n",
      "(왕초보) - Github pages 설정해서 블로그 첫 페이지 만들어보기\n",
      "\n",
      "\n",
      "(왕초보) - 초간단 페이지 만들어보기\n",
      "\n",
      "\n",
      "(왕초보) - 이쁘게 테마 적용해보기\n",
      "\n",
      "\n",
      "(왕초보) - 마크다운 기초 이해하고, 실제 나만의 블로그 페이지\n",
      "          만들기\n",
      "\n",
      "\n",
      "(왕초보) - 다양한 마크다운 기법 익혀보며, 나만의 블로그 페이지\n",
      "          꾸며보기\n",
      "\n",
      "\n",
      "(초급) - 강사가 실제 사용하는 자동 프로그램 소개 [2]\n",
      "\n",
      "\n",
      "(초급) - 필요한 프로그램 설치 시연 [5]\n",
      "\n",
      "\n",
      "(초급) - 데이터를 엑셀 파일로 만들기 [9]\n",
      "\n",
      "\n",
      "(초급) -     엑셀 파일 이쁘게! 이쁘게! [8]\n",
      "\n",
      "\n",
      "(초급) -     나대신 주기적으로 파이썬 프로그램\n",
      "          실행하기 [7]\n",
      "\n",
      "\n",
      "(초급) - 파이썬으로 슬랙(slack) 메신저에 글쓰기 [40]\n",
      "\n",
      "\n",
      "(초급) - 웹사이트 변경사항 주기적으로 체크해서, 메신저로 알람주기\n",
      "          [12]\n",
      "\n",
      "\n",
      "(초급) - 네이버 API 사용해서, 블로그에 글쓰기 [42]\n",
      "\n",
      "\n",
      "(중급) - 자동으로 쿠팡파트너스 API 로 가져온 상품 정보, 네이버\n",
      "          블로그/트위터에 홍보하기 [412]\n",
      "\n"
     ]
    }
   ],
   "source": [
    "#https://crawlingtest.netlify.app/ 에서 li 태그, course 클래스 크롤링 \n",
    "import requests \n",
    "from bs4 import BeautifulSoup\n",
    "\n",
    "url = \"https://crawlingtest.netlify.app/\" \n",
    "res = requests.get(url)\n",
    "soup = BeautifulSoup(res.content, \"html.parser\")\n",
    "datas = soup.find_all(\"li\",\"course\")\n",
    "\n",
    "for data in datas :\n",
    "    print(data.get_text())\n"
   ]
  },
  {
   "cell_type": "code",
   "execution_count": 41,
   "id": "cae5cac9-49c9-419f-8037-352829862816",
   "metadata": {},
   "outputs": [
    {
     "name": "stdout",
     "output_type": "stream",
     "text": [
      "1.(왕초보) - 클래스 소개\n",
      "2.(왕초보) - 블로그 개발 필요한 준비물 준비하기\n",
      "3.(왕초보) - Github pages 설정해서 블로그 첫 페이지 만들어보기\n",
      "4.(왕초보) - 초간단 페이지 만들어보기\n",
      "5.(왕초보) - 이쁘게 테마 적용해보기\n",
      "6.(왕초보) - 마크다운 기초 이해하고, 실제 나만의 블로그 페이지\n",
      "          만들기\n",
      "7.(왕초보) - 다양한 마크다운 기법 익혀보며, 나만의 블로그 페이지\n",
      "          꾸며보기\n"
     ]
    }
   ],
   "source": [
    "#https://crawlingtest.netlify.app/ 에서 li 태그, course 클래스 크롤링 \n",
    "import requests \n",
    "from bs4 import BeautifulSoup\n",
    "\n",
    "url = \"https://crawlingtest.netlify.app/\" \n",
    "res = requests.get(url)\n",
    "soup = BeautifulSoup(res.content, \"html.parser\")\n",
    "\n",
    "#data = soup.find(\"ul\", id = \"hobby_course_list\").find_all(\"li\",\"course\") #- 메서드 체인 \n",
    "data = soup.find(\"ul\" , id =\"hobby_course_list\")\n",
    "data01 = data.find_all(\"li\",\"course\")\n",
    "\n",
    "for index, item in enumerate(data01, start=1):  # start=1: 번호 1부터 시작 / strip으로 줄넘김 제거 ㅋ\n",
    "    print(f\"{index}.{item.get_text().strip()}\")\n"
   ]
  },
  {
   "cell_type": "markdown",
   "id": "af61e6a8-ddd3-40a2-8e1e-216977b3bb38",
   "metadata": {},
   "source": [
    "#### 파이썬 크롤링 미션 url : https://crawlingtest.netlify.app/ \n",
    " - 사이트에서 course 라는 클래스를 갖고 있는 li 태그 내부 텍스트를 출력하세요. 단 (왕초보)- 와 같은 난이도,단계를 제거하고 뒤의 설명문만 가져오기 "
   ]
  },
  {
   "cell_type": "code",
   "execution_count": 94,
   "id": "2aebc07a-d908-4ab8-b042-ddd022740ab3",
   "metadata": {},
   "outputs": [
    {
     "name": "stdout",
     "output_type": "stream",
     "text": [
      "1. 클래스 소개\n",
      "2. 블로그 개발 필요한 준비물 준비하기\n",
      "3. Github pages 설정해서 블로그 첫 페이지 만들어보기\n",
      "4. 초간단 페이지 만들어보기\n",
      "5. 이쁘게 테마 적용해보기\n",
      "6. 마크다운 기초 이해하고, 실제 나만의 블로그 페이지 만들기\n",
      "7. 다양한 마크다운 기법 익혀보며, 나만의 블로그 페이지 꾸며보기\n",
      "8. 강사가 실제 사용하는 자동 프로그램 소개 [2]\n",
      "9. 필요한 프로그램 설치 시연 [5]\n",
      "10. 데이터를 엑셀 파일로 만들기 [9]\n",
      "11. 엑셀 파일 이쁘게! 이쁘게! [8]\n",
      "12. 나대신 주기적으로 파이썬 프로그램 실행하기 [7]\n",
      "13. 파이썬으로 슬랙(slack) 메신저에 글쓰기 [40]\n",
      "14. 웹사이트 변경사항 주기적으로 체크해서, 메신저로 알람주기 [12]\n",
      "15. 네이버 API 사용해서, 블로그에 글쓰기 [42]\n",
      "16. 자동으로 쿠팡파트너스 API 로 가져온 상품 정보, 네이버 블로그/트위터에 홍보하기 [412]\n"
     ]
    }
   ],
   "source": [
    "import requests \n",
    "from bs4 import BeautifulSoup\n",
    "\n",
    "url = \"https://crawlingtest.netlify.app/\" \n",
    "res = requests.get(url)\n",
    "soup = BeautifulSoup(res.content, \"html.parser\")\n",
    "\n",
    "\n",
    "data2 = soup.find_all(\"li\",\"course\")\n",
    "# data2[0].get_text().strip(\"\\n\").split(\"-\")[1]\n",
    "\n",
    "# for num in range(0,len(data2)):\n",
    "#     print(data2[num].get_text().strip().split(\"-\")[1])\n",
    "\n",
    "# for item in data2:\n",
    "#     text = item.get_text().replace(\"\\n\", \" \").strip()\n",
    "#     print(text.split(\"-\")[1].strip())\n",
    "\n",
    "import re\n",
    "\n",
    "for idx, item in enumerate(data2, start=1):\n",
    "    text = item.get_text().strip()\n",
    "    text = re.sub(r\"\\s+\", \" \", text)  # 연속된 공백(\\n, \\t, 스페이스 등)을 하나로\n",
    "    if \"-\" in text:\n",
    "        print(f\"{idx}. {text.split('-', 1)[1].strip()}\")\n",
    "\n",
    "\n",
    "# for item in data2 :\n",
    "#      print(item.get_text())"
   ]
  },
  {
   "cell_type": "code",
   "execution_count": 131,
   "id": "e9517aaa-01ab-43dc-8499-be288849a79e",
   "metadata": {},
   "outputs": [
    {
     "name": "stdout",
     "output_type": "stream",
     "text": [
      "클래스 소개\n",
      "블로그 개발 필요한 준비물 준비하기\n",
      "Github pages 설정해서 블로그 첫 페이지 만들어보기\n",
      "초간단 페이지 만들어보기\n",
      "이쁘게 테마 적용해보기\n",
      "마크다운 기초 이해하고, 실제 나만의 블로그 페이지 만들기\n",
      "다양한 마크다운 기법 익혀보며, 나만의 블로그 페이지 꾸며보기\n",
      "강사가 실제 사용하는 자동 프로그램 소개 [2]\n",
      "필요한 프로그램 설치 시연 [5]\n",
      "데이터를 엑셀 파일로 만들기 [9]\n",
      "엑셀 파일 이쁘게! 이쁘게! [8]\n",
      "나대신 주기적으로 파이썬 프로그램 실행하기 [7]\n",
      "파이썬으로 슬랙(slack) 메신저에 글쓰기 [40]\n",
      "웹사이트 변경사항 주기적으로 체크해서, 메신저로 알람주기 [12]\n",
      "네이버 API 사용해서, 블로그에 글쓰기 [42]\n",
      "자동으로 쿠팡파트너스 API 로 가져온 상품 정보, 네이버 블로그/트위터에 홍보하기 [412]\n"
     ]
    }
   ],
   "source": [
    "import requests \n",
    "from bs4 import BeautifulSoup\n",
    "\n",
    "url = \"https://crawlingtest.netlify.app/\" \n",
    "res = requests.get(url)\n",
    "soup = BeautifulSoup(res.content, \"html.parser\")\n",
    "\n",
    "titles = soup.find_all(\"li\",\"course\")\n",
    "\n",
    "for title in titles : \n",
    "    print(title.get_text().split(\"-\")[-1].replace(\"\\n\",\" \").replace(\"  \",\"\").strip()) #repr: 값의 속성을 볼 수 있음 "
   ]
  },
  {
   "cell_type": "code",
   "execution_count": 136,
   "id": "e5e31768-9572-4fd0-9506-25da230745e1",
   "metadata": {},
   "outputs": [
    {
     "name": "stdout",
     "output_type": "stream",
     "text": [
      "1. 클래스 소개\n",
      "2. 블로그 개발 필요한 준비물 준비하기\n",
      "3. Github pages 설정해서 블로그 첫 페이지 만들어보기\n",
      "4. 초간단 페이지 만들어보기\n",
      "5. 이쁘게 테마 적용해보기\n",
      "6. 마크다운 기초 이해하고, 실제 나만의 블로그 페이지 만들기\n",
      "7. 다양한 마크다운 기법 익혀보며, 나만의 블로그 페이지 꾸며보기\n",
      "8. 강사가 실제 사용하는 자동 프로그램 소개\n",
      "9. 필요한 프로그램 설치 시연\n",
      "10. 데이터를 엑셀 파일로 만들기\n",
      "11. 엑셀 파일 이쁘게! 이쁘게!\n",
      "12. 나대신 주기적으로 파이썬 프로그램 실행하기\n",
      "13. 파이썬으로 슬랙(slack) 메신저에 글쓰기\n",
      "14. 웹사이트 변경사항 주기적으로 체크해서, 메신저로 알람주기\n",
      "15. 네이버 API 사용해서, 블로그에 글쓰기\n",
      "16. 자동으로 쿠팡파트너스 API 로 가져온 상품 정보, 네이버 블로그/트위터에 홍보하기\n"
     ]
    }
   ],
   "source": [
    "import requests \n",
    "from bs4 import BeautifulSoup\n",
    "\n",
    "url = \"https://crawlingtest.netlify.app/\" \n",
    "res = requests.get(url)\n",
    "soup = BeautifulSoup(res.content, \"html.parser\")\n",
    "\n",
    "titles = soup.find_all(\"li\",\"course\")\n",
    "\n",
    "for index , title in enumerate(titles , start = 1): \n",
    "    print(f\"{index}. {title.get_text().split(\"-\")[-1].replace(\"\\n\",\" \").replace(\"  \",\"\").split(\"[\")[0].strip()}\")"
   ]
  }
 ],
 "metadata": {
  "kernelspec": {
   "display_name": "Python [conda env:anaconda3] *",
   "language": "python",
   "name": "conda-env-anaconda3-py"
  },
  "language_info": {
   "codemirror_mode": {
    "name": "ipython",
    "version": 3
   },
   "file_extension": ".py",
   "mimetype": "text/x-python",
   "name": "python",
   "nbconvert_exporter": "python",
   "pygments_lexer": "ipython3",
   "version": "3.13.5"
  }
 },
 "nbformat": 4,
 "nbformat_minor": 5
}
