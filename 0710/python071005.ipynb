{
 "cells": [
  {
   "cell_type": "code",
   "execution_count": 3,
   "id": "7a091fb0-6698-40eb-aafb-312c1ccccf0f",
   "metadata": {},
   "outputs": [
    {
     "name": "stdout",
     "output_type": "stream",
     "text": [
      "Defaulting to user installation because normal site-packages is not writeable\n",
      "Requirement already satisfied: openpyxl in c:\\programdata\\anaconda3\\lib\\site-packages (3.1.5)\n",
      "Requirement already satisfied: et-xmlfile in c:\\programdata\\anaconda3\\lib\\site-packages (from openpyxl) (1.1.0)\n",
      "Note: you may need to restart the kernel to use updated packages.\n"
     ]
    }
   ],
   "source": [
    "pip install openpyxl"
   ]
  },
  {
   "cell_type": "code",
   "execution_count": 43,
   "id": "8f95312a-a3b0-4a7b-9cfa-200787e8578a",
   "metadata": {},
   "outputs": [
    {
     "ename": "NameError",
     "evalue": "name 'tmp' is not defined",
     "output_type": "error",
     "traceback": [
      "\u001b[1;31m---------------------------------------------------------------------------\u001b[0m",
      "\u001b[1;31mNameError\u001b[0m                                 Traceback (most recent call last)",
      "Cell \u001b[1;32mIn[43], line 14\u001b[0m\n\u001b[0;32m     11\u001b[0m excel_sheet\u001b[38;5;241m.\u001b[39mappend([\u001b[38;5;124m\"\u001b[39m\u001b[38;5;124mdata1\u001b[39m\u001b[38;5;124m\"\u001b[39m,\u001b[38;5;124m\"\u001b[39m\u001b[38;5;124mdata2\u001b[39m\u001b[38;5;124m\"\u001b[39m,\u001b[38;5;124m\"\u001b[39m\u001b[38;5;124mdata3\u001b[39m\u001b[38;5;124m\"\u001b[39m])\n\u001b[0;32m     13\u001b[0m \u001b[38;5;66;03m#엑셀파일 저장하기 \u001b[39;00m\n\u001b[1;32m---> 14\u001b[0m excel_file\u001b[38;5;241m.\u001b[39msave(tmp\u001b[38;5;241m.\u001b[39mxlsx)\n\u001b[0;32m     16\u001b[0m \u001b[38;5;66;03m#엑셀파일 종료하기\u001b[39;00m\n\u001b[0;32m     17\u001b[0m excel_file\u001b[38;5;241m.\u001b[39mclose()\n",
      "\u001b[1;31mNameError\u001b[0m: name 'tmp' is not defined"
     ]
    }
   ],
   "source": [
    "#openpyxl 라이브러리 불러오기 \n",
    "import openpyxl as xl\n",
    "\n",
    "#Workbook 프로토타입 객체 실행시켜서 하나의 엑셀파일을 생성하겠다는 것을 선언 \n",
    "excel_file = xl.Workbook()\n",
    "\n",
    "#엑셀파일 내부에는 기본적으로 sheet 한개 존재 => 해당 시트를 선택(active) 하겠다는 뜻 \n",
    "excel_sheet = excel_file.active \n",
    "\n",
    "#선택한 엑셀 시트 내부에 데이터 추가 및 삽입하기 \n",
    "excel_sheet.append([\"data1\",\"data2\",\"data3\"])\n",
    "\n",
    "#엑셀파일 저장하기 \n",
    "excel_file.save(tmp.xlsx)\n",
    "\n",
    "#엑셀파일 종료하기\n",
    "excel_file.close()"
   ]
  },
  {
   "cell_type": "code",
   "execution_count": 39,
   "id": "ebc75a08-a979-4648-a1e8-7f4dc4b15496",
   "metadata": {},
   "outputs": [],
   "source": [
    "# 데이터 크롤링 파트 \n",
    "import requests\n",
    "from bs4 import BeautifulSoup\n",
    "\n",
    "product_list = list() #전역변수 \n",
    "url = \"https://davelee-fun.github.io/\"\n",
    "\n",
    "for page_num in range(10): \n",
    "    if page_num == 0 :\n",
    "        res = requests.get(url) \n",
    "    else : \n",
    "        res = requests.get(f\"{url}page{page_num+1}\")\n",
    "    soup = BeautifulSoup(res.content, \"html.parser\")\n",
    "    datas = soup.select(\"div.card\")\n",
    "\n",
    "    for data in datas : \n",
    "        product_name = data.select_one(\"div.card-body > h4\")\n",
    "        product_date = data.select_one(\"div.wrapfooter span.post-date\")\n",
    "        product_info = [product_name.get_text().strip() ,product_date.get_text().strip()]\n",
    "        product_list.append(product_info)\n",
    "\n"
   ]
  },
  {
   "cell_type": "code",
   "execution_count": 44,
   "id": "618a9378-f338-4db5-a247-7712aa7345e0",
   "metadata": {},
   "outputs": [],
   "source": [
    "# 2. 엑셀 시트 저장용 함수 생성 파트 \n",
    "\n",
    "import openpyxl as opxl\n",
    "\n",
    "def write_excel_template(filename, sheetname, listdata) : \n",
    "    excel_file = opxl.Workbook()\n",
    "    excel_sheet = excel_file.active \n",
    "    excel_sheet.column_dimensions[\"A\"].width = 100 #A 열 넓이 설정 \n",
    "\n",
    "    if sheetname != \"\" : \n",
    "        excel_sheet.title = sheetname \n",
    "\n",
    "    for item in listdata : \n",
    "        excel_sheet.append(item)\n",
    "\n",
    "    excel_file.save(filename)\n",
    "    excel_file.close\n"
   ]
  },
  {
   "cell_type": "code",
   "execution_count": 42,
   "id": "7723f698-55f7-474d-b635-c2f67c965a67",
   "metadata": {},
   "outputs": [],
   "source": [
    "#3. 엑셀시트 저장용 함수를 호출 \n",
    "write_excel_template(\"tmp.xlsx\", \"상품정보\", product_list)"
   ]
  }
 ],
 "metadata": {
  "kernelspec": {
   "display_name": "Python [conda env:anaconda3] *",
   "language": "python",
   "name": "conda-env-anaconda3-py"
  },
  "language_info": {
   "codemirror_mode": {
    "name": "ipython",
    "version": 3
   },
   "file_extension": ".py",
   "mimetype": "text/x-python",
   "name": "python",
   "nbconvert_exporter": "python",
   "pygments_lexer": "ipython3",
   "version": "3.13.5"
  }
 },
 "nbformat": 4,
 "nbformat_minor": 5
}
