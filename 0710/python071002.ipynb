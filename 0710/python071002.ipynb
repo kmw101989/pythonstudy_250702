{
 "cells": [
  {
   "cell_type": "code",
   "execution_count": 13,
   "id": "4d840861-a519-4e77-991a-03b1865f47fb",
   "metadata": {},
   "outputs": [
    {
     "name": "stdout",
     "output_type": "stream",
     "text": [
      "나만의 엣지있는 블로그 사이트 만들기\n",
      "\n",
      "당신의 커리어에 파이썬을 입히세요! 자신만의 자동 프로그램까지 가져가는\n",
      "특별한 강의\n",
      "\n"
     ]
    }
   ],
   "source": [
    "import requests as rq\n",
    "from bs4 import BeautifulSoup as bs\n",
    "\n",
    "url =\"https://crawlingtest.netlify.app/\"\n",
    "response = rq.get(url)\n",
    "data = bs(response.content, \"html.parser\")\n",
    "\n",
    "items = data.select(\"h3\")\n",
    "for item in items: \n",
    "    print(item.get_text().replace(\"  \",\"\"))\n"
   ]
  },
  {
   "cell_type": "code",
   "execution_count": 20,
   "id": "5877927c-9180-4180-a4ab-a4e9d75a39fb",
   "metadata": {},
   "outputs": [
    {
     "data": {
      "text/plain": [
       "'메가스터디 크롤링 테스트 페이지'"
      ]
     },
     "execution_count": 20,
     "metadata": {},
     "output_type": "execute_result"
    }
   ],
   "source": [
    "import requests as rq\n",
    "from bs4 import BeautifulSoup as bs\n",
    "\n",
    "url =\"https://crawlingtest.netlify.app/\"\n",
    "response = rq.get(url)\n",
    "data = bs(response.content, \"html.parser\")\n",
    "\n",
    "#items = data.select(\"html > body > h1\") # html 내에 body는 한번 밖에 못 씀 -> 조건에 걸 필요 없음 \n",
    "items = data.select(\"body > h1\")\n",
    "items[0].string"
   ]
  },
  {
   "cell_type": "code",
   "execution_count": 32,
   "id": "f1a138b8-423a-49ab-b032-f8993a650d29",
   "metadata": {},
   "outputs": [
    {
     "name": "stdout",
     "output_type": "stream",
     "text": [
      "<a href=\"#\">(왕초보) - 클래스 소개</a>\n",
      "<a href=\"#\">(왕초보) - 블로그 개발 필요한 준비물 준비하기</a>\n",
      "<a href=\"#\">(왕초보) - Github pages 설정해서 블로그 첫 페이지 만들어보기</a>\n",
      "<a href=\"#\">(왕초보) - 초간단 페이지 만들어보기</a>\n",
      "<a href=\"#\">(왕초보) - 이쁘게 테마 적용해보기</a>\n",
      "<a href=\"#\">(왕초보) - 마크다운 기초 이해하고, 실제 나만의 블로그 페이지\n",
      "          만들기</a>\n",
      "<a href=\"#\">(왕초보) - 다양한 마크다운 기법 익혀보며, 나만의 블로그 페이지\n",
      "          꾸며보기</a>\n",
      "<a href=\"#\">(초급) - 강사가 실제 사용하는 자동 프로그램 소개 [2]</a>\n",
      "<a href=\"#\">(초급) - 필요한 프로그램 설치 시연 [5]</a>\n",
      "<a href=\"#\">(초급) - 데이터를 엑셀 파일로 만들기 [9]</a>\n",
      "<a href=\"#\">(초급) -     엑셀 파일 이쁘게! 이쁘게! [8]</a>\n",
      "<a href=\"#\">(초급) -     나대신 주기적으로 파이썬 프로그램\n",
      "          실행하기 [7]</a>\n",
      "<a href=\"#\">(초급) - 파이썬으로 슬랙(slack) 메신저에 글쓰기 [40]</a>\n",
      "<a href=\"#\">(초급) - 웹사이트 변경사항 주기적으로 체크해서, 메신저로 알람주기\n",
      "          [12]</a>\n",
      "<a href=\"#\">(초급) - 네이버 API 사용해서, 블로그에 글쓰기 [42]</a>\n",
      "<a href=\"#\">(중급) - 자동으로 쿠팡파트너스 API 로 가져온 상품 정보, 네이버\n",
      "          블로그/트위터에 홍보하기 [412]</a>\n"
     ]
    }
   ],
   "source": [
    "import requests as rq\n",
    "from bs4 import BeautifulSoup as bs\n",
    "\n",
    "response = rq.get(\"https://crawlingtest.netlify.app/\")\n",
    "data = bs(response.content, \"html.parser\")\n",
    "\n",
    "items = data.select(\"ul a\") #li : ul의 후손 \n",
    "for item in items: \n",
    "    print(item)"
   ]
  },
  {
   "cell_type": "code",
   "execution_count": 40,
   "id": "5bae64b6-a847-4f4e-92aa-3cd93626a85c",
   "metadata": {},
   "outputs": [
    {
     "data": {
      "text/plain": [
       "[<li class=\"course\">\n",
       " <a href=\"#\">(왕초보) - 클래스 소개</a>\n",
       " </li>,\n",
       " <li class=\"course\">\n",
       " <a href=\"#\">(왕초보) - 블로그 개발 필요한 준비물 준비하기</a>\n",
       " </li>,\n",
       " <li class=\"course\">\n",
       " <a href=\"#\">(왕초보) - Github pages 설정해서 블로그 첫 페이지 만들어보기</a>\n",
       " </li>,\n",
       " <li class=\"course\">\n",
       " <a href=\"#\">(왕초보) - 초간단 페이지 만들어보기</a>\n",
       " </li>,\n",
       " <li class=\"course\">\n",
       " <a href=\"#\">(왕초보) - 이쁘게 테마 적용해보기</a>\n",
       " </li>,\n",
       " <li class=\"course\">\n",
       " <a href=\"#\">(왕초보) - 마크다운 기초 이해하고, 실제 나만의 블로그 페이지\n",
       "           만들기</a>\n",
       " </li>,\n",
       " <li class=\"course\">\n",
       " <a href=\"#\">(왕초보) - 다양한 마크다운 기법 익혀보며, 나만의 블로그 페이지\n",
       "           꾸며보기</a>\n",
       " </li>]"
      ]
     },
     "execution_count": 40,
     "metadata": {},
     "output_type": "execute_result"
    }
   ],
   "source": [
    "import requests as rq\n",
    "from bs4 import BeautifulSoup as bs\n",
    "\n",
    "response = rq.get(\"https://crawlingtest.netlify.app/\")\n",
    "data = bs(response.content, \"html.parser\")\n",
    "\n",
    "# items = data.select(\".course\")\n",
    "items = data.select(\"#hobby_course_list .course\")  #선택자로 찾을 때는 띄어쓰기나 온점/해쉬 등에 민감하니 주의 \n",
    "#items = data.select(\"#hobby_course_list.course\")  # hobby_course_list의 id를 가지면서 동시에 course 라는 클래스를 가진 것을 찾게 됨 ex <h2 id=\"hobby_course_list\" class=\"course\">\n",
    "items\n",
    "# for item in items : \n",
    "#     print(item.get_text())"
   ]
  },
  {
   "cell_type": "code",
   "execution_count": 55,
   "id": "70d97dce-6716-4d18-bd01-8571f3c0f903",
   "metadata": {},
   "outputs": [
    {
     "name": "stdout",
     "output_type": "stream",
     "text": [
      "\n",
      "(왕초보) - 클래스 소개\n",
      "\n"
     ]
    }
   ],
   "source": [
    "import requests as rq\n",
    "from bs4 import BeautifulSoup as bs\n",
    "\n",
    "response = rq.get(\"https://crawlingtest.netlify.app/\")\n",
    "data = bs(response.content, \"html.parser\")\n",
    "\n",
    "items = data.select(\"#specialad.course\")\n",
    "print(items[0].get_text())"
   ]
  },
  {
   "cell_type": "code",
   "execution_count": 65,
   "id": "5278825f-00ab-4070-b777-e9001f00fb6b",
   "metadata": {},
   "outputs": [
    {
     "data": {
      "text/plain": [
       "<li class=\"course\" id=\"specialad\">\n",
       "<a href=\"#\">(왕초보) - 클래스 소개</a>\n",
       "</li>"
      ]
     },
     "execution_count": 65,
     "metadata": {},
     "output_type": "execute_result"
    }
   ],
   "source": [
    "import requests as rq\n",
    "from bs4 import BeautifulSoup as bs\n",
    "\n",
    "response = rq.get(\"https://crawlingtest.netlify.app/\")\n",
    "data = bs(response.content, \"html.parser\")\n",
    "\n",
    "#items = data.select(\".course.maintitle\")\n",
    "#items = data.select(\"body #hobby_course_list > .course#specialad\")\n",
    "items = data.select_one(\"body #hobby_course_list > .course#specialad\") #_one 으로 리스트 형식 말고 한개만 찾아옴 = find \n",
    "items"
   ]
  },
  {
   "cell_type": "code",
   "execution_count": 81,
   "id": "000ee172-7cc6-4973-bdfb-bd79f9795243",
   "metadata": {},
   "outputs": [
    {
     "name": "stdout",
     "output_type": "stream",
     "text": [
      " 일정 / 커리큘럼 타이틀 / 난이도\n",
      " 5.1 ~ 6.15 / 나만의 엣지있는 블로그 사이트 만들기 (취미로 익히는 IT) / 초급\n",
      " 6.16 ~ 7.31 / 파이썬과 데이터과학 첫걸음 (IT 기본기 익히기) / 중급\n"
     ]
    }
   ],
   "source": [
    "import requests as rq\n",
    "from bs4 import BeautifulSoup as bs\n",
    "\n",
    "response = rq.get(\"https://crawlingtest.netlify.app/\")\n",
    "data = bs(response.content, \"html.parser\")\n",
    "\n",
    "trs = data.select(\"tr\")\n",
    "\n",
    "# for tr in trs: \n",
    "#     tds = tr.select(\"td\")\n",
    "#     for td in tds :\n",
    "#         print(td.get_text())\n",
    "\n",
    "for tr in trs : \n",
    "    tds = tr.find_all(\"td\")\n",
    "    row_str = \"\"  \n",
    "    for td in tds :\n",
    "        row_str += f\" / {td.get_text()}\"\n",
    "    print(row_str[2:])"
   ]
  },
  {
   "cell_type": "code",
   "execution_count": 85,
   "id": "7f23d927-6261-484c-9cba-3b071973111f",
   "metadata": {},
   "outputs": [
    {
     "name": "stdout",
     "output_type": "stream",
     "text": [
      "[<td>일정</td>, <td>커리큘럼 타이틀</td>, <td>난이도</td>]\n",
      "[<td>5.1 ~ 6.15</td>, <td>나만의 엣지있는 블로그 사이트 만들기 (취미로 익히는 IT)</td>, <td>초급</td>]\n",
      "[<td>6.16 ~ 7.31</td>, <td>파이썬과 데이터과학 첫걸음 (IT 기본기 익히기)</td>, <td>중급</td>]\n"
     ]
    }
   ],
   "source": [
    "import requests as rq\n",
    "from bs4 import BeautifulSoup as bs\n",
    "\n",
    "response = rq.get(\"https://crawlingtest.netlify.app/\")\n",
    "data = bs(response.content, \"html.parser\")\n",
    "\n",
    "trs = data.select(\"tr\")\n",
    "\n",
    "for tr in trs: \n",
    "    tds = tr.find_all(\"td\")\n",
    "    print(tds)"
   ]
  },
  {
   "cell_type": "code",
   "execution_count": null,
   "id": "243c1ac1-ac7c-4207-b7dd-34eaff402d9d",
   "metadata": {},
   "outputs": [],
   "source": []
  },
  {
   "cell_type": "code",
   "execution_count": null,
   "id": "221bbd44-6045-4cc2-8c41-09b0e068e51f",
   "metadata": {},
   "outputs": [],
   "source": []
  }
 ],
 "metadata": {
  "kernelspec": {
   "display_name": "Python [conda env:anaconda3] *",
   "language": "python",
   "name": "conda-env-anaconda3-py"
  },
  "language_info": {
   "codemirror_mode": {
    "name": "ipython",
    "version": 3
   },
   "file_extension": ".py",
   "mimetype": "text/x-python",
   "name": "python",
   "nbconvert_exporter": "python",
   "pygments_lexer": "ipython3",
   "version": "3.13.5"
  }
 },
 "nbformat": 4,
 "nbformat_minor": 5
}
