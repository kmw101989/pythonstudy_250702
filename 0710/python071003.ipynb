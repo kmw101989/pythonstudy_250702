{
 "cells": [
  {
   "cell_type": "markdown",
   "id": "107e8f84-08e5-4b09-8baf-0edeb951cff6",
   "metadata": {},
   "source": [
    "#### 1. 다음 사이트를 크롤링 할 수 있도록 bs4 , resquest를 활용해서 기본 세팅해주세요 \n",
    " - https://davelee-fun.github.io/\n",
    "   "
   ]
  },
  {
   "cell_type": "code",
   "execution_count": 78,
   "id": "7fd6fddf-a92a-4eaf-b1de-b44f070ada4b",
   "metadata": {},
   "outputs": [],
   "source": [
    "import requests\n",
    "from bs4 import BeautifulSoup as bs\n",
    "\n",
    "#이는 메인페이지만 추적하는 것임 - 하위 페이지 크롤링을 하기 쉽게 하는 법 = 메인페이지를 url 과 같은 변수에 할당 \n",
    "url = \"https://davelee-fun.github.io/\"\n",
    "res = requests.get(\"https://davelee-fun.github.io/\") \n",
    "soup = bs(res.content , \"html.parser\")\n",
    "\n",
    "res = requests.get(f\"{url}product-83/\") # product-83 이라는 하위 페이지 크롤링 "
   ]
  },
  {
   "cell_type": "markdown",
   "id": "aa48db08-fa22-4bfb-a19b-5abe4c9baf13",
   "metadata": {},
   "source": [
    "#### 2.  현재 쇼핑몰 내 우측 상단 blog, about 메뉴명을 크롤링해서 출력해주세요"
   ]
  },
  {
   "cell_type": "code",
   "execution_count": 17,
   "id": "8c5f301d-d875-45b1-9ea4-3d8564ab2284",
   "metadata": {},
   "outputs": [
    {
     "name": "stdout",
     "output_type": "stream",
     "text": [
      "Blog\n",
      "About\n"
     ]
    }
   ],
   "source": [
    "# 현재 쇼핑몰 내 우측 상단 blog, about 메뉴명을 크롤링해서 출력해주세요\n",
    "import requests\n",
    "from bs4 import BeautifulSoup as bs\n",
    "\n",
    "res = requests.get(\"https://davelee-fun.github.io/\")\n",
    "soup = bs(res.content , \"html.parser\")\n",
    "\n",
    "data = soup.select(\".nav-link\")\n",
    "for item in data : \n",
    "    print(item.get_text())"
   ]
  },
  {
   "cell_type": "markdown",
   "id": "0b5abd96-d157-4555-9d1e-defdc31afc65",
   "metadata": {},
   "source": [
    "#### 3. 현재 찾아온 메뉴명 중에서 가상 클래스 active가 적용된 메뉴명만 출력해주세요"
   ]
  },
  {
   "cell_type": "code",
   "execution_count": 31,
   "id": "a426c358-1822-405e-9099-11c7d05c2e4b",
   "metadata": {},
   "outputs": [
    {
     "name": "stdout",
     "output_type": "stream",
     "text": [
      "About\n"
     ]
    }
   ],
   "source": [
    "import requests\n",
    "from bs4 import BeautifulSoup as bs\n",
    "\n",
    "res = requests.get(\"https://davelee-fun.github.io/\")\n",
    "soup = bs(res.content , \"html.parser\")\n",
    "\n",
    "data = soup.select_one(\"li.nav-link.active\")\n",
    "print(item.get_text().strip())\n",
    "\n",
    "#for item in data : \n",
    "#    print(item.get_text())"
   ]
  },
  {
   "cell_type": "markdown",
   "id": "391c03b8-c2ee-459c-9af2-25d6519b7ff6",
   "metadata": {},
   "source": [
    "#### 4. 현재 사이트에서 sitetitle 이라는 클래스 값을 가지고 있는 h1 태그 안 텍스트 출력 "
   ]
  },
  {
   "cell_type": "code",
   "execution_count": 38,
   "id": "724067b0-152a-42f9-a8c6-0f53e8493f4e",
   "metadata": {},
   "outputs": [
    {
     "data": {
      "text/plain": [
       "'Teddy의 선물 블로그'"
      ]
     },
     "execution_count": 38,
     "metadata": {},
     "output_type": "execute_result"
    }
   ],
   "source": [
    "import requests\n",
    "from bs4 import BeautifulSoup as bs\n",
    "\n",
    "res = requests.get(\"https://davelee-fun.github.io/\")\n",
    "soup = bs(res.content , \"html.parser\")\n",
    "\n",
    "data = soup.select_one(\".sitetitle\")\n",
    "data.string"
   ]
  },
  {
   "cell_type": "markdown",
   "id": "192e090c-4968-4e77-8732-a45b8cf29ed5",
   "metadata": {},
   "source": [
    "#### 5.  현재 사이트에서 \"선물하기 좋은 선물을 고르고 골라서 소개하는 블로그입니다\" 라는 서브타이틀 찾아서 출력 "
   ]
  },
  {
   "cell_type": "code",
   "execution_count": 42,
   "id": "679a039d-4827-4baf-befc-6dfb6a124d93",
   "metadata": {},
   "outputs": [
    {
     "name": "stdout",
     "output_type": "stream",
     "text": [
      "선물하기 좋은 선물을 고르고 골라서 소개하는 블로그입니다.\n"
     ]
    }
   ],
   "source": [
    "import requests\n",
    "from bs4 import BeautifulSoup as bs\n",
    "\n",
    "res = requests.get(\"https://davelee-fun.github.io/\")\n",
    "soup = bs(res.content , \"html.parser\")\n",
    "\n",
    "data = soup.select_one(\".lead\")\n",
    "print(data.string.strip(\"\\n \"))"
   ]
  },
  {
   "cell_type": "markdown",
   "id": "cff559c4-fa36-4d1b-aef2-4c136a5a48f3",
   "metadata": {},
   "source": [
    "#### 6. 현재 사이트에서 featured 카테고리에 속해있는 상품들의 상품명만 가져와서 출력 "
   ]
  },
  {
   "cell_type": "code",
   "execution_count": 59,
   "id": "3359ddaa-a52f-4424-a84f-9200803d1364",
   "metadata": {},
   "outputs": [
    {
     "name": "stdout",
     "output_type": "stream",
     "text": [
      "보몽드 순면스퀘어 솔리드 누빔매트커버\n",
      "슈에뜨룸 선인장 리플 침구 세트\n",
      "선우랜드 레인보우 2단 문걸이용 옷걸이 _중형\n",
      "보드래 헬로우 누빔 매트리스커버\n",
      "보드래 퍼펙트 누빔 매트리스커버\n",
      "피아블 클래식 방수 매트리스커버\n",
      "더자리 에코항균 마이크로 매트리스커버\n",
      "더자리 프레쉬 퓨어 매트리스 커버\n",
      "몽쉐어 알러스킨 항균 매트리스 커버\n",
      "쿠팡 브랜드 - 코멧 홈 40수 트윌 순면 100% 홑겹 매트리스커버\n",
      "패브릭아트 항균 마이크로 원단 매트리스 커버\n",
      "바숨 순면 누빔 침대 매트리스커버\n",
      "WEMAX 다용도 문옷걸이\n",
      "타카타카 프리미엄 나노 화이바 누빔 매트리스 커버\n",
      "보몽드 순면스퀘어 누빔매트커버\n",
      "보드래 국내산 순면 60수 누빔 매트리스커버\n"
     ]
    }
   ],
   "source": [
    "import requests\n",
    "from bs4 import BeautifulSoup as bs\n",
    "\n",
    "res = requests.get(\"https://davelee-fun.github.io/\")\n",
    "soup = bs(res.content , \"html.parser\")\n",
    "\n",
    "data = soup.select(\"h4.card-text\")\n",
    "for item in data:\n",
    "    print(item.string.strip(\"\\n 상품명:\").split(\",\")[0])"
   ]
  },
  {
   "cell_type": "markdown",
   "id": "7ca01f0e-b79e-4b27-84f9-a9f1922e2106",
   "metadata": {},
   "source": [
    "#### 7. 현재 사이트에서 all stories 카테고리에 속해있는 상품들의 상품명 출력 "
   ]
  },
  {
   "cell_type": "code",
   "execution_count": 92,
   "id": "8fe2fc3d-404a-4ed7-a2b1-c179076800ac",
   "metadata": {},
   "outputs": [
    {
     "name": "stdout",
     "output_type": "stream",
     "text": [
      " 보드래 퍼펙트 누빔 매트리스커버\n",
      " 피아블 클래식 방수 매트리스커버\n",
      " 더자리 에코항균 마이크로 매트리스커버\n",
      " 더자리 프레쉬 퓨어 매트리스 커버\n",
      " 몽쉐어 알러스킨 항균 매트리스 커버\n",
      " 쿠팡 브랜드 - 코멧 홈 40수 트윌 순면 100% 홑겹 매트리스커버\n",
      " 패브릭아트 항균 마이크로 원단 매트리스 커버\n",
      " 바숨 순면 누빔 침대 매트리스커버\n",
      " WEMAX 다용도 문옷걸이\n",
      " 타카타카 프리미엄 나노 화이바 누빔 매트리스 커버\n",
      " 보몽드 순면스퀘어 누빔매트커버\n",
      " 보드래 국내산 순면 60수 누빔 매트리스커버\n"
     ]
    }
   ],
   "source": [
    "res = requests.get(url)\n",
    "soup = bs(res.content , \"html.parser\")\n",
    "\n",
    "data = soup.select(\".row.listrecent h4\")\n",
    "for item in data : \n",
    "    print(item.string.strip(\"상품명:\").split(\",\")[0])"
   ]
  },
  {
   "cell_type": "code",
   "execution_count": 90,
   "id": "1f320d8e-f5bb-4189-a788-5b54e75f0cc6",
   "metadata": {},
   "outputs": [
    {
     "name": "stdout",
     "output_type": "stream",
     "text": [
      " 보드래 퍼펙트 누빔 매트리스커버, 차콜\n",
      " 피아블 클래식 방수 매트리스커버, 화이트\n",
      " 더자리 에코항균 마이크로 매트리스커버, 밀키차콜그레이\n",
      " 더자리 프레쉬 퓨어 매트리스 커버, 퓨어 차콜그레이\n",
      " 몽쉐어 알러스킨 항균 매트리스 커버, 카키그레이\n",
      " 쿠팡 브랜드 - 코멧 홈 40수 트윌 순면 100% 홑겹 매트리스커버, 그레이\n",
      " 패브릭아트 항균 마이크로 원단 매트리스 커버, 아이보리\n",
      " 바숨 순면 누빔 침대 매트리스커버, 차콜\n",
      " WEMAX 다용도 문옷걸이, 화이트, 1개\n",
      " 타카타카 프리미엄 나노 화이바 누빔 매트리스 커버, 젠틀핑핑\n",
      " 보몽드 순면스퀘어 누빔매트커버, 다크그레이\n",
      " 보드래 국내산 순면 60수 누빔 매트리스커버, 그레이\n"
     ]
    }
   ],
   "source": [
    "res = requests.get(url)\n",
    "soup = bs(res.content , \"html.parser\")\n",
    "\n",
    "\n",
    "allstories = soup.select_one(\".recent-posts\")\n",
    "items = allstories.select(\"h4.card-text\")\n",
    "for item in items :\n",
    "    print(item.string.strip().split(\":\")[1])"
   ]
  },
  {
   "cell_type": "markdown",
   "id": "a64bd5a3-d9c8-4876-9528-b96930ff8b75",
   "metadata": {},
   "source": [
    "#### 8. 현재 사이트에서 never miss a story... 문장을 가져와서 출력 "
   ]
  },
  {
   "cell_type": "code",
   "execution_count": 115,
   "id": "80995c60-261a-4ffd-ae0c-b8090dcbd409",
   "metadata": {},
   "outputs": [
    {
     "name": "stdout",
     "output_type": "stream",
     "text": [
      "Never miss a story from us, subscribe to our newsletter\n"
     ]
    }
   ],
   "source": [
    "\n",
    "texts = soup.select(\".alertbar span\")\n",
    "print(text.get_text().strip())"
   ]
  },
  {
   "cell_type": "code",
   "execution_count": null,
   "id": "bb042240-eb95-4917-877d-3d1ddcb4d509",
   "metadata": {},
   "outputs": [],
   "source": []
  }
 ],
 "metadata": {
  "kernelspec": {
   "display_name": "Python [conda env:anaconda3] *",
   "language": "python",
   "name": "conda-env-anaconda3-py"
  },
  "language_info": {
   "codemirror_mode": {
    "name": "ipython",
    "version": 3
   },
   "file_extension": ".py",
   "mimetype": "text/x-python",
   "name": "python",
   "nbconvert_exporter": "python",
   "pygments_lexer": "ipython3",
   "version": "3.13.5"
  }
 },
 "nbformat": 4,
 "nbformat_minor": 5
}
